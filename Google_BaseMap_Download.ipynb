{
  "nbformat": 4,
  "nbformat_minor": 0,
  "metadata": {
    "colab": {
      "provenance": [],
      "gpuType": "T4"
    },
    "kernelspec": {
      "name": "python3",
      "display_name": "Python 3"
    },
    "language_info": {
      "name": "python"
    },
    "accelerator": "GPU"
  },
  "cells": [
    {
      "cell_type": "markdown",
      "source": [
        "---------\n",
        "**Block 1: Import Libraries & Setup Authentication**\n",
        "- **Purpose:** Initialize libraries and set up the environment.\n",
        "- **Input:** User's environment choice (Colab or local Jupyter).\n",
        "- **Output:** Authenticated environment with required packages imported and, if applicable, Google Drive mounted.\n"
      ],
      "metadata": {
        "id": "VEdIs_O7B_QP"
      }
    },
    {
      "cell_type": "code",
      "source": [
        "# -----------------------------------------------------------------------------\n",
        "# Block 1: Import all libraries and Setup Authentication & Environment\n",
        "# -----------------------------------------------------------------------------\n",
        "\n",
        "import geemap\n",
        "import os\n",
        "\n",
        "# ---------------------------------------------------------------------------\n",
        "# Ask user if they are working in Google Colab or local Jupyter\n",
        "# ---------------------------------------------------------------------------\n",
        "env_choice = input(\"\\nAre you working in Google Colab or local Jupyter? (colab/jupyter): \").strip().lower()\n",
        "if env_choice == \"colab\":\n",
        "    try:\n",
        "        from google.colab import drive\n",
        "        drive.mount('/content/drive')\n",
        "        print(\"Google Drive mounted successfully.\")\n",
        "    except Exception as e:\n",
        "        print(\"Error mounting Google Drive:\", e)\n",
        "    # Install necessary packages in Colab if not already installed.\n",
        "    try:\n",
        "        !pip install leafmap localtileserver\n",
        "    except Exception as e:\n",
        "        print(\"Error installing required packages:\", e)\n",
        "else:\n",
        "    print(\"Proceeding with local Jupyter environment.\")\n",
        "\n",
        "import leafmap\n",
        "import localtileserver\n",
        "\n",
        "print(\"\\n===============================================\")\n",
        "print(\"= Block 1: Setup and Authentication completed =\")\n",
        "print(\"===============================================\")"
      ],
      "metadata": {
        "id": "HLblrGnU_4fb"
      },
      "execution_count": null,
      "outputs": []
    },
    {
      "cell_type": "markdown",
      "source": [
        "------------------\n",
        "**Block 2: Visualize Base Map for ROI**\n",
        "- **Purpose:** Display an interactive satellite basemap for drawing a region of interest (ROI).\n",
        "- **Input:** Map center coordinates, zoom level, and display dimensions.\n",
        "- **Output:** A map with a satellite imagery basemap ready for ROI selection.\n",
        "- **Note:** Draw polygon with features on the left side of the window."
      ],
      "metadata": {
        "id": "tPhaE1-JCN9X"
      }
    },
    {
      "cell_type": "code",
      "source": [
        "# -----------------------------------------------------------------------------\n",
        "# Block 2: Visualize Google Base Map to Draw Polygon on ROI\n",
        "# -----------------------------------------------------------------------------\n",
        "\n",
        "m = leafmap.Map(center=[38.5449, -121.7405], zoom=12, height=\"800px\")\n",
        "m.add_basemap(\"SATELLITE\")\n",
        "m"
      ],
      "metadata": {
        "id": "vJAXXcjWaPTi"
      },
      "execution_count": null,
      "outputs": []
    },
    {
      "cell_type": "markdown",
      "source": [
        "--------------\n",
        "**Block 3: Save Tiff File of ROI**\n",
        "- **Purpose:** Capture a user-defined bounding box (ROI) and save it as a GeoTIFF file.\n",
        "- **Input:** User-drawn bounding box and a Google Drive base directory provided by the user.\n",
        "- **Output:** A GeoTIFF file saved in an `EarthEngineDownload` folder within the specified Google Drive directory."
      ],
      "metadata": {
        "id": "cUEuMjHgCVG3"
      }
    },
    {
      "cell_type": "code",
      "source": [
        "# -----------------------------------------------------------------------------\n",
        "# Block 3: Saving Tiff File of ROI\n",
        "# -----------------------------------------------------------------------------\n",
        "\n",
        "#Saving drawn bounding box\n",
        "bbox = m.user_roi_bounds()\n",
        "\n",
        "# Prompt the user to input the base directory in Google Drive\n",
        "base_dir = input(\"Enter your Google Drive base directory (e.g., '/content/drive/MyDrive'): \")\n",
        "\n",
        "# Define the download folder path\n",
        "download_folder = os.path.join(base_dir, \"EarthEngineDownload\")\n",
        "\n",
        "# Create the folder if it does not exist\n",
        "if not os.path.exists(download_folder):\n",
        "    os.makedirs(download_folder)\n",
        "    print(f\"Created folder: {download_folder}\")\n",
        "else:\n",
        "    print(f\"Folder already exists: {download_folder}\")\n",
        "\n",
        "# Define the output file path within the EarthEngineDownload folder\n",
        "output_path = os.path.join(download_folder, \"Google_Map_Image.tif\")\n",
        "\n",
        "# Use leafmap to download the satellite tiles as a GeoTIFF image\n",
        "leafmap.map_tiles_to_geotiff(\n",
        "    output=output_path,\n",
        "    bbox=bbox,\n",
        "    zoom=19,\n",
        "    source=\"Satellite\",\n",
        "    overwrite=True\n",
        ")\n",
        "\n",
        "print(f\"GeoTIFF saved to: {output_path}\")"
      ],
      "metadata": {
        "id": "CxTRnfz3anaB"
      },
      "execution_count": null,
      "outputs": []
    },
    {
      "cell_type": "markdown",
      "source": [
        "---------\n",
        "**Block 4: Display the Downloaded Tiff on Map**\n",
        "- **Purpose:** Overlay the downloaded GeoTIFF image onto the map and hide the original basemap.\n",
        "- **Input:** File path to the saved GeoTIFF image.\n",
        "- **Output:** An updated map displaying only the GeoTIFF image layer."
      ],
      "metadata": {
        "id": "U4GtDmSmCaCl"
      }
    },
    {
      "cell_type": "code",
      "source": [
        "# -----------------------------------------------------------------------------\n",
        "# Block 4: Show the Final Tiff File on Map\n",
        "# -----------------------------------------------------------------------------\n",
        "\n",
        "m.layers[-1].visible = False\n",
        "m.add_raster(output_path, layer_name=\"Image\")\n",
        "m"
      ],
      "metadata": {
        "id": "TDKqVlE88YOS"
      },
      "execution_count": null,
      "outputs": []
    }
  ]
}