{
  "nbformat": 4,
  "nbformat_minor": 0,
  "metadata": {
    "colab": {
      "provenance": [],
      "gpuType": "T4"
    },
    "kernelspec": {
      "name": "python3",
      "display_name": "Python 3"
    },
    "language_info": {
      "name": "python"
    },
    "widgets": {
      "application/vnd.jupyter.widget-state+json": {
        "207f9797bbd94d3cb284373fa0af065d": {
          "model_module": "@jupyter-widgets/controls",
          "model_name": "CheckboxModel",
          "model_module_version": "1.5.0",
          "state": {
            "_dom_classes": [],
            "_model_module": "@jupyter-widgets/controls",
            "_model_module_version": "1.5.0",
            "_model_name": "CheckboxModel",
            "_view_count": null,
            "_view_module": "@jupyter-widgets/controls",
            "_view_module_version": "1.5.0",
            "_view_name": "CheckboxView",
            "description": "OpenStreetMap.Mapnik",
            "description_tooltip": null,
            "disabled": false,
            "indent": false,
            "layout": "IPY_MODEL_637c5842d07f42259af0664b45ce61fb",
            "style": "IPY_MODEL_02fc91b1a17f435e93aedd334db9d1cc",
            "value": true
          }
        },
        "7f36e124c8f649bb827e0f26af930cc3": {
          "model_module": "jupyter-leaflet",
          "model_name": "LeafletTileLayerModel",
          "model_module_version": "^0.19",
          "state": {
            "_model_module": "jupyter-leaflet",
            "_model_module_version": "^0.19",
            "_model_name": "LeafletTileLayerModel",
            "_view_count": null,
            "_view_module": "jupyter-leaflet",
            "_view_module_version": "^0.19",
            "_view_name": "LeafletTileLayerView",
            "attribution": "&copy; <a href=\"https://www.openstreetmap.org/copyright\">OpenStreetMap</a> contributors",
            "base": true,
            "bottom": true,
            "bounds": null,
            "detect_retina": false,
            "loading": false,
            "max_native_zoom": null,
            "max_zoom": 19,
            "min_native_zoom": null,
            "min_zoom": 1,
            "name": "OpenStreetMap",
            "no_wrap": false,
            "opacity": 1,
            "options": [
              "attribution",
              "bounds",
              "detect_retina",
              "max_native_zoom",
              "max_zoom",
              "min_native_zoom",
              "min_zoom",
              "no_wrap",
              "tile_size",
              "tms",
              "zoom_offset"
            ],
            "pane": "",
            "popup": null,
            "popup_max_height": null,
            "popup_max_width": 300,
            "popup_min_width": 50,
            "show_loading": false,
            "subitems": [],
            "tile_size": 256,
            "tms": false,
            "url": "https://tile.openstreetmap.org/{z}/{x}/{y}.png",
            "visible": true,
            "zoom_offset": 0
          }
        },
        "4a8cc80c84304af8b78a578874dbb9c2": {
          "model_module": "@jupyter-widgets/controls",
          "model_name": "CheckboxModel",
          "model_module_version": "1.5.0",
          "state": {
            "_dom_classes": [],
            "_model_module": "@jupyter-widgets/controls",
            "_model_module_version": "1.5.0",
            "_model_name": "CheckboxModel",
            "_view_count": null,
            "_view_module": "@jupyter-widgets/controls",
            "_view_module_version": "1.5.0",
            "_view_name": "CheckboxView",
            "description": "OpenStreetMap.Mapnik",
            "description_tooltip": null,
            "disabled": false,
            "indent": false,
            "layout": "IPY_MODEL_ad85a560760e4d6683e9ab809d9a4911",
            "style": "IPY_MODEL_47af3f643aff41028e30e1b9d6396cb5",
            "value": true
          }
        },
        "637c5842d07f42259af0664b45ce61fb": {
          "model_module": "@jupyter-widgets/base",
          "model_name": "LayoutModel",
          "model_module_version": "1.2.0",
          "state": {
            "_model_module": "@jupyter-widgets/base",
            "_model_module_version": "1.2.0",
            "_model_name": "LayoutModel",
            "_view_count": null,
            "_view_module": "@jupyter-widgets/base",
            "_view_module_version": "1.2.0",
            "_view_name": "LayoutView",
            "align_content": null,
            "align_items": null,
            "align_self": null,
            "border": null,
            "bottom": null,
            "display": null,
            "flex": null,
            "flex_flow": null,
            "grid_area": null,
            "grid_auto_columns": null,
            "grid_auto_flow": null,
            "grid_auto_rows": null,
            "grid_column": null,
            "grid_gap": null,
            "grid_row": null,
            "grid_template_areas": null,
            "grid_template_columns": null,
            "grid_template_rows": null,
            "height": "18px",
            "justify_content": null,
            "justify_items": null,
            "left": null,
            "margin": null,
            "max_height": null,
            "max_width": null,
            "min_height": null,
            "min_width": null,
            "object_fit": null,
            "object_position": null,
            "order": null,
            "overflow": null,
            "overflow_x": null,
            "overflow_y": null,
            "padding": null,
            "right": null,
            "top": null,
            "visibility": null,
            "width": "25ex"
          }
        },
        "02fc91b1a17f435e93aedd334db9d1cc": {
          "model_module": "@jupyter-widgets/controls",
          "model_name": "DescriptionStyleModel",
          "model_module_version": "1.5.0",
          "state": {
            "_model_module": "@jupyter-widgets/controls",
            "_model_module_version": "1.5.0",
            "_model_name": "DescriptionStyleModel",
            "_view_count": null,
            "_view_module": "@jupyter-widgets/base",
            "_view_module_version": "1.2.0",
            "_view_name": "StyleView",
            "description_width": ""
          }
        },
        "ad85a560760e4d6683e9ab809d9a4911": {
          "model_module": "@jupyter-widgets/base",
          "model_name": "LayoutModel",
          "model_module_version": "1.2.0",
          "state": {
            "_model_module": "@jupyter-widgets/base",
            "_model_module_version": "1.2.0",
            "_model_name": "LayoutModel",
            "_view_count": null,
            "_view_module": "@jupyter-widgets/base",
            "_view_module_version": "1.2.0",
            "_view_name": "LayoutView",
            "align_content": null,
            "align_items": null,
            "align_self": null,
            "border": null,
            "bottom": null,
            "display": null,
            "flex": null,
            "flex_flow": null,
            "grid_area": null,
            "grid_auto_columns": null,
            "grid_auto_flow": null,
            "grid_auto_rows": null,
            "grid_column": null,
            "grid_gap": null,
            "grid_row": null,
            "grid_template_areas": null,
            "grid_template_columns": null,
            "grid_template_rows": null,
            "height": "18px",
            "justify_content": null,
            "justify_items": null,
            "left": null,
            "margin": null,
            "max_height": null,
            "max_width": null,
            "min_height": null,
            "min_width": null,
            "object_fit": null,
            "object_position": null,
            "order": null,
            "overflow": null,
            "overflow_x": null,
            "overflow_y": null,
            "padding": null,
            "right": null,
            "top": null,
            "visibility": null,
            "width": "25ex"
          }
        },
        "47af3f643aff41028e30e1b9d6396cb5": {
          "model_module": "@jupyter-widgets/controls",
          "model_name": "DescriptionStyleModel",
          "model_module_version": "1.5.0",
          "state": {
            "_model_module": "@jupyter-widgets/controls",
            "_model_module_version": "1.5.0",
            "_model_name": "DescriptionStyleModel",
            "_view_count": null,
            "_view_module": "@jupyter-widgets/base",
            "_view_module_version": "1.2.0",
            "_view_name": "StyleView",
            "description_width": ""
          }
        },
        "8d5cca13359e45f89266a79001ea3075": {
          "model_module": "@jupyter-widgets/controls",
          "model_name": "CheckboxModel",
          "model_module_version": "1.5.0",
          "state": {
            "_dom_classes": [],
            "_model_module": "@jupyter-widgets/controls",
            "_model_module_version": "1.5.0",
            "_model_name": "CheckboxModel",
            "_view_count": null,
            "_view_module": "@jupyter-widgets/controls",
            "_view_module_version": "1.5.0",
            "_view_name": "CheckboxView",
            "description": "OpenStreetMap.Mapnik",
            "description_tooltip": null,
            "disabled": false,
            "indent": false,
            "layout": "IPY_MODEL_9156165f050c4b2a8932e78c34251b18",
            "style": "IPY_MODEL_93763af55e044fa6886fe2db11e8e1bb",
            "value": true
          }
        },
        "9156165f050c4b2a8932e78c34251b18": {
          "model_module": "@jupyter-widgets/base",
          "model_name": "LayoutModel",
          "model_module_version": "1.2.0",
          "state": {
            "_model_module": "@jupyter-widgets/base",
            "_model_module_version": "1.2.0",
            "_model_name": "LayoutModel",
            "_view_count": null,
            "_view_module": "@jupyter-widgets/base",
            "_view_module_version": "1.2.0",
            "_view_name": "LayoutView",
            "align_content": null,
            "align_items": null,
            "align_self": null,
            "border": null,
            "bottom": null,
            "display": null,
            "flex": null,
            "flex_flow": null,
            "grid_area": null,
            "grid_auto_columns": null,
            "grid_auto_flow": null,
            "grid_auto_rows": null,
            "grid_column": null,
            "grid_gap": null,
            "grid_row": null,
            "grid_template_areas": null,
            "grid_template_columns": null,
            "grid_template_rows": null,
            "height": "18px",
            "justify_content": null,
            "justify_items": null,
            "left": null,
            "margin": null,
            "max_height": null,
            "max_width": null,
            "min_height": null,
            "min_width": null,
            "object_fit": null,
            "object_position": null,
            "order": null,
            "overflow": null,
            "overflow_x": null,
            "overflow_y": null,
            "padding": null,
            "right": null,
            "top": null,
            "visibility": null,
            "width": "25ex"
          }
        },
        "93763af55e044fa6886fe2db11e8e1bb": {
          "model_module": "@jupyter-widgets/controls",
          "model_name": "DescriptionStyleModel",
          "model_module_version": "1.5.0",
          "state": {
            "_model_module": "@jupyter-widgets/controls",
            "_model_module_version": "1.5.0",
            "_model_name": "DescriptionStyleModel",
            "_view_count": null,
            "_view_module": "@jupyter-widgets/base",
            "_view_module_version": "1.2.0",
            "_view_name": "StyleView",
            "description_width": ""
          }
        },
        "1e52ef01cd95434b9f05521d2efc98cd": {
          "model_module": "@jupyter-widgets/controls",
          "model_name": "CheckboxModel",
          "model_module_version": "1.5.0",
          "state": {
            "_dom_classes": [],
            "_model_module": "@jupyter-widgets/controls",
            "_model_module_version": "1.5.0",
            "_model_name": "CheckboxModel",
            "_view_count": null,
            "_view_module": "@jupyter-widgets/controls",
            "_view_module_version": "1.5.0",
            "_view_name": "CheckboxView",
            "description": "OpenStreetMap",
            "description_tooltip": null,
            "disabled": false,
            "indent": false,
            "layout": "IPY_MODEL_1a487fecd19b4d7d96b5a53ef27c0d9a",
            "style": "IPY_MODEL_fccb3cb8aa2f4accb572228fb0f37c85",
            "value": true
          }
        },
        "1a487fecd19b4d7d96b5a53ef27c0d9a": {
          "model_module": "@jupyter-widgets/base",
          "model_name": "LayoutModel",
          "model_module_version": "1.2.0",
          "state": {
            "_model_module": "@jupyter-widgets/base",
            "_model_module_version": "1.2.0",
            "_model_name": "LayoutModel",
            "_view_count": null,
            "_view_module": "@jupyter-widgets/base",
            "_view_module_version": "1.2.0",
            "_view_name": "LayoutView",
            "align_content": null,
            "align_items": null,
            "align_self": null,
            "border": null,
            "bottom": null,
            "display": null,
            "flex": null,
            "flex_flow": null,
            "grid_area": null,
            "grid_auto_columns": null,
            "grid_auto_flow": null,
            "grid_auto_rows": null,
            "grid_column": null,
            "grid_gap": null,
            "grid_row": null,
            "grid_template_areas": null,
            "grid_template_columns": null,
            "grid_template_rows": null,
            "height": "18px",
            "justify_content": null,
            "justify_items": null,
            "left": null,
            "margin": null,
            "max_height": null,
            "max_width": null,
            "min_height": null,
            "min_width": null,
            "object_fit": null,
            "object_position": null,
            "order": null,
            "overflow": null,
            "overflow_x": null,
            "overflow_y": null,
            "padding": null,
            "right": null,
            "top": null,
            "visibility": null,
            "width": "25ex"
          }
        },
        "fccb3cb8aa2f4accb572228fb0f37c85": {
          "model_module": "@jupyter-widgets/controls",
          "model_name": "DescriptionStyleModel",
          "model_module_version": "1.5.0",
          "state": {
            "_model_module": "@jupyter-widgets/controls",
            "_model_module_version": "1.5.0",
            "_model_name": "DescriptionStyleModel",
            "_view_count": null,
            "_view_module": "@jupyter-widgets/base",
            "_view_module_version": "1.2.0",
            "_view_name": "StyleView",
            "description_width": ""
          }
        },
        "3717eb377249400a9516dd1293d434c6": {
          "model_module": "@jupyter-widgets/controls",
          "model_name": "CheckboxModel",
          "model_module_version": "1.5.0",
          "state": {
            "_dom_classes": [],
            "_model_module": "@jupyter-widgets/controls",
            "_model_module_version": "1.5.0",
            "_model_name": "CheckboxModel",
            "_view_count": null,
            "_view_module": "@jupyter-widgets/controls",
            "_view_module_version": "1.5.0",
            "_view_name": "CheckboxView",
            "description": "OpenStreetMap",
            "description_tooltip": null,
            "disabled": false,
            "indent": false,
            "layout": "IPY_MODEL_856557dca6204d4483e84c56fa312901",
            "style": "IPY_MODEL_e33d801a91c349e8848e5b880bf2ab9b",
            "value": true
          }
        },
        "856557dca6204d4483e84c56fa312901": {
          "model_module": "@jupyter-widgets/base",
          "model_name": "LayoutModel",
          "model_module_version": "1.2.0",
          "state": {
            "_model_module": "@jupyter-widgets/base",
            "_model_module_version": "1.2.0",
            "_model_name": "LayoutModel",
            "_view_count": null,
            "_view_module": "@jupyter-widgets/base",
            "_view_module_version": "1.2.0",
            "_view_name": "LayoutView",
            "align_content": null,
            "align_items": null,
            "align_self": null,
            "border": null,
            "bottom": null,
            "display": null,
            "flex": null,
            "flex_flow": null,
            "grid_area": null,
            "grid_auto_columns": null,
            "grid_auto_flow": null,
            "grid_auto_rows": null,
            "grid_column": null,
            "grid_gap": null,
            "grid_row": null,
            "grid_template_areas": null,
            "grid_template_columns": null,
            "grid_template_rows": null,
            "height": "18px",
            "justify_content": null,
            "justify_items": null,
            "left": null,
            "margin": null,
            "max_height": null,
            "max_width": null,
            "min_height": null,
            "min_width": null,
            "object_fit": null,
            "object_position": null,
            "order": null,
            "overflow": null,
            "overflow_x": null,
            "overflow_y": null,
            "padding": null,
            "right": null,
            "top": null,
            "visibility": null,
            "width": "25ex"
          }
        },
        "e33d801a91c349e8848e5b880bf2ab9b": {
          "model_module": "@jupyter-widgets/controls",
          "model_name": "DescriptionStyleModel",
          "model_module_version": "1.5.0",
          "state": {
            "_model_module": "@jupyter-widgets/controls",
            "_model_module_version": "1.5.0",
            "_model_name": "DescriptionStyleModel",
            "_view_count": null,
            "_view_module": "@jupyter-widgets/base",
            "_view_module_version": "1.2.0",
            "_view_name": "StyleView",
            "description_width": ""
          }
        },
        "4b1117885a2a498f9d88854c6cc5a22b": {
          "model_module": "@jupyter-widgets/controls",
          "model_name": "CheckboxModel",
          "model_module_version": "1.5.0",
          "state": {
            "_dom_classes": [],
            "_model_module": "@jupyter-widgets/controls",
            "_model_module_version": "1.5.0",
            "_model_name": "CheckboxModel",
            "_view_count": null,
            "_view_module": "@jupyter-widgets/controls",
            "_view_module_version": "1.5.0",
            "_view_name": "CheckboxView",
            "description": "Google Satellite",
            "description_tooltip": null,
            "disabled": false,
            "indent": false,
            "layout": "IPY_MODEL_1941fc24b50748cd9b8b8f7cc5d7426b",
            "style": "IPY_MODEL_4665227ab6db4c22ae0c4a951e53bd61",
            "value": true
          }
        },
        "e1d143fcbad14cfd93633afb8ec95aa4": {
          "model_module": "jupyter-leaflet",
          "model_name": "LeafletTileLayerModel",
          "model_module_version": "^0.19",
          "state": {
            "_model_module": "jupyter-leaflet",
            "_model_module_version": "^0.19",
            "_model_name": "LeafletTileLayerModel",
            "_view_count": null,
            "_view_module": "jupyter-leaflet",
            "_view_module_version": "^0.19",
            "_view_name": "LeafletTileLayerView",
            "attribution": "Google",
            "base": false,
            "bottom": true,
            "bounds": null,
            "detect_retina": false,
            "loading": false,
            "max_native_zoom": null,
            "max_zoom": 24,
            "min_native_zoom": null,
            "min_zoom": 0,
            "name": "Google Satellite",
            "no_wrap": false,
            "opacity": 1,
            "options": [
              "attribution",
              "bounds",
              "detect_retina",
              "max_native_zoom",
              "max_zoom",
              "min_native_zoom",
              "min_zoom",
              "no_wrap",
              "tile_size",
              "tms",
              "zoom_offset"
            ],
            "pane": "",
            "popup": null,
            "popup_max_height": null,
            "popup_max_width": 300,
            "popup_min_width": 50,
            "show_loading": false,
            "subitems": [],
            "tile_size": 256,
            "tms": false,
            "url": "https://mt1.google.com/vt/lyrs=s&x={x}&y={y}&z={z}&key=YOUR-API-KEY",
            "visible": false,
            "zoom_offset": 0
          }
        },
        "1941fc24b50748cd9b8b8f7cc5d7426b": {
          "model_module": "@jupyter-widgets/base",
          "model_name": "LayoutModel",
          "model_module_version": "1.2.0",
          "state": {
            "_model_module": "@jupyter-widgets/base",
            "_model_module_version": "1.2.0",
            "_model_name": "LayoutModel",
            "_view_count": null,
            "_view_module": "@jupyter-widgets/base",
            "_view_module_version": "1.2.0",
            "_view_name": "LayoutView",
            "align_content": null,
            "align_items": null,
            "align_self": null,
            "border": null,
            "bottom": null,
            "display": null,
            "flex": null,
            "flex_flow": null,
            "grid_area": null,
            "grid_auto_columns": null,
            "grid_auto_flow": null,
            "grid_auto_rows": null,
            "grid_column": null,
            "grid_gap": null,
            "grid_row": null,
            "grid_template_areas": null,
            "grid_template_columns": null,
            "grid_template_rows": null,
            "height": "18px",
            "justify_content": null,
            "justify_items": null,
            "left": null,
            "margin": null,
            "max_height": null,
            "max_width": null,
            "min_height": null,
            "min_width": null,
            "object_fit": null,
            "object_position": null,
            "order": null,
            "overflow": null,
            "overflow_x": null,
            "overflow_y": null,
            "padding": null,
            "right": null,
            "top": null,
            "visibility": null,
            "width": "25ex"
          }
        },
        "4665227ab6db4c22ae0c4a951e53bd61": {
          "model_module": "@jupyter-widgets/controls",
          "model_name": "DescriptionStyleModel",
          "model_module_version": "1.5.0",
          "state": {
            "_model_module": "@jupyter-widgets/controls",
            "_model_module_version": "1.5.0",
            "_model_name": "DescriptionStyleModel",
            "_view_count": null,
            "_view_module": "@jupyter-widgets/base",
            "_view_module_version": "1.2.0",
            "_view_name": "StyleView",
            "description_width": ""
          }
        },
        "9f031f2270a449fbbb508a27b5faa004": {
          "model_module": "jupyter-leaflet",
          "model_name": "LeafletMapModel",
          "model_module_version": "^0.19",
          "state": {
            "_dom_classes": [],
            "_model_module": "jupyter-leaflet",
            "_model_module_version": "^0.19",
            "_model_name": "LeafletMapModel",
            "_view_count": null,
            "_view_module": "jupyter-leaflet",
            "_view_module_version": "^0.19",
            "_view_name": "LeafletMapView",
            "bottom": 6440504,
            "bounce_at_zoom_limits": true,
            "box_zoom": true,
            "center": [
              38.52815883742612,
              -121.78641915321352
            ],
            "close_popup_on_click": true,
            "controls": [
              "IPY_MODEL_66c494be4d3f4de2a8eb6691366be34b",
              "IPY_MODEL_5b88100dcae54960a164d35ef2a44cdc",
              "IPY_MODEL_e50674dc26b24d60ac211a0991dcd7be",
              "IPY_MODEL_69eb1b78e9554c3ebc01a7b3b7a57588",
              "IPY_MODEL_ba1d93b98e4c4847b9810e4d229b80cf",
              "IPY_MODEL_4c8b1391756f483b80dcb711d5621f28"
            ],
            "crs": {
              "name": "EPSG3857",
              "custom": false
            },
            "default_style": "IPY_MODEL_2a8a080fec15449e8f7c61d57c0c3f1e",
            "double_click_zoom": true,
            "dragging": true,
            "dragging_style": "IPY_MODEL_8b8f57846079434aa9a8b900b5d86d1d",
            "east": -121.76838397979738,
            "fullscreen": false,
            "inertia": true,
            "inertia_deceleration": 3000,
            "inertia_max_speed": 1500,
            "interpolation": "bilinear",
            "keyboard": true,
            "keyboard_pan_offset": 80,
            "keyboard_zoom_offset": 1,
            "layers": [
              "IPY_MODEL_7f36e124c8f649bb827e0f26af930cc3",
              "IPY_MODEL_e1d143fcbad14cfd93633afb8ec95aa4",
              "IPY_MODEL_1f7571153f48478a9f017b6f8a722edc"
            ],
            "layout": "IPY_MODEL_17bf51d714824aaba9c74216bea379e8",
            "left": 2712109,
            "max_zoom": 24,
            "min_zoom": null,
            "modisdate": "2025-02-22",
            "north": 38.534873077089344,
            "options": [
              "bounce_at_zoom_limits",
              "box_zoom",
              "center",
              "close_popup_on_click",
              "double_click_zoom",
              "dragging",
              "fullscreen",
              "inertia",
              "inertia_deceleration",
              "inertia_max_speed",
              "interpolation",
              "keyboard",
              "keyboard_pan_offset",
              "keyboard_zoom_offset",
              "max_zoom",
              "min_zoom",
              "prefer_canvas",
              "scroll_wheel_zoom",
              "tap",
              "tap_tolerance",
              "touch_zoom",
              "world_copy_jump",
              "zoom",
              "zoom_animation_threshold",
              "zoom_delta",
              "zoom_snap"
            ],
            "panes": {},
            "prefer_canvas": false,
            "right": 2713790,
            "scroll_wheel_zoom": true,
            "south": 38.521443971214204,
            "style": "IPY_MODEL_2a8a080fec15449e8f7c61d57c0c3f1e",
            "tap": true,
            "tap_tolerance": 15,
            "top": 6439704,
            "touch_zoom": true,
            "west": -121.80445432662965,
            "window_url": "https://zwckwqv19y-496ff2e9c6d22116-0-colab.googleusercontent.com/outputframe.html?vrz=colab_20250220-060115_RC00_729035613",
            "world_copy_jump": false,
            "zoom": 16,
            "zoom_animation_threshold": 4,
            "zoom_delta": 1,
            "zoom_snap": 1
          }
        },
        "66c494be4d3f4de2a8eb6691366be34b": {
          "model_module": "jupyter-leaflet",
          "model_name": "LeafletZoomControlModel",
          "model_module_version": "^0.19",
          "state": {
            "_model_module": "jupyter-leaflet",
            "_model_module_version": "^0.19",
            "_model_name": "LeafletZoomControlModel",
            "_view_count": null,
            "_view_module": "jupyter-leaflet",
            "_view_module_version": "^0.19",
            "_view_name": "LeafletZoomControlView",
            "options": [
              "position",
              "zoom_in_text",
              "zoom_in_title",
              "zoom_out_text",
              "zoom_out_title"
            ],
            "position": "topleft",
            "zoom_in_text": "+",
            "zoom_in_title": "Zoom in",
            "zoom_out_text": "-",
            "zoom_out_title": "Zoom out"
          }
        },
        "5b88100dcae54960a164d35ef2a44cdc": {
          "model_module": "jupyter-leaflet",
          "model_name": "LeafletAttributionControlModel",
          "model_module_version": "^0.19",
          "state": {
            "_model_module": "jupyter-leaflet",
            "_model_module_version": "^0.19",
            "_model_name": "LeafletAttributionControlModel",
            "_view_count": null,
            "_view_module": "jupyter-leaflet",
            "_view_module_version": "^0.19",
            "_view_name": "LeafletAttributionControlView",
            "options": [
              "position",
              "prefix"
            ],
            "position": "bottomright",
            "prefix": "ipyleaflet"
          }
        },
        "e50674dc26b24d60ac211a0991dcd7be": {
          "model_module": "jupyter-leaflet",
          "model_name": "LeafletFullScreenControlModel",
          "model_module_version": "^0.19",
          "state": {
            "_model_module": "jupyter-leaflet",
            "_model_module_version": "^0.19",
            "_model_name": "LeafletFullScreenControlModel",
            "_view_count": null,
            "_view_module": "jupyter-leaflet",
            "_view_module_version": "^0.19",
            "_view_name": "LeafletFullScreenControlView",
            "options": [
              "position"
            ],
            "position": "topleft"
          }
        },
        "69eb1b78e9554c3ebc01a7b3b7a57588": {
          "model_module": "jupyter-leaflet",
          "model_name": "LeafletDrawControlModel",
          "model_module_version": "^0.19",
          "state": {
            "_model_module": "jupyter-leaflet",
            "_model_module_version": "^0.19",
            "_model_name": "LeafletDrawControlModel",
            "_view_count": null,
            "_view_module": "jupyter-leaflet",
            "_view_module_version": "^0.19",
            "_view_name": "LeafletDrawControlView",
            "circle": {
              "shapeOptions": {
                "color": "#3388ff"
              },
              "repeatMode": false
            },
            "circlemarker": {},
            "data": [
              {
                "type": "Feature",
                "properties": {
                  "style": {
                    "stroke": true,
                    "color": "#3388ff",
                    "weight": 4,
                    "opacity": 0.5,
                    "fill": true,
                    "fillColor": null,
                    "fillOpacity": 0.2,
                    "clickable": true
                  }
                },
                "geometry": {
                  "type": "Polygon",
                  "coordinates": [
                    [
                      [
                        -121.776298,
                        38.527754
                      ],
                      [
                        -121.776298,
                        38.535274
                      ],
                      [
                        -121.761885,
                        38.535274
                      ],
                      [
                        -121.761885,
                        38.527754
                      ],
                      [
                        -121.776298,
                        38.527754
                      ]
                    ]
                  ]
                }
              }
            ],
            "edit": true,
            "marker": {
              "shapeOptions": {
                "color": "#3388ff"
              },
              "repeatMode": false
            },
            "options": [
              "position"
            ],
            "polygon": {
              "repeatMode": false
            },
            "polyline": {
              "repeatMode": false
            },
            "position": "topleft",
            "rectangle": {
              "shapeOptions": {
                "color": "#3388ff"
              },
              "repeatMode": false
            },
            "remove": true
          }
        },
        "ba1d93b98e4c4847b9810e4d229b80cf": {
          "model_module": "jupyter-leaflet",
          "model_name": "LeafletScaleControlModel",
          "model_module_version": "^0.19",
          "state": {
            "_model_module": "jupyter-leaflet",
            "_model_module_version": "^0.19",
            "_model_name": "LeafletScaleControlModel",
            "_view_count": null,
            "_view_module": "jupyter-leaflet",
            "_view_module_version": "^0.19",
            "_view_name": "LeafletScaleControlView",
            "imperial": true,
            "max_width": 100,
            "metric": true,
            "options": [
              "imperial",
              "max_width",
              "metric",
              "position",
              "update_when_idle"
            ],
            "position": "bottomleft",
            "update_when_idle": false
          }
        },
        "4c8b1391756f483b80dcb711d5621f28": {
          "model_module": "jupyter-leaflet",
          "model_name": "LeafletWidgetControlModel",
          "model_module_version": "^0.19",
          "state": {
            "_model_module": "jupyter-leaflet",
            "_model_module_version": "^0.19",
            "_model_name": "LeafletWidgetControlModel",
            "_view_count": null,
            "_view_module": "jupyter-leaflet",
            "_view_module_version": "^0.19",
            "_view_name": "LeafletWidgetControlView",
            "max_height": null,
            "max_width": null,
            "min_height": null,
            "min_width": null,
            "options": [
              "position",
              "transparent_bg"
            ],
            "position": "topright",
            "transparent_bg": false,
            "widget": "IPY_MODEL_56c643edb22243468d4308e3b8cadb4a"
          }
        },
        "2a8a080fec15449e8f7c61d57c0c3f1e": {
          "model_module": "jupyter-leaflet",
          "model_name": "LeafletMapStyleModel",
          "model_module_version": "^0.19",
          "state": {
            "_model_module": "jupyter-leaflet",
            "_model_module_version": "^0.19",
            "_model_name": "LeafletMapStyleModel",
            "_view_count": null,
            "_view_module": "@jupyter-widgets/base",
            "_view_module_version": "1.2.0",
            "_view_name": "StyleView",
            "cursor": "grab"
          }
        },
        "8b8f57846079434aa9a8b900b5d86d1d": {
          "model_module": "jupyter-leaflet",
          "model_name": "LeafletMapStyleModel",
          "model_module_version": "^0.19",
          "state": {
            "_model_module": "jupyter-leaflet",
            "_model_module_version": "^0.19",
            "_model_name": "LeafletMapStyleModel",
            "_view_count": null,
            "_view_module": "@jupyter-widgets/base",
            "_view_module_version": "1.2.0",
            "_view_name": "StyleView",
            "cursor": "move"
          }
        },
        "17bf51d714824aaba9c74216bea379e8": {
          "model_module": "@jupyter-widgets/base",
          "model_name": "LayoutModel",
          "model_module_version": "1.2.0",
          "state": {
            "_model_module": "@jupyter-widgets/base",
            "_model_module_version": "1.2.0",
            "_model_name": "LayoutModel",
            "_view_count": null,
            "_view_module": "@jupyter-widgets/base",
            "_view_module_version": "1.2.0",
            "_view_name": "LayoutView",
            "align_content": null,
            "align_items": null,
            "align_self": null,
            "border": null,
            "bottom": null,
            "display": null,
            "flex": null,
            "flex_flow": null,
            "grid_area": null,
            "grid_auto_columns": null,
            "grid_auto_flow": null,
            "grid_auto_rows": null,
            "grid_column": null,
            "grid_gap": null,
            "grid_row": null,
            "grid_template_areas": null,
            "grid_template_columns": null,
            "grid_template_rows": null,
            "height": "800px",
            "justify_content": null,
            "justify_items": null,
            "left": null,
            "margin": null,
            "max_height": null,
            "max_width": null,
            "min_height": null,
            "min_width": null,
            "object_fit": null,
            "object_position": null,
            "order": null,
            "overflow": null,
            "overflow_x": null,
            "overflow_y": null,
            "padding": null,
            "right": null,
            "top": null,
            "visibility": null,
            "width": null
          }
        },
        "a72cf093252441e199bfaae48e02252b": {
          "model_module": "jupyter-leaflet",
          "model_name": "LeafletMapStyleModel",
          "model_module_version": "^0.19",
          "state": {
            "_model_module": "jupyter-leaflet",
            "_model_module_version": "^0.19",
            "_model_name": "LeafletMapStyleModel",
            "_view_count": null,
            "_view_module": "@jupyter-widgets/base",
            "_view_module_version": "1.2.0",
            "_view_name": "StyleView",
            "cursor": "grab"
          }
        },
        "56c643edb22243468d4308e3b8cadb4a": {
          "model_module": "@jupyter-widgets/controls",
          "model_name": "VBoxModel",
          "model_module_version": "1.5.0",
          "state": {
            "_dom_classes": [],
            "_model_module": "@jupyter-widgets/controls",
            "_model_module_version": "1.5.0",
            "_model_name": "VBoxModel",
            "_view_count": null,
            "_view_module": "@jupyter-widgets/controls",
            "_view_module_version": "1.5.0",
            "_view_name": "VBoxView",
            "box_style": "",
            "children": [
              "IPY_MODEL_f3a54db55ebf47dc8b8d7dc62d5e663d"
            ],
            "layout": "IPY_MODEL_4c2c6b7629eb451faebd0a01abf1012f"
          }
        },
        "f3a54db55ebf47dc8b8d7dc62d5e663d": {
          "model_module": "@jupyter-widgets/controls",
          "model_name": "ToggleButtonModel",
          "model_module_version": "1.5.0",
          "state": {
            "_dom_classes": [],
            "_model_module": "@jupyter-widgets/controls",
            "_model_module_version": "1.5.0",
            "_model_name": "ToggleButtonModel",
            "_view_count": null,
            "_view_module": "@jupyter-widgets/controls",
            "_view_module_version": "1.5.0",
            "_view_name": "ToggleButtonView",
            "button_style": "",
            "description": "",
            "description_tooltip": null,
            "disabled": false,
            "icon": "wrench",
            "layout": "IPY_MODEL_11f6c9efa57241c198876114b9fb0524",
            "style": "IPY_MODEL_9c01c01d379c444096dc89f71e36062f",
            "tooltip": "Toolbar",
            "value": false
          }
        },
        "4c2c6b7629eb451faebd0a01abf1012f": {
          "model_module": "@jupyter-widgets/base",
          "model_name": "LayoutModel",
          "model_module_version": "1.2.0",
          "state": {
            "_model_module": "@jupyter-widgets/base",
            "_model_module_version": "1.2.0",
            "_model_name": "LayoutModel",
            "_view_count": null,
            "_view_module": "@jupyter-widgets/base",
            "_view_module_version": "1.2.0",
            "_view_name": "LayoutView",
            "align_content": null,
            "align_items": null,
            "align_self": null,
            "border": null,
            "bottom": null,
            "display": null,
            "flex": null,
            "flex_flow": null,
            "grid_area": null,
            "grid_auto_columns": null,
            "grid_auto_flow": null,
            "grid_auto_rows": null,
            "grid_column": null,
            "grid_gap": null,
            "grid_row": null,
            "grid_template_areas": null,
            "grid_template_columns": null,
            "grid_template_rows": null,
            "height": null,
            "justify_content": null,
            "justify_items": null,
            "left": null,
            "margin": null,
            "max_height": null,
            "max_width": null,
            "min_height": null,
            "min_width": null,
            "object_fit": null,
            "object_position": null,
            "order": null,
            "overflow": null,
            "overflow_x": null,
            "overflow_y": null,
            "padding": null,
            "right": null,
            "top": null,
            "visibility": null,
            "width": null
          }
        },
        "11f6c9efa57241c198876114b9fb0524": {
          "model_module": "@jupyter-widgets/base",
          "model_name": "LayoutModel",
          "model_module_version": "1.2.0",
          "state": {
            "_model_module": "@jupyter-widgets/base",
            "_model_module_version": "1.2.0",
            "_model_name": "LayoutModel",
            "_view_count": null,
            "_view_module": "@jupyter-widgets/base",
            "_view_module_version": "1.2.0",
            "_view_name": "LayoutView",
            "align_content": null,
            "align_items": null,
            "align_self": null,
            "border": null,
            "bottom": null,
            "display": null,
            "flex": null,
            "flex_flow": null,
            "grid_area": null,
            "grid_auto_columns": null,
            "grid_auto_flow": null,
            "grid_auto_rows": null,
            "grid_column": null,
            "grid_gap": null,
            "grid_row": null,
            "grid_template_areas": null,
            "grid_template_columns": null,
            "grid_template_rows": null,
            "height": "28px",
            "justify_content": null,
            "justify_items": null,
            "left": null,
            "margin": null,
            "max_height": null,
            "max_width": null,
            "min_height": null,
            "min_width": null,
            "object_fit": null,
            "object_position": null,
            "order": null,
            "overflow": null,
            "overflow_x": null,
            "overflow_y": null,
            "padding": "0px 0px 0px 4px",
            "right": null,
            "top": null,
            "visibility": null,
            "width": "28px"
          }
        },
        "9c01c01d379c444096dc89f71e36062f": {
          "model_module": "@jupyter-widgets/controls",
          "model_name": "DescriptionStyleModel",
          "model_module_version": "1.5.0",
          "state": {
            "_model_module": "@jupyter-widgets/controls",
            "_model_module_version": "1.5.0",
            "_model_name": "DescriptionStyleModel",
            "_view_count": null,
            "_view_module": "@jupyter-widgets/base",
            "_view_module_version": "1.2.0",
            "_view_name": "StyleView",
            "description_width": ""
          }
        },
        "1f7571153f48478a9f017b6f8a722edc": {
          "model_module": "jupyter-leaflet",
          "model_name": "LeafletTileLayerModel",
          "model_module_version": "^0.19",
          "state": {
            "_model_module": "jupyter-leaflet",
            "_model_module_version": "^0.19",
            "_model_name": "LeafletTileLayerModel",
            "_view_count": null,
            "_view_module": "jupyter-leaflet",
            "_view_module_version": "^0.19",
            "_view_name": "LeafletTileLayerView",
            "attribution": "Raster file served by <a href='https://github.com/banesullivan/localtileserver' target='_blank'>localtileserver</a>.",
            "base": false,
            "bottom": true,
            "bounds": [
              [
                38.5278,
                -121.7763
              ],
              [
                38.5353,
                -121.7619
              ]
            ],
            "detect_retina": false,
            "loading": false,
            "max_native_zoom": 30,
            "max_zoom": 30,
            "min_native_zoom": null,
            "min_zoom": 0,
            "name": "Image",
            "no_wrap": false,
            "opacity": 1,
            "options": [
              "attribution",
              "bounds",
              "detect_retina",
              "max_native_zoom",
              "max_zoom",
              "min_native_zoom",
              "min_zoom",
              "no_wrap",
              "tile_size",
              "tms",
              "zoom_offset"
            ],
            "pane": "",
            "popup": null,
            "popup_max_height": null,
            "popup_max_width": 300,
            "popup_min_width": 50,
            "show_loading": true,
            "subitems": [],
            "tile_size": 256,
            "tms": false,
            "url": "http://localhost:37493/api/tiles/{z}/{x}/{y}.png?&filename=%2Fcontent%2Fdrive%2FMyDrive%2FEarthEngine%2FEarthEngineDownload%2FGoogle_Map_Image.tif",
            "visible": true,
            "zoom_offset": 0
          }
        },
        "a70b9ea19d774593980a51f0dab20837": {
          "model_module": "@jupyter-widgets/controls",
          "model_name": "CheckboxModel",
          "model_module_version": "1.5.0",
          "state": {
            "_dom_classes": [],
            "_model_module": "@jupyter-widgets/controls",
            "_model_module_version": "1.5.0",
            "_model_name": "CheckboxModel",
            "_view_count": null,
            "_view_module": "@jupyter-widgets/controls",
            "_view_module_version": "1.5.0",
            "_view_name": "CheckboxView",
            "description": "OpenStreetMap",
            "description_tooltip": null,
            "disabled": false,
            "indent": false,
            "layout": "IPY_MODEL_9309b64c6bb24f29aca0924f0fba771f",
            "style": "IPY_MODEL_5192aa383f4e4135a64cea279d325edf",
            "value": true
          }
        },
        "e798088fc254421ca549e9da2e9d8893": {
          "model_module": "@jupyter-widgets/controls",
          "model_name": "CheckboxModel",
          "model_module_version": "1.5.0",
          "state": {
            "_dom_classes": [],
            "_model_module": "@jupyter-widgets/controls",
            "_model_module_version": "1.5.0",
            "_model_name": "CheckboxModel",
            "_view_count": null,
            "_view_module": "@jupyter-widgets/controls",
            "_view_module_version": "1.5.0",
            "_view_name": "CheckboxView",
            "description": "Google Satellite",
            "description_tooltip": null,
            "disabled": false,
            "indent": false,
            "layout": "IPY_MODEL_9f5cd4280e464537bcf0c0989292d524",
            "style": "IPY_MODEL_f3449dab4caf415aaad24c28cf8938f5",
            "value": false
          }
        },
        "381d4782cf144832b8a3f874b62e1967": {
          "model_module": "@jupyter-widgets/controls",
          "model_name": "CheckboxModel",
          "model_module_version": "1.5.0",
          "state": {
            "_dom_classes": [],
            "_model_module": "@jupyter-widgets/controls",
            "_model_module_version": "1.5.0",
            "_model_name": "CheckboxModel",
            "_view_count": null,
            "_view_module": "@jupyter-widgets/controls",
            "_view_module_version": "1.5.0",
            "_view_name": "CheckboxView",
            "description": "Image",
            "description_tooltip": null,
            "disabled": false,
            "indent": false,
            "layout": "IPY_MODEL_47bd6a9a7884423f8c689030b056fc55",
            "style": "IPY_MODEL_2664f7d16cee4d779e2300bc081d77c4",
            "value": true
          }
        },
        "9309b64c6bb24f29aca0924f0fba771f": {
          "model_module": "@jupyter-widgets/base",
          "model_name": "LayoutModel",
          "model_module_version": "1.2.0",
          "state": {
            "_model_module": "@jupyter-widgets/base",
            "_model_module_version": "1.2.0",
            "_model_name": "LayoutModel",
            "_view_count": null,
            "_view_module": "@jupyter-widgets/base",
            "_view_module_version": "1.2.0",
            "_view_name": "LayoutView",
            "align_content": null,
            "align_items": null,
            "align_self": null,
            "border": null,
            "bottom": null,
            "display": null,
            "flex": null,
            "flex_flow": null,
            "grid_area": null,
            "grid_auto_columns": null,
            "grid_auto_flow": null,
            "grid_auto_rows": null,
            "grid_column": null,
            "grid_gap": null,
            "grid_row": null,
            "grid_template_areas": null,
            "grid_template_columns": null,
            "grid_template_rows": null,
            "height": "18px",
            "justify_content": null,
            "justify_items": null,
            "left": null,
            "margin": null,
            "max_height": null,
            "max_width": null,
            "min_height": null,
            "min_width": null,
            "object_fit": null,
            "object_position": null,
            "order": null,
            "overflow": null,
            "overflow_x": null,
            "overflow_y": null,
            "padding": null,
            "right": null,
            "top": null,
            "visibility": null,
            "width": "25ex"
          }
        },
        "5192aa383f4e4135a64cea279d325edf": {
          "model_module": "@jupyter-widgets/controls",
          "model_name": "DescriptionStyleModel",
          "model_module_version": "1.5.0",
          "state": {
            "_model_module": "@jupyter-widgets/controls",
            "_model_module_version": "1.5.0",
            "_model_name": "DescriptionStyleModel",
            "_view_count": null,
            "_view_module": "@jupyter-widgets/base",
            "_view_module_version": "1.2.0",
            "_view_name": "StyleView",
            "description_width": ""
          }
        },
        "9f5cd4280e464537bcf0c0989292d524": {
          "model_module": "@jupyter-widgets/base",
          "model_name": "LayoutModel",
          "model_module_version": "1.2.0",
          "state": {
            "_model_module": "@jupyter-widgets/base",
            "_model_module_version": "1.2.0",
            "_model_name": "LayoutModel",
            "_view_count": null,
            "_view_module": "@jupyter-widgets/base",
            "_view_module_version": "1.2.0",
            "_view_name": "LayoutView",
            "align_content": null,
            "align_items": null,
            "align_self": null,
            "border": null,
            "bottom": null,
            "display": null,
            "flex": null,
            "flex_flow": null,
            "grid_area": null,
            "grid_auto_columns": null,
            "grid_auto_flow": null,
            "grid_auto_rows": null,
            "grid_column": null,
            "grid_gap": null,
            "grid_row": null,
            "grid_template_areas": null,
            "grid_template_columns": null,
            "grid_template_rows": null,
            "height": "18px",
            "justify_content": null,
            "justify_items": null,
            "left": null,
            "margin": null,
            "max_height": null,
            "max_width": null,
            "min_height": null,
            "min_width": null,
            "object_fit": null,
            "object_position": null,
            "order": null,
            "overflow": null,
            "overflow_x": null,
            "overflow_y": null,
            "padding": null,
            "right": null,
            "top": null,
            "visibility": null,
            "width": "25ex"
          }
        },
        "f3449dab4caf415aaad24c28cf8938f5": {
          "model_module": "@jupyter-widgets/controls",
          "model_name": "DescriptionStyleModel",
          "model_module_version": "1.5.0",
          "state": {
            "_model_module": "@jupyter-widgets/controls",
            "_model_module_version": "1.5.0",
            "_model_name": "DescriptionStyleModel",
            "_view_count": null,
            "_view_module": "@jupyter-widgets/base",
            "_view_module_version": "1.2.0",
            "_view_name": "StyleView",
            "description_width": ""
          }
        },
        "47bd6a9a7884423f8c689030b056fc55": {
          "model_module": "@jupyter-widgets/base",
          "model_name": "LayoutModel",
          "model_module_version": "1.2.0",
          "state": {
            "_model_module": "@jupyter-widgets/base",
            "_model_module_version": "1.2.0",
            "_model_name": "LayoutModel",
            "_view_count": null,
            "_view_module": "@jupyter-widgets/base",
            "_view_module_version": "1.2.0",
            "_view_name": "LayoutView",
            "align_content": null,
            "align_items": null,
            "align_self": null,
            "border": null,
            "bottom": null,
            "display": null,
            "flex": null,
            "flex_flow": null,
            "grid_area": null,
            "grid_auto_columns": null,
            "grid_auto_flow": null,
            "grid_auto_rows": null,
            "grid_column": null,
            "grid_gap": null,
            "grid_row": null,
            "grid_template_areas": null,
            "grid_template_columns": null,
            "grid_template_rows": null,
            "height": "18px",
            "justify_content": null,
            "justify_items": null,
            "left": null,
            "margin": null,
            "max_height": null,
            "max_width": null,
            "min_height": null,
            "min_width": null,
            "object_fit": null,
            "object_position": null,
            "order": null,
            "overflow": null,
            "overflow_x": null,
            "overflow_y": null,
            "padding": null,
            "right": null,
            "top": null,
            "visibility": null,
            "width": "25ex"
          }
        },
        "2664f7d16cee4d779e2300bc081d77c4": {
          "model_module": "@jupyter-widgets/controls",
          "model_name": "DescriptionStyleModel",
          "model_module_version": "1.5.0",
          "state": {
            "_model_module": "@jupyter-widgets/controls",
            "_model_module_version": "1.5.0",
            "_model_name": "DescriptionStyleModel",
            "_view_count": null,
            "_view_module": "@jupyter-widgets/base",
            "_view_module_version": "1.2.0",
            "_view_name": "StyleView",
            "description_width": ""
          }
        }
      }
    },
    "accelerator": "GPU"
  },
  "cells": [
    {
      "cell_type": "markdown",
      "source": [
        "---------\n",
        "**Block 1: Import Libraries & Setup Authentication**\n",
        "- **Purpose:** Initialize libraries and set up the environment.\n",
        "- **Input:** User's environment choice (Colab or local Jupyter).\n",
        "- **Output:** Authenticated environment with required packages imported and, if applicable, Google Drive mounted.\n"
      ],
      "metadata": {
        "id": "VEdIs_O7B_QP"
      }
    },
    {
      "cell_type": "code",
      "source": [
        "# -----------------------------------------------------------------------------\n",
        "# Block 1: Import all libraries and Setup Authentication & Environment\n",
        "# -----------------------------------------------------------------------------\n",
        "\n",
        "import geemap\n",
        "import os\n",
        "\n",
        "# ---------------------------------------------------------------------------\n",
        "# Ask user if they are working in Google Colab or local Jupyter\n",
        "# ---------------------------------------------------------------------------\n",
        "env_choice = input(\"\\nAre you working in Google Colab or local Jupyter? (colab/jupyter): \").strip().lower()\n",
        "if env_choice == \"colab\":\n",
        "    try:\n",
        "        from google.colab import drive\n",
        "        drive.mount('/content/drive')\n",
        "        print(\"Google Drive mounted successfully.\")\n",
        "    except Exception as e:\n",
        "        print(\"Error mounting Google Drive:\", e)\n",
        "    # Install necessary packages in Colab if not already installed.\n",
        "    try:\n",
        "        !pip install leafmap localtileserver\n",
        "    except Exception as e:\n",
        "        print(\"Error installing required packages:\", e)\n",
        "else:\n",
        "    print(\"Proceeding with local Jupyter environment.\")\n",
        "\n",
        "import leafmap\n",
        "import localtileserver\n",
        "\n",
        "print(\"\\n===============================================\")\n",
        "print(\"= Block 1: Setup and Authentication completed =\")\n",
        "print(\"===============================================\")"
      ],
      "metadata": {
        "id": "HLblrGnU_4fb"
      },
      "execution_count": null,
      "outputs": []
    },
    {
      "cell_type": "markdown",
      "source": [
        "------------------\n",
        "**Block 2: Visualize Base Map for ROI**\n",
        "- **Purpose:** Display an interactive satellite basemap for drawing a region of interest (ROI).\n",
        "- **Input:** Map center coordinates, zoom level, and display dimensions.\n",
        "- **Output:** A map with a satellite imagery basemap ready for ROI selection.\n",
        "- **Note:** Draw polygon with features on the left side of the window."
      ],
      "metadata": {
        "id": "tPhaE1-JCN9X"
      }
    },
    {
      "cell_type": "code",
      "source": [
        "# -----------------------------------------------------------------------------\n",
        "# Block 2: Visualize Google Base Map to Draw Polygon on ROI\n",
        "# -----------------------------------------------------------------------------\n",
        "\n",
        "m = leafmap.Map(center=[38.5449, -121.7405], zoom=12, height=\"800px\")\n",
        "m.add_basemap(\"SATELLITE\")\n",
        "m"
      ],
      "metadata": {
        "colab": {
          "base_uri": "https://localhost:8080/",
          "height": 821,
          "referenced_widgets": [
            "207f9797bbd94d3cb284373fa0af065d",
            "7f36e124c8f649bb827e0f26af930cc3",
            "4a8cc80c84304af8b78a578874dbb9c2",
            "637c5842d07f42259af0664b45ce61fb",
            "02fc91b1a17f435e93aedd334db9d1cc",
            "ad85a560760e4d6683e9ab809d9a4911",
            "47af3f643aff41028e30e1b9d6396cb5",
            "8d5cca13359e45f89266a79001ea3075",
            "9156165f050c4b2a8932e78c34251b18",
            "93763af55e044fa6886fe2db11e8e1bb",
            "1e52ef01cd95434b9f05521d2efc98cd",
            "1a487fecd19b4d7d96b5a53ef27c0d9a",
            "fccb3cb8aa2f4accb572228fb0f37c85",
            "3717eb377249400a9516dd1293d434c6",
            "856557dca6204d4483e84c56fa312901",
            "e33d801a91c349e8848e5b880bf2ab9b",
            "4b1117885a2a498f9d88854c6cc5a22b",
            "e1d143fcbad14cfd93633afb8ec95aa4",
            "1941fc24b50748cd9b8b8f7cc5d7426b",
            "4665227ab6db4c22ae0c4a951e53bd61",
            "9f031f2270a449fbbb508a27b5faa004",
            "66c494be4d3f4de2a8eb6691366be34b",
            "5b88100dcae54960a164d35ef2a44cdc",
            "e50674dc26b24d60ac211a0991dcd7be",
            "69eb1b78e9554c3ebc01a7b3b7a57588",
            "ba1d93b98e4c4847b9810e4d229b80cf",
            "4c8b1391756f483b80dcb711d5621f28",
            "2a8a080fec15449e8f7c61d57c0c3f1e",
            "8b8f57846079434aa9a8b900b5d86d1d",
            "17bf51d714824aaba9c74216bea379e8",
            "a72cf093252441e199bfaae48e02252b",
            "56c643edb22243468d4308e3b8cadb4a",
            "f3a54db55ebf47dc8b8d7dc62d5e663d",
            "4c2c6b7629eb451faebd0a01abf1012f",
            "11f6c9efa57241c198876114b9fb0524",
            "9c01c01d379c444096dc89f71e36062f",
            "1f7571153f48478a9f017b6f8a722edc"
          ]
        },
        "id": "vJAXXcjWaPTi",
        "outputId": "16ff839f-3315-4d6c-9b2b-bd8d33035f20"
      },
      "execution_count": 2,
      "outputs": [
        {
          "output_type": "display_data",
          "data": {
            "text/plain": [
              "<IPython.core.display.HTML object>"
            ],
            "text/html": [
              "\n",
              "            <style>\n",
              "                .geemap-dark {\n",
              "                    --jp-widgets-color: white;\n",
              "                    --jp-widgets-label-color: white;\n",
              "                    --jp-ui-font-color1: white;\n",
              "                    --jp-layout-color2: #454545;\n",
              "                    background-color: #383838;\n",
              "                }\n",
              "\n",
              "                .geemap-dark .jupyter-button {\n",
              "                    --jp-layout-color3: #383838;\n",
              "                }\n",
              "\n",
              "                .geemap-colab {\n",
              "                    background-color: var(--colab-primary-surface-color, white);\n",
              "                }\n",
              "\n",
              "                .geemap-colab .jupyter-button {\n",
              "                    --jp-layout-color3: var(--colab-primary-surface-color, white);\n",
              "                }\n",
              "            </style>\n",
              "            "
            ]
          },
          "metadata": {}
        },
        {
          "output_type": "display_data",
          "data": {
            "text/plain": [
              "Map(center=[38.5449, -121.7405], controls=(ZoomControl(options=['position', 'zoom_in_text', 'zoom_in_title', '…"
            ],
            "application/vnd.jupyter.widget-view+json": {
              "version_major": 2,
              "version_minor": 0,
              "model_id": "9f031f2270a449fbbb508a27b5faa004"
            }
          },
          "metadata": {
            "application/vnd.jupyter.widget-view+json": {
              "colab": {
                "custom_widget_manager": {
                  "url": "https://ssl.gstatic.com/colaboratory-static/widgets/colab-cdn-widget-manager/2b70e893a8ba7c0f/manager.min.js"
                }
              }
            }
          }
        }
      ]
    },
    {
      "cell_type": "markdown",
      "source": [
        "--------------\n",
        "**Block 3: Save Tiff File of ROI**\n",
        "- **Purpose:** Capture a user-defined bounding box (ROI) and save it as a GeoTIFF file.\n",
        "- **Input:** User-drawn bounding box and a Google Drive base directory provided by the user.\n",
        "- **Output:** A GeoTIFF file saved in an `EarthEngineDownload` folder within the specified Google Drive directory."
      ],
      "metadata": {
        "id": "cUEuMjHgCVG3"
      }
    },
    {
      "cell_type": "code",
      "source": [
        "# -----------------------------------------------------------------------------\n",
        "# Block 3: Saving Tiff File of ROI\n",
        "# -----------------------------------------------------------------------------\n",
        "\n",
        "#Saving drawn bounding box\n",
        "bbox = m.user_roi_bounds()\n",
        "\n",
        "# Prompt the user to input the base directory in Google Drive\n",
        "base_dir = input(\"Enter your Google Drive base directory (e.g., '/content/drive/MyDrive'): \")\n",
        "\n",
        "# Define the download folder path\n",
        "download_folder = os.path.join(base_dir, \"EarthEngineDownload\")\n",
        "\n",
        "# Create the folder if it does not exist\n",
        "if not os.path.exists(download_folder):\n",
        "    os.makedirs(download_folder)\n",
        "    print(f\"Created folder: {download_folder}\")\n",
        "else:\n",
        "    print(f\"Folder already exists: {download_folder}\")\n",
        "\n",
        "# Define the output file path within the EarthEngineDownload folder\n",
        "output_path = os.path.join(download_folder, \"Google_Map_Image.tif\")\n",
        "\n",
        "# Use leafmap to download the satellite tiles as a GeoTIFF image\n",
        "leafmap.map_tiles_to_geotiff(\n",
        "    output=output_path,\n",
        "    bbox=bbox,\n",
        "    zoom=19,\n",
        "    source=\"Satellite\",\n",
        "    overwrite=True\n",
        ")\n",
        "\n",
        "print(f\"GeoTIFF saved to: {output_path}\")"
      ],
      "metadata": {
        "id": "CxTRnfz3anaB"
      },
      "execution_count": null,
      "outputs": []
    },
    {
      "cell_type": "markdown",
      "source": [
        "---------\n",
        "**Block 4: Display the Downloaded Tiff on Map**\n",
        "- **Purpose:** Overlay the downloaded GeoTIFF image onto the map and hide the original basemap.\n",
        "- **Input:** File path to the saved GeoTIFF image.\n",
        "- **Output:** An updated map displaying only the GeoTIFF image layer."
      ],
      "metadata": {
        "id": "U4GtDmSmCaCl"
      }
    },
    {
      "cell_type": "code",
      "source": [
        "# -----------------------------------------------------------------------------\n",
        "# Block 4: Show the Final Tiff File on Map\n",
        "# -----------------------------------------------------------------------------\n",
        "\n",
        "m.layers[-1].visible = False\n",
        "m.add_raster(output_path, layer_name=\"Image\")\n",
        "m"
      ],
      "metadata": {
        "colab": {
          "resources": {
            "http://localhost:37493/api/tiles/15/5300/12577.png?&filename=%2Fcontent%2Fdrive%2FMyDrive%2FEarthEngine%2FEarthEngineDownload%2FGoogle_Map_Image.tif": {
              "data": "iVBORw0KGgoAAAANSUhEUgAAAQAAAAEACAYAAABccqhmAAAgAElEQVR4nOzbV5wc1bX4+1/lqs7dk2ekmVEOKIKEkEAEESyDAZtgMsb5YLCNc/jjP9g4HR9HrhMGg43BxsaYbJIRIAkJkEBIKEsjaaTJ0z09nSvXfRh/7uvx433Y39d+qe5etfZaa+8NgiAIgiAIgiAIgiAIgiAIgiAIgiAIgiAIgiAIgiAIgiAIgiAIgiAIgiAIgiAIgiAIgiAIgiAIgiAIgiAIgiAIgiAIgiAIgiAIgiAIgiAIgiAIgiAIgiAIgiAIgiAIgiAIgiAIgiAIgiAIgiAIgiAIgiAIgiAIgiAIgiAIgiAIgiAIgiAIgiAIgiAIgiAIgiAIgiAIgiAIgiAIgiAIgiAIgiAIgiAIgiAIgiAIgiAIgiAIgiAIgiAIgiAIgiAIgiAIgiAIgiAIgiAIgiAIgiAIgiAIgiAIgiAIgiAIgiAIgiAIgiAIgiAIgiAIgiAIgiAIgiAIgiAIgiAIgiAIgiAIgiAIgiAIgiAIgiAIgiAIgiAIgiAIgiAIgiAIgiAIgiAIgiAIgiAIgiAIgiAIgiAIgiAIgiAIgiAIgiAIgiAIgiAIgiAIgiAIgiAIgiAIgiAIgiAIgiAIgiAIgiAIgiAIgiAIgiAIgiAIgiAIgiAIgiAIgiAIgiAIgiAI/78i3fmZK6PJyQaz506jXqzzyq79JBMZNM1g6ZLl7Dy0h5ymorkNKlHA4tk97Nx7gEhRSFkW8bhFoVAgkYiRjOlIkoTtSSgydHd3cqjvMIYfI5WOk0zrVCoVZs2eju8EbB7YSbVYIlJlYqaKhYmuynhBhCJJBFFE6ET4YYAUSWiGRrlRIaaYOPEQFzAU0BsKiVQSzwyIqxYjlQKZMEOo+Fh6jEalhhRK6GYa164QuRGyJmE3IjrbWjmcHwDJQ0vInDttKRO1MiekKg3Do1Cp0KxmyOcLGF43Rw4WGBru5/DhAW76r1u4755H+OAHTmLbm7u55YYLiXfPo1qpU5hwWHbyXHQVcrkMB/fvoX/nW6h6jPaOaSxeeyau4zFRmqQ2OQHVAXYfs5l0j9KoOcTdBJXaJO8dGKVUrnP/Tz5PoVBCU1T+vOEFrrr0ejZuPUEkQ61eoSsXZ+OON+huNlk8dx0tsTF+/PDrXHx2O6sXL+Xj//dpUJP4YUSAQzonUR+a5HPXL6WBwfJTV/Gt7/0aVVXJ5NKogYIsmWzfP4kchSyYN4NKpUK9WuMz1y7k7vs2EMv59HR00dLSQj1fYfuhCQ7seYY7f/442dw0Tpmb4/RTOuk96VxyWY2GFyKnbL5w/S089Y+/MuJH9O1xCcOpYFQ0md1b7uFL/89z3HL1ebQYLkEQMRFpVEoTtLek+dLNd3HZB1ezYMkKKB9l1owuGkqWvz3yKIsXrubpvz3GgaMnmDmnmxc2bMGIm1xz9RI+ff2tvLx5N+Vanf/+wT3cevM1TOb76V2YY7C6kD///l5u//LHUQh4+E/P4QRDyGGMhitx4QfOobm5ledf3IrrO3RlErz+9gAf++h5aKqBke2if/c7BEoWU2+QzaU566wP8Jc/3s9jT/yDtWsXs/7CS/HqEzTl2ok0g91736Ozo5X+E3lqlQrbt+3img+fTxBoDI+PkUvG+Mn3f4WU7eWTN51PNptlfk+MXft20DNzPnf/5M8sXqxwIh+w/c0jtHUt4a+/vIGrv/YqCg0Cu8rh956R/rcEIMeSzUjoDBdsfN9H8hSuuvp6YpZKLhdD0SL2Hh/l1BU9zJjRwvHjx+nt6WHpwvlMa2/BNDRmzpyJrps4XkRxokIsliAgQJVU2jJtIEVEoc3E+CSFqk2pOIkd2pimiWGZqHJIUtaRZZVq3SWKIiRVwtUDoihCRkaOZBzfIxFLYgceUQCO51EPPFTNIJJCSqUS9XIJ0zTx8PCliKBmoxgqbr2G51eJ5AjV0LBSJqoq43kBicgkFjNRVRXLUmi4IZHnEoQyShQSug65TJbeni5WrVzOopMvYFrvTJ577mkWrVjAm28e4vOfuZF5S5YgyzJBALIsY5o6qqoiSRJDg6N0d3fj2w0ct44kSdTrdWRZpl4ucvjQGHV7nImRMsOjNhO1ApmWDH3HJUYKdV7a/AxaFOAlTVadtJgd+waw/QYAmWSKfz79T44fHGDF/Nm0pceohR69s0wWTevEkwySGniRRKM+yVWXr+H6q0/BVd/ihR3v8OLbO6hWG3zkw1fiFCfozTWx7OQVYHtUBjbSv/fPXPeJG7n5i5/j4K6HefGV11BiOXqndXDhBxYT1y3uuvPzqFJIrVzhE5evYs35axnxIhw34Izlp/C9b3+V3/z0Ln789TuYM2spjprF0LSp/1qaitPQDfE8D3d0jC/f/lcyzS385rFNjI42CMnSd7DIT+77GS++foCfP/AMnbMXced3f8ZTm/awaOEc7v3DI3z2S7fQ2mry9tadfPmzn+D9a09ncGgEU1ZxXRdDVbj1Cx+ja1qagcERNm58kzdeeoWJwT7CMERVVexDg3Q3z2R08CAXrT+d1qZmHMdhdncny+ZPZ8XK5dx4xRpUVcX3fX5796+ZM28RT720kSAIqNaKbHnjZfoO7WX1OWewZu0ZU98vDHns6We59Yt3U3NkDhwaoFqrcNL8btaeuZB0LE3dsVFljX0Hj7Fq9clUinsxjRiyorHjaJV8waE2VqRjmsY1V99Crapxw3XXUKn5nHvVd3nk/q/zh99+iQcf/M5/VAHIdrVMZ3uM2kie/MQovb2zeO2VFwg8jVf+9So5Lc3y+Qtoauqi7AS4kUa9XmVkYJDJaoPAj1CikIRpgSSRzmWpVqvEYglGxiYYGR+k4VeRZZ1YKs306T14nke1VqdarWLKOrIs0/BdZMdH1QAD6nYNzZNoODaapqEbEpIfoSCR0eNosoSuQuj5pDJJksk4iqGj/zuoNE2hToCu6OgtBnLOQtFkQi1AClykKML3fcrlMpIUYPhTCa/vcD9Fx6G7uQXcEN1TSBoWbr3BiUODDI2NEDZGaW9KMzLq4rouxUKZ6dNb0HUdRZ4K4gifMJxKBJIMigrpdJZ4MkGkaaiqOvVZKDE6NIoZSzIxOcH+g8O8vf0E07osYjGZc86Yx41Xnosdabw3dox7//YY8XiMRi0kmYwzOTnJ355+g1DN4Esmv354M66WZvu+d1ncZhLKMk69RF3NUq/XQA7540PP0tyuMLO7g1076uzYcgjXtpk/bzqLZ3dy8EA/q09egGroZFtaCLQYmY4sL2zbR7FUp3+iDq5LTGnhvU19zJ3ey7MbXsa3a0DIw6/votPro9ksE4YhjWqRLc//nfdef5g9m57jjdefoVYJ0A0ZVQFFUchkMiiKQmtzEzEjxne+dSnHTuSp+Sn+587vsvmt3aTVCluff4EHf/lNzl8znWPlkCgzm2xbCylLBXuUP/75Ac5as4Izz1rNkX072X2gHyVI8urrW3EcB0VReObRJ7j9rl/hyyrJ5jY6p6X5zOdvnnrWRgOvW6J37mzOOPVsqnbE8cEhVFXFtQvIYcD4yDCqauO4AaomU/NKjB19j4RhkcvlGKjMZLJU5/DRwxw6WERVoVarEQQRTzy9mQd+92UsGaRQYmAgz669JdLpLkaKVSQUck0Jli/rYda8BNde93HK5QqhH1Cphyxe1MPuHW+TlbN8439+yy2fuYZ3tu8gcGwaUQxNAV1X0WTlP0sAw4UKvpKkua2VeXMXE1khhm6hWSGGCc+/9C/OP3sNxfERDMOgpSXH8FgJxTJIWXFSMYsgCMjm4hhRhOT41EsV/LpLdbJER2s3WqQwkR+nUqviOg2q1Sq5XA438KlHLpIkIesanhShqipO3cENA5zQx0rF0AwdxwtRdW0qw1brVKt11EgjE0uhhAH4kE5m8NwADR2/4WOEElHgUx+1oQFBFJLQ4pRKJWzXJR63kJWQeDyJXXNRXY0olJGCgN72LixfIeYbWKpJd2Y6yZjO6xv3s2vAZfO2QRQjxp5dx6mHFpnWufzj8aemAsV1URQFRVFIJBLouoqq6IyODjFjxgyk0CGKImAqMHLZBGHkIUkSlhXHSIU0Yi6O3OClrXv461M78AyNWUsWUhkaZGBMJggCytWAHe/1ETg2lSiiXNE4PurzyPOvcfzYblasOBXXV1FDnx/997dQpQBVVfnqV85k8Mg4SekUPnnN+fzh3u+hmwb9/UfxghTz5s2lVq0yMjhALJbAdjyWtBn84tbTkGWZ9ukdrFy9kNHKCEO2xkD/UQZHXdItWRRF4dLlbYzkR1EDhTAMmTWnk5nTZzIyXmLa9Ha6pk3jZz/8NpIX4HsKvu9TKhUJI5/R4QHWX7iG48eP87lrbuL02S289K/HuOaitdz+g1/zuwcf5+jBvfTMm8UHlszgwV99h8rQURRF5uKLzmTp4ll0z51OgMe5F32A1Uvmk820T/W7koRhGKiWQSadZX5PJ8dOHGTxgl6UwEFTpn7XA0drfP7Tn6DvyGH8MGT+nNkArDr7/QyOOIyNFvHMHJIEjbrLy//awN58wLnrz6BSqTB/Ro2//GUDF1+0nnTCA2SiKOLJp17mrHXv59G/v4wZs0gmLFrbMnzgklVUa5NEEliWhecFKLLG6GCV737vc2iGBkBrOkUmO411567laGmYKB7h1m0g5JQZOV59/h5ODOZxnIBA9v+zBNCVSyI5Ns05DcXUueaidZw8v4M1i2Zy4Rmn86VPXMV777zFUNFmuF5lcGyEruntJOMJbNumVq4wOVnGdV0S8Qy6rtPV1UU2m0WOoFgsUqnatLV10JRM4ysa8ViaYrWAZeokJA3DMIiiCCf0qVTrqLKGISlASDKZpFyroFgGIeBFIb7s0vB8CqUy9bqNW/Wwqw0iL0SKZGTfx5LjyD44bggNH9f1KTougSNjKFlMxUJRNJKJLFGokY5lsCc9mppaiMkmkhtSnXSwNA1vskZ5vEDC9Fh76kmE9hCe7NCo1dF0hXgixeXXfoUTAzZEMq2tLQQ+NBoN6rZLEATYNYda1WdkbIKe3tnU63UURSEej1OuTEKk4doOc+a2k997BCmUeP31EjOzEh+5aC5dfhd/feBxrvvw9QyM16nZNcy4SakaUCg3mD1nKS2d7ZjxGMvnJ/n09bfi+SHZpExb7xxu+/wdICk0J+P87MdP4HllZi2bRsfC2SSVDJIkEYvFuPTq0+lutwidPJnWNgxTwdJcPveV71GpjhHJEtu3l7FSLpFWYNeeIX7z5Ns88eYInh2fSuZOnb88uRmXEE3TeGXTRkYGjxDkEmzq28XZpy3m0QfvZejIOJLsk0ml4d+twLTO6dz/zHauv3AN66+7iWdeeIbPf+tujg/uZO37rub2227l/j8/hF6P2PDqK7y7dSMtVkQsk2bF6lWcsnQFiWSSgYFB3np5I/uPDdLX10dX93QiPGq1BqOjEbd86iMcODZAT9c8br7lszQ1T0dRFDRN4bJLL+BTt36FRct6ac9ZVGtlAj9i6MRxjhw5RMmucs8Pfo+ualiWxSlnXMyaZSfx2ot/xTAM/JrPyMQwfgT5oyVK+Uk8z2PNGXO557ffpKe3nUKhgCRJHDhaZPvuIg8++gZECpIcoagmge8j4/Pd79yNacRxXQ9FicD38PwKbixJ5IbEjASOI7Gvf5yLLr6cpmxsqm0O/tf2fyoBWFZAe4dJvVqhLZfg6IE9jBw/TkxSKU3mibw6aSPAMnWKw6N4cYOjI4PUqjZ9x45hpVLEY0kkT6VUKjFRaCBJEoPDw1QaNqGvkc0m8QKffKFI1lCRUIlnUv/uoUIq5Rp25DHhVoliOiERjXqAIZvk83kMVUPzp0r2KIowE0ks00SSVBwFYpZFXDfxGw7ZZAY78iGSSGgWsqwhRyZV16bm1DnaP4oa14lCGafuULUbuK6Ng4NmGkiSgmUZ7OkbxA4cgiAk0nXiqQRmOiD0xsgPyVx55Vm0d5k0JkdRzUncMGDugllEUYRlyqi6RhQFuLYNkUKETyMKKRaLHO0/hmmaKIqC6/qMj1ewnSpeFCdsaHzz5uvxRyQShsuPb7+JpdPaaO+IM2f+PI4NRWiahqIoPPXYC5RKJcIw5OV/vcro6BAnL8uyrHsmvhQwXBrF0FMcLNRIpZI4ygQNX+b/fG89K+d2UT86ysCOnZScIkEQoBsW7xycIJ7s4kDfMRQUbvvcZ5FDl6f//jNmzlyEQkRzLos/EfHWlhqTxTqSbkGoEcslkCSJW3/6EP967W2ODdXxfZ+hUZliuUDfyFECN8Z9f7iX5oxCW1sLZjS1MuuaiYRCI6yRLxQZKMfZMxHRlQ258LzV3HXLXSyYZeLqVT52000sWTyfA4cO8sa7O5nR00qxMEG5UmGsmCemqVxz7RXUAp/W9mbOXLMGI56gUp4kkUhw62cuJZvOYDtQOXiMB373ANkmA1U3QJZQrA6asyYHDoxwfKjIZMkmCAIUFTTTZM7M6Wx973kIfUxL4+c//g6FsUNkM93oeoxHn9rM1776WZ5/+TG++fOv4wcysiyTSjfzxz+9RP/xIZpbW7EMg0Vz28n3b+Pyi1fieQGWZTA+McrY6CTXX3k2imbhBj6qrhHWQo4c28VDL23F8xwqxUl8NyCUIi4852Qef+j3DOfHgBDPtf+zBGA7kMt0MGfuYiqVCseO5fE9mWKlTD6fx3Ftjg6MMjh0BE3TUKs2LfEUk8U8s2fMoDRZpVAo0Gg4tLW10dyeZXBgjJ72TpKWScKS6enpwTQUbM9lqH+QzukZnLoDDR/Hs9E0g2oAUegyUZ2g4NbJmCk0TyEKQJKmyuWIEFmSCGwPAEWOqNYbTBZL6HGDSA3RVIOsHMNxbTTZwHMjLEPDMuP4jRArYaGEYBgG6XSawHHRdR2PkPK4i+v5DFddjk1U0HSTRCJFoIbU/BqV8iTTuxKUa8fZteMwK09eQM/sZi695FyUUEVzqyCFKMpUWRsEAV7o4QQhna1NpDJNuIGK69p47lSJ5nkec+dPp6Wlhe1vH+eZlw7wwq5hNrwxxvKlaxge28e4X+fZbVuZ2zODUq0KgU8U+Dj1GvWGR4QHUsi558yjPFHl0X88hykniIYjWjpS6MRQKPDR607h6o80EZQUXt00hBvCg88fQ5UzKJJCREBxzOPFzZuRVYPhfAXTSlJxFVzbRpHNqapJ93nppU1kUxZOINHcPA21NETfzi1IwCcuuIBrLjuPBfN7+fvWg1hmji1jx2g0GuzbOsADf9vMy8c2s/9ghWR7M+XKJJ4/1RZd+eXHyTXP4Ls/v5t1q1az6LQL2ff2O7halkiNEc80kc6lGZgo8/wL2zjYN8Teg8eJmSaBb/P8cy/x1AtvMlEepa2zg5ilgKRSKIyTSCSoVqvs3nsAz5eZM2s2LTPaGCkHjAw6/98Q8OorL2H73qOsPfN0ZFUhlUmDLFOr2sycOYNqzeczn/oqtuvjOA6V8aNseWMf1dIYpVKRD1+8irNWLCFoWHz9G/+D59q4jg8+fPK69TSlc1QqFZwgQNdT+Gqalkw7jUaNarXKcw+8wPYHNnDnL/7EoiUL0GSFKApZcGov2SigUKwTS6nEY0nUtEU218FYuUahWKQl14ZumUSK/p8lgEKpyuTkGMMjx9m35xi6DB3tzShyRCKeoVxzSVtxsqk0VjqF07ApjORx/YCxiQmchk0kqdTsGgND41QmC7Tm0hw+dhzbkykUioyOjlMp1kjGLGbPn83w4ARj+QkIA3Rrqj8yQ4meTAc5M44SgRf6yMikrAS6pBP4HhoKgeuRizeT0ROYskoclYUL5hMFDp7n4XkeUqgCUClPIEs+jVodXQmY1zsHy1RJtWQYHBshIMJzbULfRVJd7LDBpFdluDZJLpUkiHTqrkfN9yiM1kiaOaSGyznnLsavHsAKJFRX4sm/b2FGr8w/nt2KhAKyhCprRJGELMsoisJkpcyyxcspuQETpYmpFeXfM4IH/vgyqUyCsm3jRzrJ9hypXCt/eOrvPP3aEdSmDNM7Z5CfVHDrDRp2FV2O0MwkoR8RBh4QMT5cIpdO8embbqAp1cyMOTEGiwq1eoVqvUE2ZjKjvYNdW9/m+PE8hYkxju9+mkyLhR/6SBEc2PE6+/e8Q1fHTEg086O7n6ZWi/jQZ/6I4zYIXJu+Q2PU5W4qYRa1ZRoDIyfIl1w6Z8zADar8fcth3h1wueSaz/Li62OYqQy64pMw49x+x42sWDCP3a/JLDutyBVXfIDTlrZx88ev5aarzqNeNmm2PJYtX0taHqZuj7Phrd1IHSdx72//yMzuHlwHfvTtO1m+eCGaI3H/A8/i+PDx//o6z2w4yBvb93P7t3/Gr3/7MIaeYrQwQDqdxjAMLMsgZmrs2vUOO955k4PjB1gwI8dkOU+9XifwQj569XWcsXQB+997m+c2HmdstPDv2IroO3SAjZteYu2ZK4iZJvWaw/7nN3HyrC5OTaTQzKl29u6/vcPSJXNIxXW8fy9gqhaxYs1l/Oqhp7BiJpW6y2N/fQxZkjAtaaqykw3+6xtXcerHL2Qi79HZmsDQFUI/oLN9GUsuuIl3djUoFV1UDb74td9z4MABBkf6ueeBR9izby+uayNH/9H7j/K9L3/qTl0FRVKo2zVy2RSNWh3Pd1FUiZ7OVvzQYfmyRTy+8XUWL1lC4HlkklnqtSqqJJNKJVBkjclyGd1QKJWrGIaGqhrIWkSlXEYzNHTDQFJlOjvbmMgXGHbz+IFLGETEdBW1oeJLPqBgyQa6HKNeLaHpGtVqBcu0MBQVr+ahxzUIIJ1J0X/iBJ1tzXiqRFh2kbSQerVBMpVAVwwy2SY818WtemiBRBQENLe3kJ+okopbTE4WSeYSWJZC3IgTy7Wi+xFtTW3IToiLjx4lcWpVErEUc5bNpzhSYNfewzTn2uiZ3o7ru5x+1knMnDkD23YYH6/S0dmEYWpEocfk+BiqpHP4WD+OW+SkxSswTZMZM2bREWvwtR88hRMmkTWJ2kSesFbgorPXkTY0tg3u5pwV57LvSBFNkWhrSXH8yCA7Dg0AMqaq0dGqMnyij5/efAlv7e+jJZtkeksbAw0VCPjQJSt5euNm3nz6JY4WJNwKRJHF3r3bmdWbY9Om9+ju7sBMx4lpFtnp09m3e4R7f/4lKpNHORG1cs6ZS/jUTzaw5n1rmblsLivPPouW3jlcfdV6umfPRM408ezuKtddfgbnr5rJ3V+9gfVnLuLWT1/JL3/xJqMjaZ7b0M/ll53NFReuZm7HUnpbfLbt3Etnd4aE4XLbTafzzD+fo6ddp6NnBslUju2bn+ZXP/0CF64/h972Jvr2v8tJp1/Chiee4dC+Y7S3Z6nnh6DJIlLiaMCM3m6uvOJiQr+Ipidpac1QqTQAhaamFqZ3NJE/PkKuKcn2/VUWzm0nYZnIEryzs485M1rY9e5uErksixbOBSIOHjxAZ7OFYcWZ9FrobDGIkPCSGi1t7UxbvYbx4WEUVaKzXecvjzzJBRdfS2cuQTod50c/voszL7qM157+HVtf30yIxquvvcXRw4Ns3X6AM9YsAgmaOmbSnM5w4/VrOXRsmFrFJZlMsue9nfzzqT9z3ZVreWfXPkaH+rBiC1gwr5tsKsGtt91ET283UQSB7/DAffd/+3+tAB56+AmOHR9lfLJMNt1MudLAdn0max4nhifY018gk22mUHZYPmc+URDSnMrQlE7SM206kTS1jaPoEqoqg6RTrFTRdIN0Jk4snmTRsuV4bkAiGSOMHKIoIIoCQllDleOEikRStZBR0CSDWKTgNxwCx8Oy4vhuRNxMAzKeHxBIEpV6DbtaQw0hppkcGR7HsW1COURWTcykRaTIjI/ncQOXdDxHOqERhB4pM0FhbJzQmaoaYrEUga9CpECkUBrsx3VdxiYKVEpVVF8m9HwkxcJxXO799T95970B1p5xHjv2D7N563Zu+ND7WTVv/lQ1Y5r4vksY+vi+j6nr9E7v5jf33ofkNMhkcoRhSLVapbW1FT2mYGWaCHybRq3B2NAAJ82dSS7mce661Sxunsn+gwN4nkepPIEpqxipNPF4HEn2iCeG+fTHekkGQ9zzj02M1Gs8u2kbrl8nCn3i8TSZtIniH6V1YTPVooIs+Rw7Oogr6RQnXI4ONXB9DTU0OWvNfMqjEyTcPA+/vJPf/XOIGz98Fi8/+09++8VzOPDGBga2v0p7eIIjm5+mOvAWX7thDfd+/9PceE4Hu7bt4sThw0Sqycc/9gU0XeKhX1/Dyhkuv73repq0SWILV/HcC88zMpZn1cnL+MbnP8XcGT08/tIm1p13Pld+8BLOPbWXH9z+HW647kaee3Uve97dTdW3iCWbUSr7WbKkl/dduJI1a04lVAKCukeTqdLdnuOSCy6gMDZOd0sL37z9S6QSCWRZntrnrwVUyyXaOyXmTm9jplLkB3f+CNM0kWXYvnUDQ8MDmKk0v/zFt9DNAF1XSMRbsD2XhK7x/nWzkSSJeDzOtPbp7B84Qde0Fjo6c2iayuOP/IucpfL6q0+hhC5hGGJaHbzytydZsvIyGoFBXJf51Keu4wMXnsMnb7qMRqNOFEU8+ODfOXx0gHvufYajfWMk4wa+7zM8MkA6neEPjz+CrMn85md3U3Nc3njnEK+9eRy3VCAMQ2zbJZS1/6wFyLakiBsG2XgSVQuYM3s6QRQSygrTOtrpajLJJFS2btlB38AJ3HKFSrnE8aERKvUasqZM7ePXHWq1Kn5QI5VK4QY+Y/lJJkol+gcGUHUDI5Vi34FjANieQyoWJ4okaLgEFYkgiJBlMNEBGWQZ27bxPI+GXSEKQnw/RJI0YoZJpMgomszBsVFihkm5XCYVT+CGdaRQQwUSyTSVcp6aU0U1NWRVwsWnNduGqU2V6HbDZbRQp+gHDFUmaGnvJpRkJHyaWnI0Kg6GrlKslpE0ld7p01Cy3Tz61EZmzb8KttkAACAASURBVOgmlUrxwENP8aPfPImMhO/7KIpMLBbDd1wUTcPzPI4MDSJLcOUVH5qa1MoysqoyMlyjWnbw/am5QHtTO2tWzWPBjA7CwGH1ikWEUgvgM3d2L6Waz4EjBwkidWrb1O7hxZfHmLtmPUf7h9j8wj5Wzp5GmGsBSeHWL/yYwd2j3HTFeRQHUjSlM1x83lqWLp3HwOFhHn1uJ/mRYV57dTMH9x/i0JECYdDAj3wO7d/H6HAep1Iik8qiRj6//8HV3PvTT3L++9byi7s+x7mnLoMwZNeO7czu6OHWG6/k0vPW4TlVsp09VMsNGo0Gh/orBNIQ9zzyAjNzOj/66Q84a93JbNiwH58TfOtXW7n6yivoSpusP/fDfPFr3+PB+77D6JjDKctm0jVnDl/73v0oVpyiE2NwaJydB/fx0KNPsOVgH4ePVsllknTkMux++y0uueA03ukrc/UNHyWTTkwNXlWJTU8+xoaX3+amj3yciy/+KMXJMjdecxnlWhXHc/nXiy/T1jGLWXPmcfsdPwBPwvc8nn1hI4pqsGT5Au648/uEYUi5MsFrb/dRGhvk2Sc2T51qVOD+h37OdVddxA++exe/u+9eFCXijv9zG0rrbGYYJl2agWEYjOXHOeOsU/nvn91PXE8iEXL6ypN4/pWN6LLN3LnzUA2ViUoBzUyjGiaWZRFFEcWxCRrVIoaeIvIDfvy7fxGGIVE0tZ3+HyUATYf+wijHi+N4ksR4qYye1Mg0xYk0n8nJCRTDQjF0WpqzWIbO/NmzUKKpgUno+ExWKuRyOZLJJIZsIkURkh/i1iuYTCUISZIoDOa58Pw1uK6LHdnowdQKGTctErEYijY1mTfMGJZloaoqhp4im2kmk8lMPXEooWgyST2GbBrUnYAVC08idBsY2STFYpG6HeKENlEEmhJiaCaNiotNA0mFEJ3KZImYlUDTDBJJk852hUJjHCmSCWUZSVZQVZN61aGtpQnXdelqbyOQI7LpBKbuctY5S0gkq0zvTnFkYIyCDW4AcSuG400NKjXTQI48XNfl9DVr6Wo1SSSaqdVqGIbF6PAwuqFw5ftXIckyqqbhSlmakwnGC6NsfOs1tu2dwIoHrFq5Ars0yfNbtxD6BtVqnUTKxJfzkKxw/tIcZc/l8ks/yLf/50mODU4dooqcOB//v/fz18d3UxofJxZLsPWt3Rw80I8V04nJDRYsOIm2tg7qDZfRkTILF3UTS1h887Mf5tOXLGZ8oI+v/fDPfP/hN3nrsM3bfQGPPr2B//rmD/n5w+/woU9/l62HNX7xyBscOe5x052PMx7q+HKObCYOss68k06lrbWbu7/3f/Bdh7H8Eey6wrnrlqBJ89m3+Zfcffd9GAmZBx68l1DtZOuOCf751HM8+OtfcdP116MFLoZukZPLtHflmCipJOIpJgsB8bjBRDGP4pRxCXn7jY088cwrbHtnEL8eEoRAJHPZx67l2JGt3PvA7/jtH3+BoSvMO3kJruuSzbTwyW/8DNerMlEc5fu3f4zJySGy2SS2W6RUVeid0cX0rumoqkwqnuDN5zdw1/e+w6NPPk4UhKRjWc674HJ2vbeN6679CDd94gaiKOKTn/wana0K66//IFUlRNVkykWbr//kcb78xRtxwhqxWIydu3bT2yRz+upT+N0DLyJHMkf6CmhWExs2H2H/bodYKoWpN5PMKGTjDtlmh6P7j2HFczRch0ax8B8lAOW8VfPuzLQ0U63X8QKXIILJqo3tlJkoTWAk4+iSSqT61G0Xp+wwODxCMhVjcDhPV287tl1H0w0iPyCTTqAZBnbDxtQV4nEL37FJp+IYhkbNKZNKZxjMj1OtldFVjTACI9Ip1aoEckhgRwSBj+PbeL6PU61jWCoN20GSZMqlKq4ZMlAaxzcUWrHwtQBHCWlNNFHxXBJmHIIAu9EglYnj+x4eLkposOfoCRRTw8cjbLhMlgtoik6mKYbkWUxUbVQZGlWb9pYWHLtG3IhTs+s4tsurb4zSlEzg1SfpmdZFrdpgzvwO8qMu552/FMd2KZVsck0JVE0hFTd5c8tWrFSGtrTKytPPYrxQIgwDihMVhg7t5bePbiXwAjRJ5tu3ncdA/x6OT4wzd/5K9hwYZ9nyxRw+tJfnn3+eQsFFsxKM5ctc8qEOasVB1q87h8JhlwNDAzTKQ7z/irUk0y3EEhme3rAPz6sQ2D7d09KMDpdIpiy6O9s5ZdXJHDp8hFrdIZGQOdqfx1AdPvTB9bzwwiawUhSKNcoTk+SSLtUTQ5TGXT55wyU0ymOorsSMToO//vZH/OPPf6Ja6Oczn7iIx//yJ558+DFCHNavP5Oh43s4aV6WbW/vpas1yd4TkyQUj2qlRksuhxs41CZH2PD6Hn73g18yNHaEt995ldtu+SjXXXMmp5+5mo/eeB03XHEBR/r7qORHeHXLDvJVl0N9/aRirVTGG/z6C5czLJsYhsWJ/DDl6jjr1p/CM395kZ45c1EUCVlXOOPM93Hrl+5gcHQSOd5OOmFx4OAhTBWq+QG+fcfNjOdLnLriZIqlBqoW50s3X83O7dvYsXk7p5yylKaWJiQp4o3dB+lpbuGqKEe+3SIW1+jbe4imtIpimqxYOo90KssF7zuZaz50Bg/96Y/MP2k5sgTTu6ajVfq5+KoPUyiMockyy5bOpJav0D9QIm1M0Nndw8EjI7y7+whHByucvKyNQnGCvv3HeN85q3DcMRYsmE4ybTN/WitWLM6GV15h88bN/+sMQO3o7aZuO0SSRLFYwg9KxFMaYeBjWQYAtYaNrqjE4xbFRo3QVCg1ash6RKE+SsyIY7s1vCjCU3zswCeIAkzLwCFEBto7mjg8MEg20YTvu8hBhJSMUxsvoaoy9aBBqPgESAQSeI6NhommR6QzGcYLefSYiqIoNKUyeFqArGuggJWKEfo+IwPH0eIQ6AoN18dvlFBNi6rnUqBGOOnRnUgzrbMFHxvZN7EsHUmVQIoIwhCVqb35wNCJ6TGq1RK6qlOt29TsGjM7Z2KY/SiRQ3uuGVMJaO0wGRiYpNwAP5TQNZVisThVnjsOjuNgmCptrd1MnthDo1FFlmVWrlzJ93/4U+JODc9zCIiw4jpb9/aR1Eo4ikqtZuCHHtdddzWXrr+Y3vlLiRVC3ti+A0WOYUo6t3z+LH78w8f5zg3XQdP5FCaOMVkfwYidge02sOsFCEMO9pVYNm8FTcvT+HaRdDpFJV/itFNmc7h/kvkzZ/H6hhcwWpfiEtLS1s6xnRtYdspSrr36CrRoHZKqMThwkP17tnPRGauYPPweTz7+FOVbr+GaS1dw2ulrGDtxhL88cBuhLeN5DjEvj67FadQqeJ6GGwR0NMtoaHzqtu9z18/vxrdt5GQrP7zjUwS3f5zJmkdSDQhk0HSLwyMFlMYY+eFRfNvDNE3OPXs1u3b2s+akZWzYuJ+TT27njf5BNr52mJGRIWbPT3PueUuZPyfNCweO8MB9D/LRT9wAWMhGQKNWplLy+fPfN7H+vOXMm7eAlqYU1111Ma+8toOW5k42vb2XY/0l9vXtYNOWGCtPX03g2WSSKQaLRbLZLJ/5yAcYGj2CvaKZmGUSRRJLls7g4rPPIpSg5Ns0XKjVFQaGbTA6OHY8z9xZrchqjFkL5hFzhsiZKqga5UqDM88/ledf3ImntGM3XI7u76N5eie33bye0uSbuNtDbrj2/fzh3ieI1CITks/cRQvJtLbyxt5JTjt9xX9UAajFYomj/UNYVhxVm7qR5doavh/hKy6tre0MH+snUCQOFfOU/YhF7T0MFfP0duZw3DrlaoVkPEEsLlEul9EME9XSKNXqdHQ2sf/ICegP8XydLkXBlyJCz0c1FTRUAjy8ICSmxPECl1Qijqtr6EqMYrnA8YEBmppzIEmEboiRTOC5BZpjcQwjxujoKPEmjbbmFqqlEM9pEDOSaGqMYsUl1DT8pEFge1TrZVpyOWRi+K6H3fAIgggNHcPSGBopYtchqauEfogZS9FwbRRVYta0aQz393PB2SswVZuG7VFr2OzZWsC1uuidtwdDkhgZGyKVSmEYBoaZIJIiZs2YyeYtO8laU5eLDMPgzTe3MTQ0xGVnLuO2Tync8T+vksrVUbImkZRh9ZylvLunSjLdxAXrP0ZYhw0v7CER04nFEjRlNZ5+chuNibOJmbP56QNPM1IxufxDp1GdyOM7NSqNMdywyIzeOB0dC3Hqk6RSBlZcxw9sfK/CsYMnSGancbRvBxesO5uxyQqeU6cpLdGZyVI4sI3f3PUalpSgGiTomjOdRk3mH/0HGB8rsXjhHH56++3ki3UeuPunICcoNCYYKTVY1hWjrWU+F91wJVW7yMpVM7jqI99nzpxT+PH3b8JMtfL7Xz3Cw/d/FcOySOsR+UZANgtSGKHIMnHd5IAywsrVp2PpEb5r8MqLj3D4yBFOWtDLjncHmDHbYO+hcZKJZt54b5Czl7Uzq7uFV7bsZ37vYj73lbOwslm2b36Po31D9MzuIJXKUBob4dwz5nPgwAksy2Dbu3tZdfIiig2ZjZt20tGeYPnShZQbGjt3v0cYHcY0FBx3iKNHCsSTGdaft5B4rpUDhw4yq3c+kSxhB3G2Hx6gVquwfMk8vEDlyLFJ5ECmqamZUFFIxXS2btvJof4SB08M8L4zT+GhhzZwzbVrKFZC3t0/SDIuI8k+i5fOZGR0iImhfVy07mLe2/4b3GqdaVmDWmDSMbPAleuvRdbhsvfNJYH8n7UAa09deKdhGRiaQhiElMpldP3fN9kMg7GxcdrSOUxTwa6HpGNxpEgiqcqEYYikaiTMGKosERIiSyq1hotpGOimRsO2SSViYOk0NadIGTpjYwUSqTgjE2OogYylm6S0JIqqYRkJxsfyJFNJAschiEJSqRS6rmO7DXw/QFckDN0gnUpQdMq0xFMU7TKBrKBo4Ns+M7qmo6k6PuC5Hn4Uodg+XS1deI6H5/nIkobrRPiBTybTzER+HD9Q0A2DWqkK8tSVZ1WTSSQTeF6DbCbHvJ5eBgfHKJby6LrBtJ6ZbHn3DaK6xtnrTsXQNUZGKqQzcYLQw9Q1Du3fyfHBMRQcVqw5jZGxSXw/QFMsZL/CO2/t59RzT6IyuZ8dWw6zdPYsWnNNKPEetryzl6QWsffwEQJ0QjRsu0osHrHytGbK5eMsWtZBcVJhdGyM5Sf3UJgoMWvW/Km+F49pXUlyrSrf/ubXKJZKnLrmVGYum820aTOJZxO0tExn8dJlGKaGHjdo6+gkVMGMq6y76BJOXn0Ouc45dM45id37+4nHYpiGQbZzJn4Q0HBDzJhFT/c8anadhctX4LgGcxev4UPXnU+pXCeMZJLxFOvXnc53v/EJdr73Dr+658+88vgfMJIarj1GyshSq+QZGxlmeLxE3IyTSSc5fuww/3ruWUaOD/Hm9i3ce89vmNc9DysM+cvjz5Cvpam5NfqODpLLZVm2pIcPX3YmW7YeYt05S0hkOnh50za0ZDtRlKdSLZF1tnPJuuX0l3zOuehKls1P8ORz27j5unVse/MlduyfZN26teimzl//9ihGoglJUXjvwAB7Dp6gpaOVXXuOkYwnKJ3Yx4qV5/L1O35EuVRg+65jHDjYR6EMZ6+ey+ZNb9PVmeMPj7yAqTvkx6r85bEXOfes03jpXy/hVPNc+L7zmKzXWXpSL1/55u/43C03snffPs4+cwn33fcEw+M1koZFS1sLF1xwAemkxoaX3+Db37mDtqZl/POZJ3n/B69itJBnYmAb9z/4j/+1BVDOOX3xnbZdRzcsKtUK8XiMSJbw5ADXdkg2Z8kgo6hxRsoFZnV2YTsNJDRc30eLNHRNx/d8iGRK1TphGCLLPqpmoEga+cYkrdkcbqmKZ/t09XQwUhjEk2GwXicbMyhPTE5d+vEbpBIZqvUayNLU2XJFwnEdZDVCM3V0M4YnO/iRxHijSnsiix8EBGpIItSI6xpjQxV8xyZyXdraWwkbPm0tzTg1H02JsGIJdM2g3LDxwhBFi1B1FVXVGR2boL25Y2qiKkPM1ChNFLFdHxmJre8e5bTVs/CCkGItwNBN9hzdyIcuPwtVTZBMpGjYPjO6p5HOJjD0iPJEgdc2/7+MvWe8XnWVvn/tvvfTy+k9J71XSCAhkNAFFLFjmbHrWJjub8bGqGOZGbvijF1HRUQFqdIJkADpPTknJzm9Pc95etl97/+L4+f/lnm9X3/XXvda932tV1g5OMjGrdsolOv4fsDI8Di5seO09nYSyxicON3gnXdeje5rjM5J2J7Hi/vOU6/l8CUVxwVBgttv24RvwVxuErGp8p47/4bJiZMs6W+n0agQN3wGlq7FcyWeevy3tKWjrFt7Ey8dGmah4DCVKzFxaYEvfvWnnDozTceS1ezb9zhFN0qzYvGVbz/MvscPsXz1GmJdS3nkkaf4xv88xvEjI7zuaImHai5/3H+QM+er7Nq7m/v//CA7r30rxvpN/Pgnf+DQc0P4ok8xV+D+PzzAfD6gXmkwNpZnairP868cpZirMZ+f5vEnX+XIiUMs600yOXOeQnmBainHfffdTyZrse/FZ/DMGqm4gaaGtLV0sPuaq8iVy/zxqdN885t38asHX6Cjdy3xTA+qpjAyOsnxMyO09vSzeeN6jpw7x/h4hVePjnDj3p0cPXWGzZt2cGKswMDS5Xzh819j+Yq1nDy3wJZ1nVx/405+9qsncAKHQy+/zM4dm9B1ndCDysI0X737Y9z3s/v5/N138fgjTxG6BbrbW7jzrbdguh5L+5IcfvkcV+9ax5WXr8bzLJb19/HTe77AqeOH2L55HUePvcLtt72OgfY0/f1dxOIRbr7+akbOneSG19/EpbNnyMQEguYCk2NzrFjeguc2MctVlq3u55N3388N123j37/6fR57eoh3vGkXh46fZtna9UiBw49+/MvXLgDXXLH6blmWaTTqqKqKqCnUqmUyyRS+7xGLxhBMZ1Hfi1Cr15FEhcALCLwAO/DQZAWEkHytjCQrtGbTqHqMwkIBXZcQEgZWo0FvezsCAbFIhLGZMWaLRUzTQ1EFYrKOqi1aeGVRJprQkSUVx3EQ5RBDj+K4NrKiEkoSDa+JqAq4sk9vtJVioUAoCyiOhGs7aKpKOpHCbHokY1Gq5Srt6SS1QhUjalCp1gkDKFarGMk4ohziWzayFmOhUEEMZMr1Gu1tGaKGiu96SIqM2WwyMVHj6HidupqjWYJkKku8U+bONeuQs0tQVIVyyePQ4SGGzo9y9PAREhGBeDIL+GzeuoVCuY5tO8zMLbB1WZZ8ReD02BAbdmikjQg3XfsOTg3N8dv7H8OVBLZsXM/CQoGm6eF6LuNjk+y6eoDSaI0vf/cX5EfOsHFlJxcuTnDTnptYuXY5khJjamqevdfeRKMecmZommQiSywdp9lwELUImzasoFCqcvHiOBvWrsex66iyzuhMnkj3Em66aQcXhsaYmq+ydKCXTDbKhU6FjtYIa9atZWRyCkNyac10USoUuXD6BEv6u8mVaoRqDKtaYO+N11MqlVGVCF7g4gUugR/i+y5rVm9koZqjIyny6qHTXLlhGXFN5bFHHmfP3j3U5+oksy0c2H+IHdsvY3yqgKYrPPrIs7z5LR/l4T88gKIkOTmUY+rSKE2zgiLYdHUt4fiR/aTVEk89eYAnXhzGLOT5+PvezPfu+RHj4xNs3LQOUWzhnq99lS98+i6OHz7K+mUZHtv3CldfsZ7iheNkIgqb1vaw57prOfjSfsZHR+hsT5GfucjMdJ7jh44w0BVDUBQy7R149TqSW6KYy/PmN9/Kc0/+mfakRjSeYW7sDAOdEqXpUc6ePMsbr9tGb4vPmTMjJAToXdmKITRY2ZNgaZvM8VdeQVdkXMticMUqJARWLOnkuttu5jtf/wZzBYGz50Z574c+xPTFc9xy0w7OjVe5/777GD1zjkNHj752Abhi89K7LcdE0XUIQJdVRAESiShN0yL0BeRApumZyJKM5Tg06ja6rmNEFAxNI6JpKKqEJEpoYkC1vJhfJvARfZ9ExCARiaKHAi3pLPl8jvl6mWQshaFqJJNRonIEWdSIJzK4dkAo+EiiSKNpo6gytu0ueux9n1gqiuu64IMkyAiWjyv5uKJLWk1gRCK4HjiWB6FEvVkilYpSNctE9RRBGJBpyWBWGujRCPnaPJIKcS2K0/SYmJsnnsoQyAKC4xKNGOCDqIjE9Cgnz80xNHUBQsi0p2nrTOErTdb3LMePdmBZNoVimZncDLqiEAQu7RHYtecGmoUZ+levoVJtImsaE+NTLEwNMVUp8cf7X+JNb9jO5PAcoxMelm2T6ljO8PnzTEzPEdMMjIRCtdzE0BUSepLZQoWVfa2cmSnyn/c8wkJJ5L7HXuRd77wVs94kGonxjW/+kOFLdXqW9VNeWKC/r4doTEdRNCRBYml/L88+9TyXXbGFeDyOICtMTeZZ259BUSWcRoOWVAxNMYjFIyTTWYxYkqgR5cDLx4jHDaoVm7aOdmKagabIrF29koXxixSLdZatGEQUFVRNRlFUXNdGFBV8z0EMPby5IZYN9rGsK0sqK/HKwaNctmkNsxMLjE+X8XUJUVU5cOQEueoc//XNb3DT667k2cfvpyUoceDSMRKSy8DyGDdctw7XV5meGGFhboYPv28vDU/A0JMMtKaZm1lA8m16kiLX33gtzx0Z5tKFUYZGJmnUppmZL3Dx/Bluu+02MokUZimPpNg8se88YiDR05MiEoswOl6kaVq0ZeK0Jg3KzQrTk+e59po13PPfv6S9u5fHH3+SVcvbyZcEDp4eo3+wi5akwNrlSzn+6ilqgUKgD/LYw8+guWNs33sd3/+fX5LJ9jBZttl/8gwbNqyjq6uXquXRu6SV9p4OfviDX9O2Duyqzp5rdlArVjl2foJzZ44zc+4iqYjMLx55EZzyaxeAa6/ceLeia1Qtm0ajSTwWA0S6st24uAiCAraPF7oYRgJRjiAGAb5p45oOdt0kKmrIhsJCqYThSQQhDPYP4pgO2WQKRTMw8w0y6STxeIxm4OCqAQ2rhi5HCHBRZINmvcb8XB5NlnBYDNPImggBBH6IjYskyaCKNB0TU7CIyxGSSoSaVwVRIYpBqV7FCxwCy0fXZfS4gieFNGyHpBFHUmQc3yXAR5RkBAmiSRUpIiM4MkU7BDwcJ0QQAuKxCKHj4ciLnuxEMsXuq66lYS+Q6WtncnKSXD5Hmy9S8lQKpSaFhQa+76FrGmFgYZXnSLb2UCrmGVixgvxCCUXTGD53gcBqEmpQdTRqCw36u1dSbQrU6lVePTpJo15C16KYdo3OjhjlYpOOrgwXzo0R9UTWbVuPgMKxU8O8847rmCuWee/bdjO/UEWWNY6fvoBjltm4aQ8njp9Hlhrse2Y/uZrNjdds4+SxQ1x1+TpWrd3ApvUr+PV9T7OsLUSVPdJGCz/88X3sP3yC+akRDp6b4bOf+jR/+0+fp69ngIhbouJKJBIJ6rlJHnrqEIeOnSIpiSTjCrfccRNmvcG/ffkrPP7nJ8lkUswv1Hjsz8+xds0qAgLW9esszORo68owN1cjms6iyyKPPH6KicpFBlZ3cOb8DDGtilCucfCURZMkZuCx57Zb+fkv/pd3vOcDVIqz6CI89fQx3vGO3fQuszGUXn7/0BDjYwWGJvJcmp6mZDmomsYVW1aRK5SZz5WI6ipbt61DCprsuGwlf/+5H/PwSzNctWsrHdkYtWKD/oE2Ji/NkE7FsXwZwWuSisl09Q+ytCcNQpyqaXP93uuAkFRKRdfaOH9pgbpl89xzp7j59dcynqvTtXQZE7MCLx08yMxCiQ/+3V1EIjF2br+Cv/m3f+SZQ/vxHIeyFHL/I7/m0NHTfPgd7yRUJJ594kVUO8W2y3s4fnQYz6pzyy27ePFomXe/7438/Ufexd5rtnLvvfe9dgG4euvKux3LpdtoAR8CRKKSjme5jI3NE5MNJMGjq6sdy7bwPJHQDygVC2iiiqHqOKJIPV+gJ92KLKkYqoYiuzQsj3qtRFTV6Ozu4tLUBCuXDDIyP7IIzdAji+s+TcQpuoShiB8GqJqGLAs06yaO4yy6mkSJQA4hDHGaJoEkoGci+I5HTI5StEuEKPh1GyWj4NgeSUMnDBU8mpQDB1lWEG0JxzXxbIFqo4AiGKRTcVLRFKXyPNViA02LEY/GCPCI6Dqh51FvNPEVAVWQ6ewc4MHnnsT0c0zlcvR09dJwy6zu7MMRWxEVEdcVkCQZ3RCplApcf9U28sUSsmfRtXIFjbqNYzmMTxToTgUMT05xmdbD0oE+mrLE1FSRuz/3z3z7np+jqCq+F9LXmeH8yBgf/tAtjIwe5fKrr+HXf/wVZ4+fIprUOHrsDJJdpOkE3HTdVjQjwalzwzzzxEukUhF8M8eN1+/iW//xBaquyGc+8Rau3buDl596hhv27uQtb7qFV195gY62BNfs3MRtb7yZnauWsHHnNt7z5puIROp87T+/xNN/fpD5hTFcu4ZdzVH3dVRRZezCWf7103/HO9+6hyACQj3gyp3rmJub5/pb9vLyS4cwq5OMXBwnX1aIRRViEY2+7j76WlwefvYEw2fO8cqrw+Tmhzk+VSNXTdLXn0aUDXIFnceeHsYX4oxPVDl3dowVq1Zw+5tfx8MPPMQVO9Zz6sgUfiCQVJscPF5DbpN4w50bOHNigs5smkr+Ar1L+olrMbp6uhg6f5ELI+dp61TwvRzNustjTx3C8jsZOvIY//bF7xCKTR594Nds2LAZy6oy0N/K0MVplnZ1kkzFyERVnEaZN73tDqKqxMT55ynXCyxv0+hsjTI5l2NgxSpGJs8zOneGs5dO8tKJlzkxNMulqTHWrNxAqVikpz3F+z/3HrauWknfyk5qSh3faNC/tJsbr7iaZ179PfVGkTfe/ma2XbaOZ448t5n5aAAAIABJREFUhtgIWL2yl86OThLxU3znnuf5wR8O8eqx0yxMnXvtAnD7Nbvu1kSJ2fl5DDUGnkOtYSIqGoQeLekY61YtpVxrUGraeGYTWZPxHI/O7h4apkk0ouE6JggyqrbY0od/oQAZmoIqq4iyjG+bmJZJNGZQLJSxqw6aqGGaFWRBQdMjiAhIooAoSciKgmpoOK6LKmi0JlqwGjauG5CKJKj4JlIQIDsKZuDiKR5r2gfIVRaIGhF0Xcb1IEw7hIJAd0srjXIdT/CRJB1FFKnWGxQaJURNJZqQaIlmSUcNmqZFJBrBMm1kRSYRTxJ6IWLo88rxHC+8PMXMrEvfxhQz43OIgsvuNTtohgaFcpHxsRnCMCSfLxGLiMR0mc7OTsbHxxhYvZpqxSYIfC5cmGBJm0jFFmlLxZFDgbqUQVVVFnKXOHB4FLNhoSgWS9rgI+96E0PDY5w4ewZDcagWaoSBT0SJsO+Vs/ieRQhctX0N8wsVutpb8WoWY2eHWZpUuPaafq698Ua81EaWt8Gli6P0dKWp2CYnTxxm1ep1jI5c4PxUncbCDM+eGeKzX/gmZ8bmmJ+a59++/lve8Lob+cn9L/C5N19PpVlmugyHXn2F3s4u5usiP/j+j3jLHW/hS1+7G1VtZXJ+nsJskS99/1HecesmwlqemekFrGaNgcEBvFCC+jxLuzqYmc9RKtW56earqdlNXj0xxbMHXubMyQbnzs7iBxFM20GQJTQjwYlTsxw4ME5uusbRY0N88P1vpFk6jhwqdLREeObpMjIR3GqZzu4YU2Mz7N5xJZLo093TRejkmZjK0dap8eS+Yxw7Vcf023nxpR/xle/8gg995Ea+8I3H+buPvYN6NU9f73JmZmcIfJ18YQHbrtG0AgaWDWKEZc4eO4RrCCQSOh3RLPlGhVj7asZGJ6n7TSypgRjxQAtxayJvuukWAqvO/kMvce3eK3h16ABtfS10RmK0dfRSMWeo1UT0dEjEjVEOPeZyU0xeOsfrb34rq3o7sJoNOjIKl2/fw43X9OI0Grzw8jmw5167AOzcsPxuTY0hKzKmaRPKCroewZAFwsAlm0liaAqVegPTdrFskyAI0VWdWrNJNBYjE40giQam2WBgSQ/lUglJVNFjUdLJOJIsYVoOogiZTJxSqUjg+ZiST6FWJKXF8cMAQRBxHY+IYWDZJp7vI0gCQRCg/GUgKP2FddakiakESFZIX6qTvFlGkAQigkrEiCP6AhEtQrVhEdViNJsmnmWTTaaRdB2z3qQlmyaXq6DERcxaHVuCpJplrlAmaiQIRHB9nyD0ieoGk+PzJKMKv3zoNH4o4bgi8zMu6axLMimxKtWLKUSo1msUihWEMEBwG1h2k9ZElAujFzFUg/5Vy6lVLXzf49LIFCnZYqpYpi75RLMtLDQcRDySUsC+Vy4gygp+ILB2aYZiqUIQOixZ2YMUkViYmae3ewDbsSjOTGKIPr09KQYHehEkBa8xzyMP/JmVq/t52x23ICkBvpbm9/c+ytR0jg3r+5FEEVlSEASZ/MICmiaTTanEIjpRCW66fhOXrRlk9fIV3HzNOgSvxnVXrMSPSBiRFKOT09z5tjuYmBjCqk7x1++8Gccscs3V20gnDXxHoL29h92XtyCaef7zew/zvndfy4mhSyxfvhwEBbs5z+Hzw9RFh1A0aFYFXj46j5HK0GukWajZJONJjIhOLBZDkCWaDRPHtQhCHw8Z39d46rkhcnaM6dkpTl2IY/omjVITv1lh62XbKVVq+I6D7at8/H23cerMIUTRpb9rFQePLiCrPTz13Nf5ynd/i5Jt57GnjvDzr3+Up58fYdXqFs6fOEPKUJmvNNn/0n40VSCeyTK4tIux4eOs2LCTMLKEuCDguTUuzSeYmilSKk/R19VF2ZxEiSg4gcR7b38/nUmVcxfO44oBY0MXWbK5k1rYJK2mUbwUesyi7rokdRlFkiiZBQKlSUs6xbGL+xkvTvDyi+fZsWMLX/r3e7BrOi/ue5pYSqJWXHjtNGBLNokku1iWBYKPjMd8YQFFkYjHo8QiBqlUirOnR7E9l86+JYRB8P+z7pLRGJICmWwcSZJYyBcJCKnUqiwUCyyUazhuSDSRxrJD8sUSzx7IUWrUKDWrDPb0IgoaQQCCIBOGAkEYIok6sUgcMVwk9+oRnfxCCdvyF7lpvo/tOyjJGLXSAq1tCSRJQhBFzGoTWdGoV5v4+GiBgZ5UiURVKrUGjbqNJBo0GhaiBEaoUzNFGqpIMZcnk83SMJvMzM4jiYvQjqZZJ5HUkCWJEB2EAIQAu+5TnS0SyjpyVMUJfVzHI5NuIQgC0pkOVF0jl59hbnaeXD5P6ImAhyzLZLIxcoUyjuewfvkgu6++HF2UScZ1zpwdQo5IKKJEayaDaTksXTbA6FSRqYk8H3v/J/jwx/8FL1TRZQHXKrFn+w6wm5RqtUXMV7KT1SuWYmhxnj9yhFNTdSrVBmYQMDxWhFDBDSQCJEJBRJBEZFkhakRw/QBBlvBsmSAI8QIb3/cXV65uQKFYpeL4vOUNe2jNqqQy7Wzfvp1AUHEDCcQEih7n3EiOwyeOkU7opLv7kdUIg91Z+nsTuK5LPCaT6hwgGhG549bX09XWyoqVAzTKNbJSQL1RXky5uRY1p0GlXqFZryHJi+k+IRRYvmYjoqIg6xJ2zaPm9GEkRAxdZ3quSM+KpUxcGuX2111Dw63gVBZolipcvv0K0vE2To9UcP00X/jqLTzw0Ivc/vqbsVWVy3dt4YkXR7nzPVfz+S8/xdZd25kvTdLRmWXFqpX81V+/g91XXcnszASrN+9meHoe17V5dVzjSC5NS/8GOjoNVgx2k4gnUVEJXIHPfOAfGewfYCo3QzSlESo2H/7I+zh78jS+6dOUHAxNQpxYzlXtl+MEAbmSj6EkqNhNRhsz+GFIR6KNfD5k39GX+PwXPkEuN876dZtoi7e81ttf7AC2rhy427IcFEVGVnS8MCARyyLLPgIyVqNEw7Q5cm6Szq40tWoVx3IxGy5t6QS5hQK1ZgPf8YnFYpiezUKxSCIaRY+oKIqAoMDcwjyr166gO9PGqWMHEHoM4pEIvh8iBB6ComE3LOLROJ7rYjt/gYUKIo5pE3iwevV68vN5FF2iJlj4kk3ciCJ7Ap5gL6YDEQntgHgyhq5GUGQJzzMJLRHX9nHNEBmZMAiQBEjE04RegBIBHBffkVF0kKQoalRBDBU8z6I1kyadTCMJFi8fL+AFPoHvIUkS1aZK9zKV1ellmKFKbiGHJOoEIYiyRGdHnKVZnXgkjuvL9C9fStO08IHZfJW+rEy+bLOqK8uJCzNMzRTp7UqQSLRx6PhF6qbDwvwcczmLLWt7WL2xjz/+6SX2P3uQtclO5q0S9VqRf9i0msfPnsCItHD5FZspFKpEkxm+8a3fEFE1Hj08zu4dmwiAqCazcWUXRkRDkWUcx6XRNPnmt+5l3dol/P73f2DtypUkk3HmSx6yIINrkmldwhe+9E0qpSrP7DtMZ0sbtlUn8BuYhTni6Qzj41OkU1mMZAbcGocOn6c9HqWlLUm93uATX/wGZ158mFDJEE+1okgCoRJSsxUOHTrEeE5j7cosyexylg0k0ASYKtjYroWASBgEKH+hLgV+gCKKWLUKtmUhyBKyLOPjIbDoI5F9yGSyCIqCHBGRTY+lywZZvryDQDIxHfjjoxe4/o5uzo77BIHNAw8eZY1RZMngaoQw4I9PHeAb//43/Otnvsedb70Z0w2QBJ352XFy82Ns2nQFR4cKJDNZXjk0wdTYOD29bRTmF0gmAubn5mmPWaxcvZxb9ryOiKjyq9/9DyePnmR8osBt115DsVjj/t8/Tkd7HDHh4BLQZrRx5uwUCSNJQomx9+rXceCVw3QPpLFdi0bQYPumlUxWZ8hVpnjbm97Mjdfv5My5M5wfuvDaEuCGKzbfHY1GEUWRidl5FFGgbrl0tMSpVBq0tbUy2NdNtd7kwPAsy3pacL2QbFuWZrOBEddxJY/Ad7A9EzOwF3e9HjiOgx8EVKoVBCWkFgiUZ6Z59wffzmRulFK9iqiD2XRJRRN4pkcYBsiqvPh4BBFCiUy6BU3TyS/MICsqjtTEwQV8JMmgNZ5B11Xy1Rot6TiZRBK7YRNvSTI8PoWoCmALGIZOs9okoseYm58FQUUUZJJxg2qjjhRo6JJANtvK2eHz+BEFyfNobc0iWwHFRpGuSJrHDk5jGCGhIxEEi/cDlm4UWZFcQaBGcFyPD3zwQ4xeGmPv3qtYMdhCfmoSI+bQaIZ09i/DIyQMoVBsMnvhPHWpzsaVqzg12qRcKtKwA35z36PccstNXBqeIVAEOlp0YlmdqUunMRLdFHJNXjxxjG2XbSGdijCX3Ei6TePFfc+za9flNC2bQEihBTVuv/0G1m3djIgDYUAxn2NuZo4165YS+AG+7xKEIu6+KTbfeiWDSwYRvICeZUtYv+VGpqbOkS/M85PfPIAtJOnu6UGORHBKBZKZBC2ZDpYv7eHcmRH+6XP/StMu8OWv/oqrd2+npbOLbevaQVEJ3ICPfvRu7rxhNQ89f4jlK9chKTqSfYFVA8upNSSOn5tlYfwQ+8dcLo0scHHWYcXqVczPTiPKMl4QEiKgijKq8JcuAAFNNzAta3FTJIDruQh/+T5bqHBpLE+zPEuxvEAimmLtmiWYzTonTk7w2a9+nOdeGcepVZmYz/Htv7uDZWt2sf+5x3ls336i8SSHDw3x3W99hmNHjuC5TQZ60lycnKZY1VFqDc5MTKCqBsVyk+nZGa7bsxdJNPnfXz/G9s3r6OxNsG3jNoxYK1//3/8idAVEpZN1G9YT0xYRXusvW0laT3P+yDxeooZv1OmK9HPh9BxLl6ym1igxPH8Ox3WwrRp1z2O0nGNyappGoYwdNDhx8jRvuv0N/Pa+B19bAqiKgCTLVGs1enr6yGQySKpCzTExm3Wq1RIV0+SHjz7CpqVdnBofRxQE5NCj0iwzNzlNZzxJAKgRg/Z4ku54Ak0N6e7I0pJIkYrGMfQoHaqMHcI/f/M7TI7UiUoxZEekJdJGo2yjaouGIkES8cMaqVSChcIc5WqJdDbOQrGA7Zg07DpuI0QTYxTGC1RcH7/koqmALDE5MYMc1SnNlYjFFURxkb7bqDtk0m0UaxWymU5UxUCWlUUMsyLgmyGhGsXzPFb09eK4Jt3trbheE1FQEQSNuXoV06ygqjIuNVRFRw6atMdjqKpI4IusWbOG//nRz8mXizzw4IMMDAwgSgGhG2ehUEQQZQJ38X5AEDioSoTWtgFcX6fp2Hzz29/iiacP4IoZTKdBrC1Oe38JTy3gBFWWDqziztuuItVqI8s+mqZhWy7PPv0k508dId3ZQSQWxfd9Dh96Ds+tceTwK6zozKKEizMVy6xzzZ6dtGRjiH+xjTtuk1137aVQKNA0q3zlly8jBFGiEYlspguhfTcj54dZOriSPa+7kdLCLJdt66O3t4eTZ4bZ9+wx1IjB48++yrbN1yGgsnxpLw8+/iSH9h8jlyvQ9D2yWYMVqzcTjSWp1WqIQbjoeDy4n18/fgIci79+73vxTZu5chUzaDI8PEwoyYvzIFFCEEJsz8WRBdS/YLgcx0HTVELPW/SJEOB5HrbvIYcSrusyNltmx44dmPUCnt/E931eePkin/nUF/no21/Hx9/3Vj753rfzpe/+kUQ8ynPPH+RH372bf/nEO/jbT76Nf/qHz/OtXzzDySMXEL0y/S06Lel2nh7Ls2XrdurVkLnpETKZDA8+/Cz795/kiu2rOHBwP6/sP4vlS/zgvq/RP9CFpEgIoU1HRxfnzp2jr7+dB353gNZohN7kCtq9lczlcgiZMtft3YaihJgllbXLWxEkh3RLFkkQWNmxnt7EWjp6eyk28xw9epTP/dcX/28S4H1vvu7us0MXqTk+zZqFrohYtSaBbdPS0kajWafR8Hn7rTfz5R8/wObNG+mIGCQNjWbDoTObQRDBMx08F1KxGJquIgQCvgfJRIx6wyYIBOKaQSod58od19DX2crM/BShZ9DT3bXI7282kSMqqUSCbCbL6fNjiMh09raQqxbp7O2gXqhgiVBSXCJRA3eiSioZJ51KYYlNWmMJKuUGgezSNC2MRBLZFfElkagRwzQtUEN6OvpwXYdEIsH01MQiZKERksy0klYUFFlFE8Cu1IhFdSxLwDZtLC/FoZMX0BSZKy7fQGd3hv7eTjYtH2RJVxtlU2bLtq08s+8FlvT00dLawrIlrcyPjTM8dIloIkn70kFCPyQIBaYnZgns8uJhFFljbr5JvjDFppWbeeHQMZZ0ScwVX+TqK7cRTzTojCepNWYYGZlhz+5buesfP8HU1Byy5HHfQ8eIqxae47BlyzqCUKDp+Vw2MEBhYRJ0kUKlQktLlhUrBuhqjXLs5HkGBgZxfRcRAT0aJQg8ms06GzdfhaE32LJlJY8//DAbVq9hoCtO30Ar1+3eyYc/8m6mR05jOiqaLLFp2ybWbV5N6HvUywUOnpvCEBYYG6uzdnkr8XQSSdZ5/x03Mzl2lEeeP8aqdRuwXI/dm9p58dXTXLtrC+dHGjhUuHCxCWKI/xcitKYqSLJMEAaICAjCohxwPR9RkbFMk5CQWHsrbsMkDCAMfCRZJkRBkgJakwnyuSGW9fcxuLSN/rUr0ZQ069atYvjSKFs2rkITBVauXkrTsvjgB+4A30NCoL01xS23XMH/fOd3vO3tN/LE86fp7VDZsbWXA8+dYNvOnQShRalQZmIyj+OG7N41QDbdxHejWH6E4elX0GIGk7NV4pKGa1pMTk6j6zotmTh/fvYSx45P8JY37Ma3AjRdphoUyWqtRIwII+dOkG4xUA0V13UxIhFktUF13qRUrrKmYzX/8fkv8OroGc4fHnltCfDm63ffLYkw2NdFpVQjElVZsXYNjUoRTY/Q3d2CrMCGLasYu5QjqVu0yBpN20SVVDRNo1QqEolFSSZiRCIRDD2C67qUZgsYcYNkPEUpn6NaNymXFnjiyQNUmg2WdLVhtHRxYfg8lmlhGDpRJYJpVQh8mSdfPcXl61ZRrhXJZtPkywskE2nMsIkWE3FwCTQfLx+n6hVo1HMYySSiJqL6IoKmkZvLI3kCmi6gyBEaNRM0Ed81sS2HaqVBtjWNa1dpyQyQTogUcg1yXgVDFhcRZaqO6VeQhJBn94/R3tdNpThPIhmjJR1hYnqMdYMpAkvGEXWuv+EGXt7/El/87P/jTw89yvKBbsZHRxElge6ePtLtXYSiiOf6TE7kMYQGUVUmnspybnieVFTh/seeoFTxWMhf4J3vuorWriS/+t4Ic7MXOHE+yttft5W7PvU5nnzqUXL5MqZl88y+YyA0WLFkObK++OdeOdhKbeQcacOgIWmks1k8L+SJfeeoVRusXrWUWq1KxDBob2/HNJtEozE0PYYuNbCbDU6fOEk8FqEwO4ZuqGTjEc6fPcGfH32Rpw+cZdP6Jbx49CSnTlyitSUCnkMQ2mzf2Ieq6pw6NUy+HrJ+9SANP2RoaIif//Je2tuiZDL9FKs1Xnz1KdbvvoEDL40wNTbCxiUq6Z6dtLb2sGH9Flas6OT3P/0Md334LbzrLdcwSRe5k6+QiLs8+rtvctdH3sbHPvB6Dk2GTBx+iYHeBOcO/4nPfuqjfPSj7+L1e7fzg5/cj+gDocvS/n7Wr+igmM9z+NRJHn70IDde3s/Nr3sj+fwkJgptbWl02aO1JUssGqVeqXLs2Qd43z9/mheHRtm9LM29D55h5WCKNVs3MzVZwPMCOjrbWNbfTUe6xtJukZSRRIt188yz49x4ezfz+Tqu49DbmQVTJZtIkEpF+d0j52hWTHQ9Rjyl4XsmSa2dgdR69l6xhJeeOcLKtRuRYnUc30J3dJJaEiQJDJeBlS3Ml0r86Mn76OpOcWLf8GtLgLHxSYrFKqVShUhUoV6vMz02hKbLBKHDXK6CbXlcGrpI79IuWvQE9RBM08Y0bcrVEplMhkrZxPcExsbGyOXzeC4Y2QzVSp1qsURHVzfLl3SxeeNWgnQUVI+ZZolnX7hAranRns0S6j62adI0XWzbZbBnDZoaQ1EUCuUKGhrNWgM3dMEViMYNuiM9hI6FaAgsWbUaMXDQRQFBNrBrTVRJxHY9HF/CNE2C0MJ06yi6QiqVIBqNEgRQt2yyLTGGxxvkGtN0p1pIpiKEgbfYdioK5ZqD5zcZPjeDLGUplJr86dFnOH9mjt7eVmynjiAIuK7L4OAyvvujX3Hr629jbn4GwfewLZ9qo47je4jCIs4rmU5w2bo+6gtFRFFGlkVK+TwLFQXXCQmFQR58oMy9/32cXdct4f0fvINIZjlD8wnWbNgBfkAyEaM1bfD8Mz+jJRLlwMlX6OlKIMsqnuvTuXobv3nmGBs3rSObzRKEIgcPD1Ms17EsET8A27bJ5XIYhoHjWJQqixZuTdaIxbvx8Tl6fgpRchmdK1Cuefz0F4+wZtU6FnIlrtu5iXhCQZNAT0ZwPIsgcPFFiZuu382qJRls26ZerlBrwJU3vAuXFO9/39v5x0++h7aum7jvNydwnYBdl61BlNMcfPl5Tp09zF0fXMOrL71EJtuGHwakMkmE0Wf4xc/+hSce/yMt2QhaVCWQXL7xT7fy7MNf4m8/8k4WyvOUynNYtTlcz+Sx33+HVFcX//2NTyLqGlo6Q000GZo8TN0v4GgRfnLP16k0mix48uKmB5GIEWdudp753DRO62W8cHKYJWs2M6O1E4uE/PiBUUbOH2Pj+gwnTpxGlUS2bxmkvUdhw/qdrFi1lTPjz3HLO1vpibXQ9BwGOlsoLFRZPrgW23RIJ9LccPU6RDGgVvd4+M/HGS9MMjw6ztmzZ/nhvfdS8RuMTl1CqMXIuCuJ0Mayjg0kGv2sNlbQ46+jS+3nhr49DAhL/o8S4C033b2wUEKWNMqVCvFEfPG2mKKQbUkjChEiEY3HD54mowkgLbbTYeAgEqLpUVzHZHBJH5OT4/R1deHZJk3bwfMCohEV34VKOU9LuoVXT5yhlnIIPBtd0Dg7VCYekVAEEzktEzRBM2Ra4i3MFj2ikoPlFJF8ATSFeqWJbigYsk6pXiRqG7RF2gliTcymSzSmUsxZGFKEcrFGVIkuIsHMBhFdxzRNhLhMVNYwTZNaxUKQHQwtBV6VFV19eDhomoKv+DTqdVRFpmGZ6MkMhw5O4zRyoKeoVGts27aFvsE0tpBj/eA6Kq6Arhk88cQ+ytUS45cuoSsOst1gPlcknU2R6uxBFmVM06dQLLOqAxRZYKTgkUjG0NUoR06MEIQCjXqVUFKpVJusWzPI4aE4H3vnGmLJCDdefyVCKGIHILgW737vp/n4bVezY+0GwtAjVGS+9d8P8tgzR5ElgzUb+mjUTR7+86sUc1VUIeA/vvMlQs9lfnoay/EIQ59qtcI3vn8/f3ruBNGYzFuVCu17buVTn/8xb3/LzXzq//2Ag4depiUdR5c8WlrTqLLOudOneP6VIf7wuyewfJ+hfeO8766P0GsvEEn6CHqcfLnEtdffwW/vvRcBjZ6uGPNzM/z9XXfx8P0/YXp8gm3b+rk0fomJeYmIrLL/8BTLli1jz1WrkWQFy3YYPnuBN73/k+zaeQt/9e5bcGyPhelxKg2BdCrBiaE55krzLFs6iNuo8NVv/ZzxvMPQ6YsMX7rEHbfvpVqeY2rsPPU5iWreZ8uulRw7fAqnMkZHW4yhGZu1q5eTGzlFrKWdn/zqT9SkGIlYmkjYpGtwBd2DXVw8vI+lvSs5cuwZBMfDtj0mxk+za+tOvv3j+/nZrx5GsQR2bW7F9xv0xWLcsvcGjh48zciFMbLZASRJ4tFnTpBtCxAUn3q9yNtu3sJ8waLZcFm1Yhf5yhyxWJz5XJFEIkouP09Ej9ORThLTDA6/dABJ1si2dTI6PsnxY6dfuwNoNBoYhkEsrhKLJVDVCGokvjigQGTpsg4sy6KjJYonBjieS61RRRBDIrqBrqukkxmmpqeJRqPkCguoRoJ4PE4qHqG3rwNEGUHRKdYqtLTGuWH1ZhIxg+J8EbMBsmQgaypeCIIaoqY0KvUaQSBQqFjoyTiKqmLoi1yA0BNxPId4LEsy24YoCDj1JnIoYZc80pEWSvkqETWKYRi0pDMYqobnubS2dGJVParVOp4dEI3EMdQomVSKkmNxZnQYWTEwrQbleg0n9PE8j1gywfTEBTZu6iGSibN9axey4HFu6DAvv3CO+343QlyXUVWVAwcOYBgGuqJiWRYLxQkkWUCUXVLJDJGIsZi8lEJs215MWnoNSgWL9lSSRDaOqDTwnAaConDbtX3UbIHHnr3Id77yUaqWSiBFmS+41F0wmzaxWISxs8/RVCxOHztIx0A3sixTbwqYvoYc1bg0adPa2sr09DTLB3tZt2kNv//fn2JEND70L9/F9lw++Q8/Qkm0Ua7kOPHK46wbzHLtl3/L7MI4nl3l4P6XcYM8Oy7fwtzCLKtWLiOZiKEqBj297dRKFpddvoVlgwNs7W0nlyvw6a/9ADUwqNfrdMbTTJUaTBeqVCo1wjCk2TT59re/wpfuvpsXXn6IQyfO8NJhh0hc57mnv8pv/vf/8b1vfIREYvGalNm0uGLXVkqTJ3jgvq8xOVVifGIaS9DpaJUJRJ+b9l7ObdfvZTpXwQ1FPvOvH+NfPnELhw78nIsTTf5w3/20p9NUyw2S7e289Z27OPDUo8xZeboH1vLcY8+x76HH2bnjjZBIc+8jTyO2D+A2LX7+vZ+TO3+QiZlZ5GSWa973V/zhoQcQxDbWbmjn1hs3sfnyHfzqD48xXTRR9U7mzBjtiRTVss3QXIGf3vtHkqkU1abIyTOXOHtmmH/7x9vp7+nkyiu62bqtD8es0t+bRdVEiuUZAtdDEjUMPUmlYrN22XouDs9z8vQEF+dT6cegAAAgAElEQVTLXHnNHlQjxXxuikQs/n/qAETbNtF1ndxCnlqtgmlVECWN+fl5hi4Mc+7cKaq1ElLo0drVgR+GaIKELEp4IliWQ2lhdvFCTRjiezCfn2N6epJytcLRo2exvTqyLNPT1UprMkPMsrGtJm0dPTQqVaIJH1lSqJVqtGQyFPNlBMfDskyyne0EgYgbCtQbVQxVI53MUqs0CEyb+cIsou6RjCWRdWg2XKqFMq7jIKLg+j7NWhNJ07DqNvP5AoaUwANiyQSVYomyKTA13aCro51YKkkinsK2XNrTrWhq8BeEd4VkSwzbErny8u10t3ew57qdyEqS3dduxvGSXLg0id20GB0dJQx9GraPoilUyyqaJiEqOm7gI3iLk/i3f+DfCQSRY6dHUCJdAJiNCrVajfVr1xDICu3ZLM2gjCZL6BL8w+fvQRJELl4a5/LNS5k8d3jxxmIsxuhskbZYOzsu20Ct3kQQPd566/VkYiIjQ5d46JGnGBsfJ0CjJWUTUxysZoPJ6RKvv/U2YopMojVDT1crPZ2dPPXCfiQ5gbJkI4ElkMgmSSaTTE6d4cDLL5EwoiwdbCOZTqBoMpmYwU1v2E0gJ3jp4DDdd76N6WKero1X88qZI0SicapWk3/40Md59+u3098Tx3YddF3nJ7/4I5fysxzZf4B8M8pnv/hp5hbyfOtnz/DvP3yCBUsl8AWmp6eRZZ3LLruMRDxFe1s361evBxbt2pKsEzGSpNIGU5PTdKRitHb0YiTjlGoWrlXiuj11dmxai+2bOAFcHB+nXm5w4lSV+VGPn//6Zxh6O0u7O1Blg098/vs8fXSYo8cP8+Qzz/LJO7ezfcd1PPfre2hJR7jy2r284/v3MDk1ypo1lzObazB09jR6vB/Xge07thB6IUdH67j1Otdv3oIiQKHewKpDEDS5Zs8ujKjI6OgxFhbK7Ln6SoIwiyMFJAyX2eJFEgkVx6rSqJvM5Uxmq8fJL5QJhADDELg4VWRmborKwjiXbdr+f5MAN+3cdHehXEdXI2jRONVyiXqlgaYa9Pa1MzZXJxNTETSD2dk5svE4eB6GIlNuWLRlk+gRhUqxiqqphASoqoqmqgRBSBAEqLJCtd5EURTqVZ9tl63jzMURXEECUgz09FKrzhGNKpgVk2Q2S63aIFeUkJUashzieybxZALR0Wk0qugJHV8I8Rs2mWgG026gxRO4dZfWbBdm3SX0PPxAwHE9BF2hWvVwXBfb8/n/GDvPAEnqMv9/Kld1nu6enjyzMzubc2DZhSUt7BIEJKnonflOxXje3zvPO8/DdKenp4eiqIAJOMUACAiCZBZYYGHzzu7knHs6d+Wq/4vx7q2+q5fVVb9+6gnf5/sxJQurJhAGIq5vsTg/z4JtkZQD4rqGKEv4ok/FqSM7Gr7sI4URRsaXWLe2l8WFGo88foh6PWBkeIrQDThw2U6QNOYXFjEdn/vu/xndnR20NTUgBQWGRxbYfs45RBtyhKHPvitvZGFygC3tcZZsl5n5Gp/45If52X13k8hkGBycp1JbpP+shwiomsz+/VdTqUyRSbfwj5/9JodPDXLN1ZeyemUHf/ORz/P4oVNEWyN0d7SjyAYtTTqrmmd561sOsGWjiONGOfTKMRbqOgtzFbzAR5cDVq9oQJBkLrtoK9VCic0bexDdCgIh52xqo16tct721SCIHDv8OhddsBtbSZBNRBFEgYMHX+Piy3bTEDfobm9gx7pu/NoMlcIMYzN1zo7lWbeqHV0P+fvP/ROjh/9INpsg3diCJAfc99ATPP3UEA88+iTpdAN3/PBL3Pbde4m176Vi+vzut79i99YeJEmkuTmHKEqEAiQTKWzXJNQTaKpHRNVRtAiyohKNRplZKJBMJfjA53/FIy8N89YLenni4Rc4NVnhvJ29/PqR3xJVZZ5/c4xYIk1rJkkpX6W7s52R8REaMy3YbpXrr7+aW244wIUX7uKDH/xP+vuP8vNf/JC0oZPSBFqjMV5+4zm627sxNJmWliR3/+ogsugyPFzA9mzGxk2uuXIHf3zpKNFoAzXHp16scsN1V/L6a4e4dM8mMqkeurMa377jEKZdpqu1FV8S6WpegWl5RLQElUqV933uMwy/OcDs3BLJ1LLfRbXs8DfvvJBaKaQ2M85Tr/x5PwBRlhRkQaReK2BZFpoSIZGMoigK9XrA2s4stuNTKJbRBAnTspDlZeecdMxgYW4W116eu8bjcXx/eS7teR7xaAKz5uDaNpF4hPGRUar1BaampjAUBdUNsUtL9A+P4ro2Bdch19JMreqQamrAdmpEjSyBLy3DNuoO1Xr+T40qB11WiUZ06oUaZcdjaHCCmfkKVbOKHo0gG3GEUCREYmp+llK1tCxQEsE0lzvc8aQOnsPa1V3IZp3GbNsyrSjwqJslBM8DUcCQFIo1m507dzI3O8gbx06hRwxENSTwY6xduw5XiCAIAopskEikuOHa60mnMsh6iKoYZFMNDAyNEoo+XgCGP0UgBExZItWKw+DgSX51/29oa85y8IU3CXyPTMojGl32eT9/9ya+85VP4bkwNjaGKyVY3dOFZbogJti5awOu49M3OI4giiiaTN+ZYzQ2ljDC08twT0nhsot3057WaG4GTVMQAT8QCQMBx7HwghAjkV7+QkgSlukiSB6mI2DEokQjKRRNZHRwmmdfOkEQeBTrMo88doRAVBAFBTFlYFkOimYwOzdJNqFh1l2y2U60WJqFqsBLb5xBlmVisQQ/+tY/cOW+ZuSowdhknj3bryMiGcSlAs3SFLn08rNtbm4mDENqtRqKpFAql7HL82h+hdATkNU4oihiWxae51EuTPPjO2/HrSxAaQFXibB91x4W5xbRRBXFUIi3Rtm8ZjOhb1M165weKpCOxYjFIJcCYWmBL/7dx3lzoYQkCTz+9B3c+6ufMruQR1cl6rbI6cfv5YOXXEZt4CyFwQm2bt6Gocf5+C1Xc+6FWYRAplytMZkvkmjMsVBcQhchlGSee+F5LrjgImQFZvPTnDlzhpIo84Gv/IDeC67EUDVk0aBUKFKqFFF0kfu+fzvz83XCwGV+cQZZjpNpaOAH9zzBhTs6KOj1v6wEKBYW6WzPEYsu02pEWcLxAypWnaHxceaWLPrH56haNkG4DK4QBIHFxUUkAURhWW6Zzmao1y2as41/IuwagEg6ncIVdarVgFyukUsvvZjG5iYqhTqSqLFjRzcL86XlRpKhUDQLhLJJxaySzeWWCcWChWmaywc90KhWq8S0KEEQENcjZDJplgplQhRqroskKRRLS9SrJgCxWALbtsk1JxF0AUKbeDyO61nMzi7S1NREpVJh17bNuGaduuWhCgqKsrx45AkuVWcZ512v2QhaE04oYguLdK+NccWN65iYewVnaYYg8KnaJmEY0tTUhuO4KIKIaQW4oodmRAlCZVnmLIrIsooTathSnMATGB8fR9Ma6GhpJQyhvCTieR49PQYLS2PY/uKyOxECu3Zv4qOf+hi33X43H/3SXZR9iTCE48cXefPUHL7vMzJc5JYvLfKhL/fxjg/8goiaIJsz6OlOsGXTKmxE9EiEeacFLdHNF77xEM+ervKFr97P3//LN/noJ/6dH97+Szo6zuV7dz+KJDdiVvOcv+/tzC9OkdMVIpEIq1b0sv2cnXzxvx7is//yJU6fyfPlb/yYR/54mI7mNBfs6iWTTTI1PsD1N76DXCqCLKtIiky1WqV/YIiYqnLB1jW0S/b//UapMMF3//3j3HPbl2hpbkSSJCqVCrquMzM7AoKPmswyMZ0nkUggiiKeV182rDEM1q5ex/vf+z7+et0Sd37tfUQdk7tvv5+opFOu1akGNpFYkm0b16GrBqlUN5/93Md55JU/0Dc2Sqkyz7q1PXz4bdejlvOMLFaoui4TM7NIgkjFdvjZN79IU66Z7/7mKZ577TRFNcZTDz9CJtXFt77zOOft6WLTLghDgblCiOuUMQSQRI/5uTyd7avp6z+KLOkUKmUuu+IA//APf4s3dJjpV3+HKmtUrHla2trJZtM4lFG8gFhrK5GojqyE1OoVxieO8bkPX8NMIWBm/C80Bb1s1/pba3WPIPSxvQDPcbAdaEwn8cOAVT1ZFvPTGIZOLtdIe7qZQICoZqCpMslkAllWkFUJXVaIp5JUShU8zyVgWY7ZmGmgUMqzccNaapUihi5zerAfiQhDkyN4QZxYzCQQfOp1j7LroIYGb745xY4dK7DsAqIkoSoGAT56g0bJLFGgguR4SEKEfHkJERFHFEnIcXRNJBrRUTV9mS6sahSWysuASM0A10OVNSJaEssziUZ1BN8n8DwaMkkqtRqhHhD6CrbjEEsYLM3VOHl6mieePszN73kbrd0Sq1c2MjR0jJHTZVIZle7uVSyVqoC0PBK0TTau62RyuJ9KyaQhnaNz9Spq1Squ61GrmKzsbmF+vkBTUwuhFOX4yWN0tHZSKo2Ta3O57qZrGeg/xVXnb+P693yBPeduIx5XuWzXKrxqhWNni6xdt4kzJ06wuLiIoqqcODPDdVduY/PWzTzw8Ktoikq9YnOs7wwX7N7MzGSBet0h3dpCpVjkrz/8NlSljh8EzJslPvbBd/Cb+24nlkmzI5XCbZC4+PJrEMMqI6NjHLh0L0PjU6xsiiAbBqoA02OjvHzkFM89dT9XX3URJwcWmJ8c4cBVV9KU9DCdkHyhyDOPv87HPvQejpzqZ83aHgxdwbMtGhqbmB+fIZtR6WoRODth0dWV44k3hnnm+UNcddm5gECxUkaRZPITo6QbWymXazQ2txB4Lr7vgyAgy/+Lxgop1WqsWHEuQaaNVDSLHoyihSVW9HZx4uxxLNPi2OF+YnoDCcPi0JvHiSgKWzevpZz3wfd44eVXCcoWomjSvaIXz3OJRlRu+etb2LF9E5//9v28Zd9GBNVBidZY0RHld0+fYe/e3dj2IM88PsjefQ08/tBRLj1vBb1Nccbm8uzbezmqCpvX9pDKRCgWJ7jo4os5e/hB/NISTlAjkcgiigJ1exHHAUsq093ezHkHruC1514hGo0hS1CrWKSjCnOVEENUeP6VV/58CZDJZPjfzTTCAE3TiOrLeKvQDukfnGf7ph1E9CiFYpW52VkWFhaW7b9V9f+urZpHoVzCqtUoVcr4Xohje8SjERYXlogZOktLS9i2zeTEDEpExxZdGpLNdHQIpFIpVElmyXfJeya2FSzrCxbHl8muUgQ1kBAFmapZRxQgokZIanGkENavWEFDPEZMFlGVEC90cDwT06oAkEmoZBvSeI6EadtE40kEZArlElFBJgg9YkkVTZVRBBFVlcEF3w5AhJptocZEFhfn6Olu48c/uY8nf32cqamzTPXpbN+xhkSuFUEQkQIQRRFd15FlmVAIMB2fZLwBQRAQfA/hT2gwWRYJHJdqpY5jWzz0+CEikQyNjRkuPrCWT3z2HUyNn8WciXHHj15k6znriOkRVFUlKJxloVBkMl/kgQceZNuuizAMlR2b2mhKaLiuT6m8iCEtm6hY6TZuvGE7plmjvSmCKoucPFvi0fsf5MZrP46WyBFk1rJ301o+92/fpKVrN3d9/b/53B9nOHHkKLd9+4es7l3FQ08f5cBV7yAXbaJnQzPJRAPZnMGWza20N7cA8P5bPsOxgSHOHB9m297d9B87jCyrxBJRtp13MV+9/R4QBDzHx/cEbnzbzdxw1QG+c9sXaGrK0dmcwHfq+GqR7331fXz71vfjhsvYq3QyRSQSoXPtVlzPR4/Fee9nf4KmqzQ16Gi6gGktc/ZEScYwDMSMy4N3f51y6TTPHzxOW88udCVCXNQpVqusWr2eodEz6LJEa1OKYmGJmYUlpufypBqiNLXEGJsvkMSnIRlHUGQ++v4PcPkV1/Ltu17hkvO2Mj5v0bV2B5P5fsqORUejwdo1PjfuextqvJGRsQhvf9c+9ORKqkJIqq2R8eosu87p5mz/cSzPJ6tn0UOL9Vt2MhWWaGyKoGkR5KhHpjlBOpNkeGAJ24X7f3gnsgR23SMMJd5yxUVUBRk/rKLE/zI0mPTOay6+NZAkzJpDpVhHlELCUFhOXTWNc3ZswKpUyVfr5MsVylUTX4DQ98k1tiIIUC4X0Q0NSRKp1KpIsgLCn8ZT8RiKLJFKplFVEUPVWLd+BcdHR5mdczHiDUTkNMmkiI9H6Ii4FiTlgA1b9qKENtV6BVGWqNVtXNMjkTNwbA/JD1ndvRpMETUp4jkeoawQ1B18PDTFQJRVXC9A1gR0OcnE7CzxSJxQCLFMB1WSCA3wgxBCiYimoMkylm2x5FUhBEkNkUTwLZdXD8/Ru24Ng6OjZJI55keq7N3ZzabNGxk4cZJtO3YwOZcnl2smCAI8x6KjK01DJElbSsFRNVItnTiOg+f5lEpVGjJxhvoXaO9q4YVDJzhxfIBL919MQ6bEG8+O8fRTY3z8lvPpnxjkpqvfhSf65GfzRDIdVH2RyTkHb3KM06cPsXJNB7ru0Jix2LJlG88/exLLrbFYtRDsCofeGGX0zAnecvU+eno78Hyby6+4kG0bcoz29WGXJmlQAvaft4Vzt69k5+bVXLW3m4a0xrbVnSzMTrF+dSPr1qygIanT1tpDfmkJy6whSwKb13Vy/PgJVrc3k021EolEcIr9pBubUJUoRmQFP73/cfDKDA2d5i1XXkapnMcPTKqFAr45y30/uZ9MWyOv95U5fXaQ4SWFPZvXEzE0bNtCECQkScT3w+WSq7LEk3/4DTddfQVOIKIqERzHRRAEiqUC3/j211nZvYNdB65GFyTiEZegPo1Vr9PdvYrupl7au3cyNjRAqWbS1BRFEjQ279qIU6qwsGDStWYrL55+lYt2rOHwyy/y5ivPEouk+cE9z7BuY4r8UpmZKQcloiB7zaSSNXZtyyKENR588kny+ZXUl0q89S0d3P69p0gxQ6ngIgQ+//m9h9i8pZu1q9ZzaPIErz1/itNjJ9i5YQt2PWRiao5yqQKBjGnX2bZ1LZY5x8bd1/L3/3wrD977c+p1k7npEYanxpmanmFkqMjA8F+wDXjuuhW3VqoOi4USkiISjUSJReO4roPnuGRyy1JOMRol9HwERPxQWl6HDX3KhSJr1vSytLSE7we0tDRzdmCY7hVd1Kp1vMBHUSBfrlCrVNiyYxPjowP0z81TswJePzzDtnUpUg0GS1aZiOsTSSpMjkxj1lV8N48Q2nhBiB7RsKoOvusiR1WW7DJdDc3YRZtyWEbXNZaKRdJ6AjUZR5YkxufHIIxTq5SIyDqmW8c0a9ScKrl4I7pqgGrhOCW6O3uIS2DVHVRDY8adJaiHGFGNSDxGfdHHF3MUyjaOXcD0faxayJZNvYwNLiB70NXby8L8Ipbzp7Go75JJqwz3nWFiCYxslGy2E883WcoXsUyLUr7MyNQ00xMDtHa2MzVnMjk+hRbzmRopccGl63nx4EmKnsbCfJlUPEJ7exOCpPLwc68x0jeP59fp6W3jsovSrOrVyOV6iEWj3PS3/0T/qUdY2yozOV/B9+v83aduoVatU6vZxGMGhD6uC3pEp7EhQjSSwg9sIloCNZVZBraqCRBEBEnA0DRi0TgTMzP85CcPsnF9D7Kq8/TBPrZu7SKiy/hhyO+eOkg6mWVNbzt6NIbvenz923dww403sqItSntrjtaWHJKkkm3soVA2mVko09jRQnv3Ol57bYCt+99FvVTnv7/5Nd5987WIoo/reYRhiCrr+L5NPJ7kmot2EkoypWIZgEq5TCabRVc1dmzexAc++X1ODJtcuD3JwvwSrx09w8rWZhRRpSGi8tDvHyYVT9LYqLJUsOjuauaBh1/AsSs0trfzRt8xLlq/msOnTtPRuYKZmTyDwzXWbk0RWMv8yoX5aS7dt4e5wgkETJBDFguTbNnQwcHXikSjaS7YE+fM2Tzve9+7aets4KUXR4ik01x80QaaM82MTU7jKBU2NK1Z1ufEFGpmiVxThrmlJSQdgpqDLKU4+MpRRseG6D/5Eu1tXfSsWsNlW7t48PEzZNIJzg6c/fMlQEtLCwkjSkt2mWQjqxq5XA6AfLVOveZRrtSQBZeq4+E5Lr7rkozEqDs2kiDiui5jEzMgKBTKVRKJBAv55Vq0Wq2CqCIIIYauUq3WSTYkWFjKY/pRVFVlIm/i2FXq9dpyFzkU6V3dg2FEMXQZUZYIwwDTNMk0Z1EiGo7jkNTilCs2iqaSzGQRjIDW9hyh6DI4cvb/YI++FxJPxbHqJmkjQnMigaoIgAcE2E6dmJoi9Exse9n0Qg48JEXBiGvUTOtPTjkahqGzbfNK3v+hm9i+XWT3vlZGpwrY/hKFQoEwDAnDEEla3kuXJAlVVck2t9MUMelo68Z1fZQ/ORuVShUUXcfzXHbs2MazLx0i9G1EpYYuyjiCwv0/fZyOVoPJ4yN89ZtfozG7bPZQXSoydLaEE/qgVGhsqzA4XKWwIDLYfxZV0miJFinOLdHW04FjzeC4w0QTFUI1Qap1Bbd962fIgk6+7OEGjTiWyMtvTvGZL/wQIRrjth/9ms9/6QeYdg03DDB9nc/feicVs05xyebA/n2oqorv+2zZtoYv3PoD/uuOPyAoDUyNLXJ2aJSFUhlZUpEkhffctJ/RI7/n2eeOc+zY2PIhFEX6+49x9OgZHn/mTTJNvXz1vx5ElBTWd+n87u5/4vAbLyJJ0vIZ/VO56osuJ0+exLIs1GSWaDROJpPhoYceIh6PU66UqNdrVGslzIUhXn/yl8T0Fl57o4+52SU83yGiyAiSxv5LN9LUqNLZ3srObWsIkIklGpld8pmYXaRVTtKS0BEjDt/56Ss8dTDPNdfs4LUnTlFdGKSro5kNq1fwwvOHMASPmCyQixns3bELQxYoLvXR0prHLkWRJY1P/9vPOTY4wY3XrOWW964kLkaW/3NzFlKtmfHZCrbtkS/YOJJLY7qFpN6KXZboXNFB3SuyrasdVdLZe/GN5BeL9J0e4O7fnSTRkCAWjf5FJYBYLiwShA6WK2JW6lSqZfKLc7TlEnS3NbKyu4dcJotlBsh+gK6o4NuErkXWUGloSGLbNk1tXTi2R7lcXvbkjzdgWQ6rV63CKlfRdZ14PEapukS+bNLd0oKGQTwqY5sLDExN4NghddMDX+LFg2c4efYYKAKCLGHEVFRJpVZajvChIBFTU5hVl2QyyfDkKDgygiNSsEpkW9JU6gV8K8Cx6oxPzVILQY9GqFFH03Vqlk2pVCERi1N3XKKRBIKawDDiEGqUqyVc1yUS13F8D0FR2HXONiqlGcJSgF8LOefcNSxVx3HDgMuu20YoLWvr/xdrHoYhoS8yMjKF57oE4XKQqdereF6wrP2vlBgeHmF2YpGrDnTz6Q8dYF2XwdYtSfZfuom2FSuZX7TYtH01+3ZfjuVYCILARdfsorq4iBLmyTZ2sHPjejZtyJDLZVi3aiOBL/Lkow9x4dZLOHZ6kE999Gquv/FS/GiMqW/+gE/+6+3IiGzYsZpvfOOHhKKEGNr87N6f8aUvfZpbv/It8rN5avUSG845h2/e9iCf/dy/k2vr4c57HuHRJ55lZYuOogqIQFrII4oBG7fv5Ee/eoyWpix7tvSybuNaQheymTZicoH3XreJxdkpursMbMehVjMRRYORaZdjfXMcOTbMLR98C7br05uRefRL7ycaLCLJ4LgBgiAhSjJhaLCiux2zXlkmTtsOCAJXXbUPWVH4zBfvwPV86vUqBw89yGcvaePyK2/g6cdeZD7vI6VSdG/bzOsjoxiJHhqybTz15MtMTA/hKnnSWZXe7lY2tWfYuH4FRk7hxecFsEz2X7ydR34/yFf+9WN0d/Vwzz0P0tvTQyqmkW2I09nSwczkHJOzRfI1gZuvaaMh4TNfnOLCSy5DM5oxbYdXB8Z48fVZKpUCAKlGiUSkge6O1Yzm5zh88hRDx4aYne4nk9Fobc4xsTTD5NgsM/lFZLOIUC/T1bWSZLIBTdZozmVQIn9hD+DTH3j7raqsMLewhKbJSIDv+6xc04ZiRFlamKZSNZEiOoKuI4Q+sWicUIDQC7CsGtFknOZ0Gte3UCSJas1EUGRc2yHERDViFCtVVEWi7Hn4tToLSzaFkk02EyeRNlAIMSISdTPA8mzWr1lJJFFBDVW0iEjgygSmQCyaoFwvE9MMbMuiUqxRLPi0tERQYgb1moVkCMgoZJIpBE1kbrKKYoiIogKhhyJqWKZD0cqTS7YQiiYRzSAlKUiqTgjYTo2CUkMOFTzfRZdC/JrMS4cHaGttwfM8RF3i9YOnGRoZYfee7ZTmhunqXs/Y+AJGdJnhXi1C78osrllElUCJNDA8WyDdEMG2lrOa62+4ng+87wMcefkpXFfktaNjrOyJYjpVJCPC3PQIIirjExVaW2U2bdxO3bQYHYTnXniAFSsEbriynaHBAKoO5dkC23ftJQhDzg5McN7WLPfdd5w3jvazOG3S99KbTGZVupJxVnSlOPxMH//wjx/hpd/fy5m+UVzHZktvlFOv9pHNNPD+t19E3M1z4SU7KM3P8JXPvJ0jh46xdnUT6cYMh948SbEQcP7GODdduQldsDG8MudvXEkiqbK0OMP11x0gX6qw89xNpFrWk58a5+pr3kKlZgEClUqNZ556iVXnXsrUUD+Hj/TjmDXe/t6bqUU28PSLr9K9shkBAQiJxwwWF2b5/L99kYsv2oOsCIhIiDL862c/zWVXXM3uczeTTCic6Rvma//9LG+4Ek65wuW7VtDd0YIRlfjxz5+kJSfT2tnBb3/3EnWzypoVbQShQtT3WdO1mrVdaWanJnny+TlqtZCNb13Pte99N8/+5JuML6psX9PIwEAf2VSMZFKjaleo2jXGZyuEgohqSLTnGli5KsvRIybzixNMzRjksv2EhoIURmlpaaK5sZmBqSEWJ0zMSgVRLbF91VrOnNT6ZgoAACAASURBVJ7EkjRq5TKe7SEoOk7VoFquEwQuiMs9u0p1OWuwbJPAkzhz9tSf7wHs37351pn5eaqVAoEg4Dk2sXQDEUNneqbM9MQYUkTFcj2WzCoZNYbruDQmE8SiKYqFPLoRJxJRqdXLNGYb8TyHmKHhugG26fxpHOYSNVQ2rG5FkSRG89OktRRlp0pUd/GrFroWQ3Qk4pKOafnYtoRqh1RdGymUMOQE1VoVTZKJ68tORF3ZDgLqIMrUliqEMhTsRRJyw7JJRN1B1dNIkoBVt0HySSabyBcWqNYt4kYMTYCmbJJK0aNataj5FSQEFsI8ggPxeBTB93FLCdSGJvLlOYxEnFgkTqlmsnplG7XKLDG9lWzLCpbyZURJRFFVookMiWiFXEMjVrWEqyuMji7R2tyEY7tUS1V+++BDPPX4A+QyrfT1n+L9N+ymVK2xVIoxNZ2nM52jaipUaxUaUh1s2tSLqMh88iM38+KRMcaGhrl0XzcnT76Bb+rUiyU279qBqsiMjcxRcRwG5mS+85X3cPHu9Xz8pksJvCRFq8Ybr/fxdx/ax9fv+CXluoskaqSbmzBkn299+e/oH58jklA4+OoUv3n0Zdb0NiMGKvFIhNNDY9ScJI4jUi3OEAoafqnIfX/o52Pvv45UWiLwRTpb05i1Wc6ePM6GdT089pPvceDaS+nrH6VYMonFosQijeQrPk5hjLfdcAUvvfQ6TuDwlc+/h9W9KXZs7mZycpZYfFnoY9YcDCPBBefvxgkE4pEkYQimZ3HJgSuxqjUW5+aJRjSyLU285dLVXHvJFt7x9v388I6f8+UvfoN8aZjfPPYcE0Wb0dEjtDR00JJrJqb5yJpMS0uGWDzHyNQxxsY9jk6WePenrsUQYkQjUVZdcAFnXn2DZ9+c4a37dvDG8dOU7CQNDQZLJZ+aZxJNGIxMz7F3TS/HR6r88blRTp0eJBqR+PiH/h8jY8ep+QHn7dhDVDU4/eY0smzgeDYLVoUii9SLLrWgRC7Vw9RUgZPHx8ALiUZjZLMNmJbJwkIBx17W6eiaQr1eY+gvaAKKYQhzcwtEIxnikfiyNbcLZt2hUiqj6TqhHyCLChElguf7SJq2PBKcXyCdTqOIApOTk0QjaWZmZghDAdvyqdVqxBuiOK6L6dgsVRzGxgu8dOQIWC6BV6QnnSWmZFm1YgOeqVEumaRSCQJfwXY99JiOFICmLG//eW6ALKkUrBqu6zJhTtOUTFOrFzH0BK7nkYu0ogs6hhLBshys2iJ24GCoGq3pZny7jiAINKWzuI5PTI0xX8uTSWmIQUBK1YknovhhQCy6bDbaEE/hijHu+dXLvHBwmCde/j0vHz7C8FQBtyZgVuKMji/h+z66riJJEr7nEXoLy8sbtksYmoiCyk033YDruizmS8tRWFS44Lw9VMw6mt7I4VOTzExO09zUhKDovHlymMGhk+y//Fp++OMfsFQqs25lB+/9+6/Q3/cY1162loefGqdvIMaLR/O46nLvIRKJ0NHZRCSW5cjRJ5iakxjJi/zwD6f4/uPPE23opnPDRu55po/N286DSIqNuzezWPI4MVDjnf94N6+eGOeZlybRohG6O1rp6DoHS3Ip0EDfqEu+MIkRjXHjO2+i5OlEOtbyk1/ehal1Ug9V4ukkpiPxkS/8gbt+N8z+d97Ow6cFzkzViaebSWdS+L7P0089Rd/gWbIJg7t++hsMHWKKRIhI3XRYWMrT2dHNyPAwoijy4e88w/u//AtMZFQltlwW4PORLz7ILf/xOPGIiiiKJOJZNEFhZHQMyzKp1xw+988f4OZ3XY0kyKxd0cDmNY0s1gNOj0wSjUbZtH07ozNjHHzzdareDCf6VA73z3PFX12OFm8mlW5ksVQgnmrk8n/4G+ozfbzQN8H4dIG+wTM8/NgENgWUhiQ9Pa0EQYLb7znLg7+ewdB1utt7+Ow/ruaNV+/hnQc+gFvOk8tkEZAwIhqLi4vYgk8yqeEJAa3dLaxqXcvJ0aOoSoR1a9qwTJuGZArTqhKNRlnR3Y6maSAE+L6P47l/UQkgerZNT08Ptm0S0Q0qlQr5whJT47PUXRMnVJF1jdaWDPVykYihIQoBsViEiKHT2taM55vIks50YZ6S60OwPONuampCciGZTHLeubsRkFnV1cyajWvQ0ilcp47tVUgkZPLlaSTJ5JzzVmN7LrGkSjYlkskmEQSJWtUGPyCRjFEqlXFcF0GFaqWC5wWoiShB6CB4AqItUrHq5PMlcrkczU0NJAyJlZ3tQICqKzQ1pOjtXIEii8iayJJWQUBE1cCq+5h1Gzf0qFaruKZFaEu0x+ssTj9G3ZvhsnOvwo8K7NiwhvmSx7Zt29iwYQNBsGz1ZVnWn66XCUeiqNDRtjwjf+jBR5YFK4CsqUiCQoiD69lk2hq556HjtPbuYHgoj2N6LJYkovEspqLyzB+fwgthfGSY0Yee5F8v2cOJ0SPkkgHZXCOe53FyQgTBXXZYknQ6Ozv5yfe+QbFUIaLKKLpBT3MnLx89wg3XXMSV+/Zw8sQxVnW3Ins+s7Oz7NqzjfP3nIPrmWzYuIp9l15A18oeBkb6CFyRUmGC667YwTuuvxLBC7jvN49TMR0Waw5vvPQ4L7z4HFVTxANODo1z5Lk7ePkP3+H4C3dywQUX8NAjJ3nyudMcPjHJqb4xtuy6ENOUEOQ4maTKFZdfyuLiIp4XABCLxQhx6O5ewdNPP4tfdQg8gflCDT8wcVwTH596HYaOnCZfq9Hd00mpVGJsfJx4rAFChSA0+fAnvkPVquPYPrKoMzc+Q3NrgtY2lVCzOHV2nIsuPICCz0/vfJzC3Bz7b7mZlmQCq2LyNze8nSazhG2FzA7N8c6vf4FqOU+q+xw2rLuQiCIhZW4grkYZPzPG5vXnMDDuI0kSO87ZStUW+NHtJ+ltWsP7Pv193v/2DyOYFiE+w6Nn8Twf23awaxXsskylUiH0RVa3byWTziGGOtnGDJFIhEQiQTShIksB6UyCDetXIssyjZncXxQApGv37rq1UK5g+R5mvU4mnUOSBVQVyhWT9atbqFYWyaWTlMom2YRBxXRwazU0TcL3PWRZoVIzces1utpaEASJcqlCPJ4ASVzOEKZmMHSF3pVNPPLiK4zVSiQFg1QySqlcQBQUMpkkczNzeNh4vkVIwOJCnkgsiSYraLpOLNGAJAdUynUaUhqKJ6PJBoXaAr4F1VodWTYIZIFEJIZjORhahPHxYQwtQdWqLh8oI4rvO6iihBmUsRtdzutaS6UqEokZFEpLzAkF4nIcyzbxqwEROcqWS67itjvvordnBYtmmazeREQV6Whr5PBrr7NuXS+FooUgLkt9VUmguamBqfEpQquCI0dRpBiJZIyZmXnqtTq1ep1sJsKZM6M4lortQMUKcD0Rq+aze89qTK/KfT/+LlbNJD+/iKjKTIttlBUYGXGZGChSrDoQwPrVPdz8rusR8PjGbT/ligObyDXG+J8HHiWQTXJdWapLda69bBPZdBpR9rnwvE2Igsi556ymrTWH4FeoWrBzWy9RA4YH+9mxdS3l4jQXXHQBHe1xVvZ0kkgqZNINtMR1tIhKNpdgx47z+erXfsSH//YGXjj8Km8eG+TunzzB93/0S+598EleOnSCSt1nYmaBqdkixWKZD7xzL68e7sOzSpSLM0zPT/D1L9/E9+/8Lff+zwOc7R9l65Z1iKJMZ1czf3XduTz/6G+4+YYDyIrH5//tSxx+7RC//MGXuObAPpoyEr4XIsoyba1Z5HgTMwsFsrl2/ueep/jY31zN3ffdi4fGiqYujp0YwataaJEY5doom1eeSzTVwtm+I/y/277N2y5/K+du34Xk1Dn89O/5j6/dxZ5tm9i3/yKOvPwq1cZm5o8N4JPnwbvew9e+/jNOHy/TvsrhyQdPY3oCXujSPzCJ59rUqxr9C2dY29rAz372DFdetR9dh8mJEgv5PE2NGaSYgGClyDRrqEGCydF5ZuZmWSyWMat1kskYYRgQi8cRkJiemqJaMfE8D88LOdP/5/0ApOv2n3OrZVlUy1WamloxazUS8Tj1eo3mhiyaLlPIV5FVFUGSWao61Os1dEnFMk1mCyVUCXxBpLEhjW2ZRKMG2WyaUqkKoQeBS8zQEESFWCpCrK2N4tIiKxs7mJ6fo7Ork7rtUiyVMWIRGltyCK6IqmtkU1mEUKBSqYMf0pBOkk43IBCiCgJWxUNRDFatXEGxWCGZiFIs1VAkCdv2kRUZPRLFiMpYtkOtbiIGIZ5voso6xdISSlxC1FS8SZ9q3aReLSDHVGbDMikliqIJpCINDA4U+MTn/pMg0Hn9yPNcdP75HDl4mu07dzE8NMr5521B1Q2W8hVsP0CQBBRJpLenBcfyMeQ6sXiKl48uj42GhsbJNMQoFOo0ZmJs2rCd2+56GENVMRIKh944wraNa1i7fgPRhM0d3/4l//6f/0VjpoN4IsG6lSE/+PEjnL9nC1Ainy+xddc6psaX6F2ZZnCgn3PX99K+upsPfvIL7NnTxXOHDxPkZ1nd3YVrV3n++YOUKyYvvfgSK3va6BsYY2JoEFGSefnVwxy4aC9P/eEpBvqH0dWQ2ZlZEskESzMLPPfEHxgaGKNSq3L42BCP/v5l/uULt/DAbx6hUQ5Zs3UbX77118wVPL7wtY/Q2t3Exm09XHPdPi44dzMX7l3DNdfu5fOffh8vvXKQmCyAVyamOvS0ZVnZu5qta3rp7d3KtW+5inhyeb9EDCz+/es/p1CE3dtXU5ob5Py9e7nsvPV8/us/56677uH6qy/Atl1Ms4ppOzQb8J1vfY8rL1zHK6/+gsEzU3z0lr9itjrJ8fE+1q9tJW1EMASJQNO4877TvHJ0kru++G5eeuMoTV3N2OVZGlJxPvqxf+Ft77ied/315TQoDuesb+WmfZejR+Du736G6//6Dn727au5/4E3GehXaO7MUCrZhIGIoghogoEVmGxYuYKN21YzOXOUK/bvh9BGkess5F0s1yEqKcwXFrDCOk7dJaJFKZddonGNxlyWxx97jB07NzM6NA0SiJKKbsRYWMgTi0Y5dfrYnw8Ab73k3FsnJmZxnRBJUqiWKsQTCRYXFyjbDg0NCTZt3cDw6AT5ch3PrNDR1cPc4gTRmEpbYw4BDVkS8TybarWCpkaIRiPUa8tfcrvuIcsBU/kyi7MTHBs5jSEJNMYzuB6U6zX8IESUAgrlMo7jEtUNLNfBdwKqpSqyEUERJWrVEvmFJQLfw6w6JGMaCBqJTIRSoYppehiRGL7nYxg6tVqNpaU6kaRG6AV0dnZSLNYIAxtCAUESQHZx4jXioorqGoiSgOkEzPgFEnIUwRfwawo+UZZMm/JCQLoxhpEKqRcC5haKHH3jxDK/b2UbZs0DEQLfRwwDWtoyvPnGUVqzEY4OjJJKtJBMxphfKNCUS7OYLyNSx/MdXjw8TL5UxqwvkkzptDQ28pMf/Y6xwQnm5iw++9F9jOUDzgyMkEvHMQYshFSZti6DVWsayC/MMDYzwr6Lz4PAZvvmTfzzF/+D83Z38/Jzz2LX6hTnKywtlunrG6Hq2UxMjiNKIiFwZmSU8Zk81eLye0jEU7Tnsuzeu43Sok3nik4e/u2vUYQKU5NLxI0YLx4ZYHZqiYvP3cri3DhGNE5+YpDh4VEeeuRHfOKjb+PNyUU2bD2Pp44NU6y4WLbC5MgoZcdBiRj84q7vs3PjNk4dP8JSXaSrtZlnXniBLVvXc93lF+MLAojLS1RBKJKOiew9bxPJmEqyQUPV4yDr3HnHXezYuoq9e3ciCDKKpuF5Ib+487uMzNSxi4Ps33+Al14cY8/5GxmcPkFvbiWl/BwNmRh6MuC3v6ug6CWOHX+ca9/+ZfLDo0STEdat60UKXd73wZu5ZP+lVBwPApuKaZNQHf74ix/x39+9F9Oq8ehzg3zn1qt5+Ok+SmWTwBcQBYXGnMqV+7fT2+0yPOUzfPo46zZexZETJ9i5dSUHX30Vx1L/RNCaRwhtKpWQdDYDrocTCEwsnqG5PY2AtJzqCxJCCEuRMfJTi6zsWEutXuRU34k/HwC2r269NZVIoWgKtbpJGEJzS5Z4NMbY6DgEPrnmFKKoMDU7h6RHqOaL5HJZQlcmFtWxXRdDi1AsmchySDyRZHGhRH6pSHNTEwv5EsgKoR+ydl0Pvb2rGJsap162SKdzBH5IsVgimYwTBuAHHmIo4dgWsiRjRHQ8yQMHLNMil8vheg66pmOaPqKk4IVVbNPDc0GQRWQ5pFqtYxgGmqoR+HVEUaNarVGrOiTiUXxCatUCyYYofiIg6UTJxhNUTIWIHjJLhaQUQahLGLqOZflUTIOLz9+KY1eYmyuS0JtQ9Qj5pSJ7z9vMu9/9Lo4eOY3lOiiKgiRAe3uauZkFlMCmfdVK6vVlgtHs7ByCD3ML8xw5PoYkVDkzUkETVXqbAzas6ubJZ14lEEI+83c3c+jgaXp37kbTYkxNFFiqiyTaapilBXbs3czI+DyF+SKf+rt3I4cBQwOTdK7dzN33/oYqPgk9xoYVPdgxEQ+JsmkTSgKxTDuvvj5LX/8iA4MF6vU4jekaN7z1RpbmZ5maGiEUBQqLJV459ApdXa14voQZCMhiyND4NLFIklq1RDU0aGtv4re/fYzmzk1cdsUuzr32y+za3k4iZrB5y0X88Nt3cXpwmt2X7WTblvVsWr+GDZ0Gv37gaYqeQb7sMDczzr/e+klM2yJfnGTj5g089uhD9J08wejAKS6/aA+NUYdDr77G5PQ8iuBSM33ed9Ol3HD9ASJGjEgshSqpRI0IZnmQXdvWLt+zEuGeh17n8ks2cHbodeqmx5Rlkkt28tCjVYSwwAc++l5eGRrjzu99jleeOIg7Pc3A/AwrN6xCA6quxdz8IqEr0dWcI5PJsW33+eiNK2ha08mhp1/hxePz3P21a3j4qVF8p8q+K7Zx1SXtvPzck2zc1srhN0a57b++wc/ufYiuFT1s39RB/9lpHCvEdsromk4ikwQbVElAMgKaWlKMTo0jRzwIFBJ6hmg0Rr1WwUjqtK9MMj26QFdHFy8fOvjnA8D1+865tVyqkklnEaUAWdaYm58hEhVwrIDt2zdx8mQfkXgaVdPQxICuri7qdRPbCbBNk2hMpWrZqKqCKIZYdoASkcgXKxiagCj4RKNxBM+ks6uVVwb7cW2XumWRSSYolaqomkYYegihgqD71IoOvuQTlWM4nkkimkYMBcIQKpUyYRggiAKtLTmSiRSnpk+jyyoRw0AIROpWhVw2h0BAa0sTmiFjVhwQAjKZRjy3hKoYGLqG7/kIhsu6xCrGRufQMgqeYzPqLqAFOrIsEokrlMtFGlvXMzU5ydaNcZqznbx5fJSJ6Ul6etqZmCwhSTVKZYdQWDZDkWWBjvYM3/3u/2fsvf/0quv8/ev0c/c+vSeZSe8J1aChKiKCYu+46lp2ddeuq2z7qLu6rLK2RUQWsYJKFFBBCAkkJKRO6kwm0+s9M3e/79PP+f4wPr6/6vkbzuP1eL/K87q+w1VXbePYiZNI0QzdHe1cGh/FdwPyS4tMLgfk4jojYwVyyQZve/0r6WxvwmgYRFMGaweuoRFESSfDJMJhNL/KxaEZZhfmuTQ9x+23v4VafYbBk4Mszs+zbfMeRkYuYdZKPHPwIhIy77ltC0ulCWzFxhNFDNNi6JzD0kydPf0b2JVr5tqOXrZ0NvPJr36Ir3/929x8y6tZWCzx0uGTzObn0cIaFavMQrHOli39HD87SzatkUw1ITgumqzQ0dPBiy+PYjlV3vXu22hrztCckpFFePDrP0R1Gzz+038lLtfJ6jrNzVms0gyzSwFPHz3PO2/exo3XrWeysMj5sSWml8Zwq3W2briR9VuvQVab+dgX7+eGvbegSnVkMUujAra7zOjUNH986lme/9MB9v36Nxx45gCPPvIzTp+b4MWDg7xwaJh9+55mcS7PnXdczdlzg0xYFsUliaMvuzSWL3PXR99FJpvFESWevzjC6155FS8cPstifphn9h3m1tuuo2AEmOVlBnrb0RUFORTlv779MIIWpatnFVfdfDWHnnuRR39/ks996JWIqsIfnjjC8MVhXv+6nfziZ9O0t7TzwsH9eL7PlVdtoqM1xLHJ54mJzYT//F+q8goJSRY1Skslpmdm2LR+AF8DXYsSEhWqtRKe67K8NI9V8zEqDggCp04d/4sFQJZkjXRWAcGlXrMQZYlUMkcsGiYSdQgwicR0pqfGiCfjCKJIKKSxVKiQjMUpFiyEsAOShNcwUCUXS5Splxpo4RBe4NOaSzE5m2dt/yqGzg/heA1S8Rglc8UfGAQSgSehSAIgoio6FgaaoBOORjELLsVCHlmKoIUiKxd2YoCu6ywszuOZPulkGBGJIAhQVAgrESzLwLFNqtUqclTEtj2amlNIUoAjRKktmqQzKjXLQvRkFFmjf91aRopTWLaNh4CFTUaOEAQB2VwaBIGuK9by2C8eYe3ma4glbOKZNPEsVBc9Ah8URcF3fYLAQxYlVCXKTTfdhGVJbNy8nbHJKoZlkkpl2LVjJ994w+vZsP11PH1snERCZXHZ4fs/PMBnPrqHI4NDvOLaKzh48CAPPfAjvvXd+1GlgGt39LFY9tm1+9XEw4sE1RkCu8wb334HdrmGCIjILNkeiUQCx7E5PVXh/LSJIficOzpHSF3FnZvWkHUdLEEAwA4c6oslfv7oEd779jfyz1/5NzQpSzwtkE3HCEUljDpMzZc5ff4MAgLxtMZ1OzcxOV1A0RJIeox4BDZuXs3ipEVB8ZG0FItlh7veeQOZiMsjDz7Ia157K8vLiyTjCS7U6wShNIrlMT2Xp24VWLIFao5OrTbB9HCN3x78KQoumqIiBnDFze9k1fZmpkaX+ci738LjL/+Ebes6mFqu01SeYFiGuKNzxcYeHnnMJxnTKNeLfP/ej/H8ny5SM1UOn3CoMItsX4VVynPLJz5GS0sWT9GYny6Ta9I4Uajy91++m/fe8TFu3tFOprmNS0MT7Ni8mpcPHWHb1a/igfsfpmt1H1MLJgpgmh5vf//f8v2vP8B9D56mVD7Huk05Mk0J9v3uAHtfcQtDl+dpVCqIgYbqlLCsNJ4X4IoWy40imXACS3LJNmW4NDZOd1s38cYyEUGgVBcIQhVqVYFIOEk6Eac6VKNYscjG4uTSf90psPTx97zunqGhCbK5NEuFKm2tWRYX88zOziCpEvmFMtG4Sjgcp1qpogcCkwtV1qzqZnZmHkkFRRQwLBvRt1G1CJYvENIkAtcnndBWoA91mxoCHe1NTCxNI3kqrmWSTiSwfQ8hcFEUhXqjjihJ4KlIkkClWCUSjuB6HpqsYzRqhKIRbNfCCgx0RSCsRUhmoizMLyGLMrbtIQgeIgKhaAjfA9M1CGyoWzUCx+PC7BTZWIhQSMU06hhGia54hqlCBUfxqXkeviYg4pBVEhRKRQJT5MSJGT7yibvZ/8JxZvNVrtmyCUesk58s4jUq7Nq9jVrdXJlpiAKB57Kmv51IOExxfp4/Pr+fHbt2EYnG8WyXqYkpfv27pzhzdhyZgDWrdFrb45S9AiIuQxMBC/M2IxPTfOe736GluYlVfR1obZtZ32QRjgs07AiSGqKpbRsnjxxGNKGts435xRIbuhP86dkTxHWdYqOMrwp4ZoZy3uPTG3cRxcUTJQR8xEBCEQT0QOaZ4Ys8d/xR/uueLxFPRqiaFpIo8KmPfpCR0YsYNZlCXWDj6gxWTcQNAro6ejh0dpx9T+1HaizhNFyuf+0O1q7bRnF2jpgU0N2cYf3a9QxsHODi5CSWJ9C/uovpS4P8/Se+yo3XdtPUkmXNqj6GJ4ucPVdgcbaOL0u4joDjWIi+gBwXUXyoNErcsmkzlbExKrXznDif5zW7N/L4i+N05OJYlkx5YZHx2QZ10+HVr+ln+9qNrF23ml88dQbJV3DNdmamT/PGu19DSteIR5OEnDqHf/NDmtfvprQ0z+T0Ams6O1mdTDF/7CDB4iVqeivbt+/g+z9+DCkUwZdi7PvxvfQnQkx6CoFgcNurN/HEY3+id6CXer2CZ8BdN15PSHHp7Y7Q3ZkhmY6zddMAyVSCo2NH6O3sZ74wh4mLUAcTm1BCxKm6LFRKXBi9hKfZtK5KURirEtiQL86QCCfwnRmcQAMCTp489ZdbgL27193jeg1aUglMW8QwG7S2ZCEQUbUQ6VSMC5cuksy2ML9YoKWliaXlEtPTMxiGSVtHJ069QVtrM+l0koZjEggeKirVWh1RdUmE4iwUa0iCz5Z13ZyfG+PE2CjZeBpZEVE0Ddt28V0PTQ0DMr5vIwkCgQemZdEwLTzXQ5YlAs/HxkFUfFJaGFkKUSguIQkhQqEwuh5C1yQkUcW0GyiCQsNrEFZ0QELTFOKx+J9nBh4RLUI2o1NerOIKMvXAxhBFqlaDuCaiBTq+JIIlUiyIfO9HP2HH9l2cPTtGJOSiB9CWzbF2XQ/hSJzxmTyRSATDMNFVlba2FJ4LlaV5wvE4pwfnKBQKTE/PYtkCL798hrol4fke9bLA6i6PdKKV518epVr1UOU601MnMaqLdHatwTJr/OPnv8P0xdPMjQ6R61mDElh86nP/Te+aHr74mQ8ycnmK6cl5br11F+dOj3HdK7ZTXMgjRqOcODTDl3dfh+cZKKJIWFRAkbjn2//Auhu72PW6HaiGyAsnBJ7cf4HhY0cYHoepOYMf/+YQ89VmWpJhZiZLhFM6fT0Z/vCncU6cvkSgpLAci2vW5HjDba9i9dp+snGNs1OjtObSSCGRwK5jGHVyiRSnhka4astm/uO+p0CF3RvbyM/MsPOajTzwo0MIskooEFZ23qEUuqbg2S6f/7s3MXxujHRg05HLEk0q3H3na5lfijM7Z9Ke6qAtnWVTV5h6vsBVe97MkYNHGB9aZGl+1vLSFAAAIABJREFUjC2bB3j0d8dZmB7h0sUxHv3jz1jV2UZrLoumyrzrdTfQ2tTPd//9u3zhs39DazbD7j27KI0N8T8HjvLUrw7wzB+eY/PNr6avp5eujna++tkv8sXP/D1HTs1x9tCL3H7L9fz0sX1EYnGu6e/m/InzXLNrB1XLwaxO09kcZn4poD0nocVaiUYlJmenQEggqyJL84t0dDYhSCKibGDhYAcGulpGjiRoT7SSSiSp1z2am8O0t7cRaC4hXUMSNY4f+8stgOh7IrFYjunFMuGwTqVSoFY1cT2beFTD8Yq0plsRHINkMsziQh7XdqhWqySTSZaXl5EEldm5RRqmiW07dDY3Y1SKRMMy6XSadDpNLhlmXW8bExMzTBYNNjd3klAS+BYrGu3UCizDdV1s2yYSDa30KIpEIh0nmUyQzaaRJIVoNIqu6yB5hBKxP4s2A6LRKJ5rUiyUV4AlikYqnqCzsxNJkggEibJhky9b1AwLmxXiryB5SILI7a/Zi2c74AU0Gg0UT8L3ZNAlJC8gk4zS0R5jdt7lt0+/xFKjSHGpwnKhxu2vvR5d8lBUiEQi1Go1FEVBkTUAjr58Ap+Abds30dKSpVQq4Xke07PLDA1PossCriNQN+s893KNq7elMCydeEJh9bp+hk48y49+tA8fH3ydW3Jh5GwH2299KyEZZEkg1byKgaYGkWgIQZDoW9WNFk6wd89O+toz3P2ut3Pi4Bhf3f4KkppIXFHxfZcdd+7kA/f/HYuajRvLIOkpjKqJQp1qdQm3aTOuaCOpMpIoUMtf5sjgBIKicuJ4kUMvL+CKIlo8jqeGIBCRcOhf30xt7jDHn36IjmyGcDJO4Pl4/go92g9crrvyCiQUlmf3kW5axBArJLszfP1nP0GOihhGnR072mhIZWaWlxiZWsDx4NilF7hYmqd7c4pADFDNGktWg3x1mhPDw5ydHebA8Yv8bP80kbZWzp0+ys71naxdk+adb7sVT4py9ZWrCCdaSWfiyG6Jc8sNulti7FrfzKr1e3nX3f/Co/u+TlIXSGcSqLLO48PLjA03WAySzBdcdq/qIKfbJHWHR352H1/778f4/Gffy4Pf+TJrV+X46r9+gUd/8h1Ev8qH//Z9bFrXgdSYorenlSMvHGX31iRf+dFBnn/h3IqaXVSYLoxjBQaZ9mZGJmYwvDquLpPL5WjvbCPws/i46CGZ+ckCds2lJTNAYclC1jWGJy6hN7l/VQsgp9Npzg6N0dqUo1xYJpVuwjBtEsksC/lFZAlCUZlMKk3h0iUEKUIsouB7IqIooggitlMjl2tmfHKCplSGhdkFlLCGIqsYZYdzCxdJRDPUaiaSHLClo4da2aZQWiQejeI5Avg1TNfBd12aMlkWy/NIgowq6tQbVVRJxrIcfN/FcWxkRUSww8iKiK7KKGqOUqlCIp5CV2VQTVRVRZI9pqen0WWZcsMEPyASkShUanieRyIdwwtBc1OKpcUSvhJg4BNRw7h2gGCZuIpJXFOo22UUSeC2W7p5/oUxctEY6aY2tvSkmJ6+zLq1q3HkMIpYQ1BXemrf91FUkd89/jhf/uInWNW/jpOn8/T19jM2PkxpucgXv/C3PPzj36NIDTKJMD19vZyaXUQRBfq62jl18hyvuuNfySWbccw6tgNd13SzQTFZ17+FmcunMN0a73rznYjFkzi2h2k2qHs+muDR2dnK+MgldF0jJCXIRmTMP0NPv/Sze5kWyrimwR1v/TC//PWjmEaJhx/9PqdPP0Gp5CPJOtGQTHf3FpLx1ZStBhFFY7nko4kyc8sBkqoRzXbTqJbQtBCVWAo1maJcNpDCaRLLg4SNOBXXxdE9rLyBFYvy6S//BsMSSLekSXdHGDWKSLbFp6+7mi/NnSKuq4xOV+hcH2GoXkEsi9QchwcfOsINr17H/PIc0VySP53LMyI8y9pcC5v6mgg8n6X5POcXVYKGwGtv2snCzCye5RCNhfinL/4/dlx1NelwmV2v3smvvvtLgkwWedXNuJbEE3/8HyQhjmV5oBj88hf72P/HE9QWfarLY8TiEYYuHMJuVPF9D1mCcqPG//3g81hWHSEIUEWBXCrFL775z+RyYWanBtk0sJq+nlU88+yzvPkNdxKWVa7atI4rdg+gizLBok45vESTnuDUzDBqXMLQY9SW5zmxMERa0nEtkxte8Srq5hypRBeloMTwyCVCeoyOeBvKRgFFMf66AjA8MkRh2cJ3fEzbIayJrFs3QKEwi+M4JBMpbKfKyMgIzZ1dLC+V0eUQyyUDz/MIJSKEZY1atUp7Jkcml0XXZS6PTCIK0KiWML0Ax28gCzJTy2VGrGl83yWj5+DPWKyqZxMOKbiOSMkqgiSiaSp4ErZlEYlGses2jm8juSK+YiOEFfzAwnU1HByy2TSe6TO/uEw0IaJLIRzHJBzKUDcWSUVSLNXnMGyLsKrg2iLgY0h1XFvl5OBpVCWB4dRIKTo1wQJdRNAFVD/MTHWCbKyFtZkWFvM65eIsTakMpmDjNJbw6yZGvBNFUdAlCVEUMc0Gnm0RiCv76w0D/USjxyjV6liOy46dG9F8i0Jpit3X5ihMplmYWaCeKiIIAg27SiyWoFypE2kJEdYVBMHFTfbz898/zb6T/8a777gJo1Fh8PwZIvZxfO8uALauW4UaCvPQj36KqonkDx7mG9u242IjAelYiDmxQr28hB5K0HfF+3jPZx7i3n96K3fe+lEe+8M59ly5lTe840P89KFvc3L4FJ7tIMsqRqPMwv1PoYgODdvirkeeI++dJdW6mnKxwPHTHvd978k/v+ycFctRZZGrdu+iXjNZLlTYuKudv/va52nU6rTKDgun9nF0Yp7zxgR/uDhF/+oe+ntamJwcZ9lYIKgmIZhDCEKEpXYunKmRznbz+IFxIqEo5mjA6OgwvV05QskwV16xhRfOHcZb18ULx55iTfNqPKVCJJZE9GT616SZnoohSgpTxXmEwjw/eHCRd773fdTqPuGIhxIYrGvpJ9twWRUP8Zsjz/H+L36a5rZW6paLY5TobG3j6InjZJti1B0PTwRZ8Fjd0cFH3/8+Xv/avZw/O8pAdze/fnqIXdtiaNpqfvK7ITZuaKerqZV0SsPFw4p46LbLWi2N39XK8aFRzMURHLFBvVpCjzSx6apNzBeG8N0kgl/HsgwsS8RoLLFh/RaK+RptbZ1/VQGQ3rB39z1GIKCJIpWlJXpXtXHp0ij1qs0VuzagKGCYDm3tzfhiQH6phGG5+IGILIHjuURUES2qk841U69WEISApeUC1UqFzvYc6WQSVReJhDTEwKZYd/F0lTganuNQM+qssKklGnWDWCxMAIiBhCwIOI6LqioYdRNZFtFUHUNtMLa8hAyU5+ssekWaQgkcT6ZSqhKLawSBSOB5uLZKOCxDAIIoQRCQTIZRUEH18CM+etmiq20NI0uLlBwH23JpWDaB2kATBFRPQ4mpuAUHLZJgdnEBCZ1SucLFoVHcqIHmK4iRJqbnFnDtlRSkLEt0t8Y4OzjCzh2b6O9fR66llzODp0ml4hg1m8nxcXbv2sTgqWnecvu1TM2N0NYWZ+hcnc6eFE3NGtfuXstrbng1ggSlWoOPfOz9dKSifOWeT3H+wkUi8TDX3fxmOnWD9r4Bxidm0TWNXCbG73//PFXL5PhQgTev7UXTokDAG//7w9Q9n6ZcmtmxEVpqDXa0RVg6f4q73ns1nas6CTy4/bXXI+ipFX6K5GD6NoqsM/XCC0ieSoDIs+OD+HaFQsVGElRcr8Ybb70Cz19hQ+5/4Rxd7R0k0irhcALXt1nM5/Hi7XTlYkwtzPLkwSexEzVkR+b4UYP5+TyqZiIGEUamCiwszKEqYcKhKC2dCbasi+GyiFmPUqkbiIKP+WfE+sL0IufPziIhML1QZ6ko0NGc5Hd/nOE9b7+ZzrVdCKJOPp+nrWk1XW1xipVlSqWAE4PDbN69GUlRcCyfX/z4P/neIy9z6tQh3v3ZfySabcE2TeYqZa7csIEgsOhs7WR0cgFF03ACkf7eNXz03e/gmj3b+OCHH+DjH347l/MN3vLRj/Dpzz1MT3cTpaUykYjM8tI48XCI7r4efjv4O3b1beb88Clmlha44pqd7N//DNt37SSZUsk2d9IwCoyNFulqamd+vkStViUailEuFZEVlbAepS7UOPinl/7yDMAiTLXSoFxZpq2rE9N2yGSbiCcT7D9whmKhhOdJDA6NMXZxDFWQME0XTdWpmyt3xwE+geMgOCugitbmDsLhMIIsMz6V/zOp1WWhsMjGLRsZsRqotk+gSkQScSQpwHNcorEw2eYUgr+SZvN9H98TSETiBL6EAETCMSRJxrVcUrEwll9Hk2XWdndQqjQQRJFUNkcoHEeWNIxGgOsbVOs1dF1GESU0CUQ/WCH/hCSsQoWBgQGKNYO+zm4SiRhVs0EylaAj005rupmwqlEslIlEIpwbzrNlZ45Vq7tRBJdsrhldkTGDFRRzNBJBC6/MMDzfQfADNm/ZhOf5DA0N8fOf/ZLPfOZz7N27F1F06WhJUS3O47gN/vcnj7FrVwfj5xdQxDrDQ2O0dTYzvThBqZHHCwLCEZ37/vPrnDxykCvWXoHrurRm4vzys1/i0T++jOuszB/CYRk3ULHtEsmMSnMiRkSLE42pNKXCLKk2iAGjo6M0d3cx9PJ+goTMt3/5PB/8zE9w3BXRqaaG+ein/p1EOowUyERkHc8yCBNbCev4Av/xjc9x9U2bed/7NyEr4HoGhJKkkiFyuSxmo0H32h4Wl23GJmYZn62RL9UYHV/EsxxePj5CU6aF+pJK4EAiE8X1YswXVJ546iir2/vYsrOJcLzM9bcMcNcdu9l91ZX0t+RYXp5ClnTqdW0l5dmeRA37yLKMKLkYdRMpgInpCsnMLIZd4Z8+/s9kE2FGForsP/wU+XyerWvbiUSbiKsar7vtnUh6lrve9l6+88MRarVZ7r3/+8SzWWq+RqKti4V8ja//8gkSqXYqlQq7t2zBcDXW9nVx8sAf2XPdDXziU9/kn774KQ5dnKWjq5VmTeTuD72W4dEFbr/jFpLJJNdecwWKb+I4Fjs6ujk1fIx8o0IilebsuYtce9MrED2Hcs0hlUjSn92K5mc4dvgMnlyhoytDKK6Ra84yMz3P4OBZfDP6V70AxPziEr7rYvkS4WSIhUKNfD5PrV5ElBxs22XD5nW0d3YRSmVBFNAk8NwakiQR0SNMTCxQLjWYnZ2nMJ/Htm0ymQySsOIF0KMxFgoWLc3t6LLA+kwGQRAYHr+MUa0hSxEkSV6JMXouiqaSCsVJp1KIokjDMNAVjVAsRrlcoVGro4TAcU10KULvQDvjc+Mksgq2XcOWK5hWBWQTJSRQp4z5Z3OvHhKIxKKYrkU6m2ZmfgnRDxEKRxm+NMrpwbNUTBsTn8VKmaVykWLFIl+p4Lou84UCw9NFFuoWDX+aa6/ZjaaLlOer//+wUfBXnH8ArutiWnWu2/NKFosmZ8+ep16vc++993LjjTfSaDTo7e2hf00XW9emec9du1msNxicqoIKN91wI+dOzvGWuz5Ee0sXIUUlF4nw0ENPMGt38rX7H0DAJ9OU4bqP3cGxswvY9kqCThUjHBue4XIhTBDJcPCH30BRJDzDwHZtbEugXjUQ5QimJ/Hef/8I93/rQcz8BO+8bQ++Flsh6ooiD/7HxzCdFdS57/uEwhqX8otomoauq3z0o+8nnhDwnBq+UWfPdRu551/+i3KpiqYLvPG2V5AQQ8SzWX797EkM10DWwvi+i+WYREWFCy8X+dNT4yhGH9NLdcrlMsuLDd54+60YpQbjoxaaHEP2JH7yk33kJ89z6uwFPvo3b8Fx65RrCwSBwNxsAz/IoIcThAWZHQPdLBbqHBm8SDK7hmgsRV/vGpxARA+v2J/twOHlU6O0tTp4xjI7V2/iyx/7BIqdo1Ia5h++8i+cnJiip3MrXfVp5saKOKE4U/N5PvfNb5NoaWLo0hj//I9v5k+PPsDTTz/N4ZfP88UvfYGaNU8sLDExOcfjv/kl6wbauOWtt/PAQw/TqJuk01nCLa3gO/h2mG3rN5FoTdDflSODxZpUmuHJGfSwQqPYQKxLyLaF5TqosoxlQzYVo29VJ319fdx62x4E56+MA5u2i6hqyFKEiclpwhGZuu/R27Max5GIxpoRfIe56WXqhoMvqbiCj4OC50O9VGHzpnW0teawbAdRV1lYzDN8aQRRVDFMh8sTMwRugCIGnBwvMzO5QEwKI6gyohQmFomjygr1iolZsTDMKvmFImOzY5hGA8/xqNXLCIFLLBYjUBxsuUZ/pIOy5TM8e5nOnnYManhJGyHs4ikKC4JJUSoTTWhYcZHB/BhFu0GxVmLMWGBycQLbtvENaNQadDTncFNRZMvDwafkOdScGqZr4noikVAEWV0hETXKIs8MD/Lwb36K7QfMlR0s10IQPWzbRlXVFeS37xOgrhwgKRIjIyM0teQIRIFwWKTRaHD85eO4okBf/xomCkWWFxvEQzE2b9pBzZjmjru28vJ3H0MVPGzXptQw0RyHeOFPfOULd+O7JvFoiPu+9XOass3osoSiKNhBg5ik8IortjAxMoreKbOvcZrD6gyNPTJRUSCSjJBJp5BliUimibJR5Kt/907OP7WPL93+HgJP5vjzJ7h4ehSruMTZsydwbQuZgPPDZ/HxMCyTX3zn2zCv88j3jxCODSKHK7R2dnFpoowYyHR2Zjhz/DT/9Y1HWbP6Kp544gI/ffBJPveBm/ntE4cozY1yabpBSGnn2ZcmcCoakqRRrizyiycPcWbMoFqY45qr42RysHlrLz/80SDT4xl+8OBBtm4OccvejQw0J0npIGFQXJ4nlwpYs7qXQIzgKH3s2n0jh1/Yz0f+4W2cuTCKLseI5iTUVJnLcz6LC7PU7Sl822FiskBLh8Nnv/ddstksV+/Yhl5/iUf+cIT37hW4ulXjw+94M9e/ci//89Cv+ea/3cN77nwDlVqDZw8f45kDw/z8ly9w6uwFhMBhcnYOQdSYGs7z6EMP8e63vYFsKoLkgx4JEeDQ3dHJwRdfYH1nL6VymRtfcwOyGiEe1ejRmxGqAZVqkeZkhr7uFmJqDF0LqNaW8H2b5w8eYGRknj8jJ//iJ23s67ynr7cHSRGZXyjjOBCKxpgYuYQgWiwWFjk03CAqmSiKjOsFKIGI73j0dqRpbUnhe84KCjuXRleVlaOXco1oJEoknKZSqxE4LrVGlXKtyuDJOdq6EqQjcUKSuKLg1kV0OYzrOCi6RBAIRCNhXNsnkYpgWTa+b1M3DAiDVXNJJzIkRAXFVQlHRMJaDL/uo9RFQiGFTRubKc1VUMQQiuDT0pwjquq4rolqO9hmg7auJmbmClyzfQvN7a28eGaYVU1tCLJMAYNUVEGydMKCSiwap7DkcuDwMFPLNqUlg1uuvYWqVWY6v0hvJoGeyFGr2uiahqpqBIFHay6KYZgsFpcoF0r0r9/G2rWrcZyAt73tHZSX5njyxd+xnK/y8tELRHMJ5sZtJqcWyOWSJNQ2rnzbnSzMjqOIKo5lcs2uDbQmdfTr30TcNti+dS1OYjW7WiJ0dmcp1x2UUIrBS4sE+UsMbNzCpo19vHDsNM8dO48eauXqV11F4NqMj08SD+t89V/v5b5vfo30xh56d67ljR94B9XqIh/60L/zxJMvcPTwIb708ffw00f+j+uv3str3/sW+q5ei4vMmz5/P7tf9Wr+43/+kx//+Gdoss+eV13Jc394npKl0JrVeOnUr7jmVRkaldO86op2rti5iV/99EEunzlEZblKoRZCEDx8zyeRzmLVTBzXZ+eOVnq6a6xNJ/GkLMOjF5nPT/KBd93B6Qtn8R2J+bkFtq7aQCQK11yVJnDzpGKQ7mhnYa6MqNRpaRE5efoC3R0DhKPwq99foC2u0hpPMzq5yMHBMXRVYX1vD0sLi0RiUW7YtRnDNli1YSsDrVGa0k109/QzfnmW7Tu3EHYMYqrIa255BY8+/ABbtmxBljWm50xc8xK3vfoWJi4OcuxCnXhEpqW1Dcer875P3MOqNoHx4UG++sDTvDBY59fPDDE7NsP127Zx7oTJdVd08fNHTnDm5CRX7e4lFoty6JmzDI3No4kKly9V2bvnFXQ0tVAplVguFGk0HJaWavR0t7F///N/zSHQ5nt0VaS8tEjgNuhpz2LVl6lXXfoHBqiZNT7+sQ9x6PBZMgmJasMmnkgQGA36elro7esjlowwOjNJIpUil87R1ZxDEgPKhSU6O1LEIxoxTSIeTzA6NcO77n4D+al5BCHAsCx8D8LhMI1aA13XMC0DMVBpGHU0RadWq6DoKq4g4FsWTZlmAgHcqsvl2QW6u7LMFarI8QTLxWUWK0VamnOcPD+CEgrhuyt3Ak7Bptxw8EyTbHMzbiCyXK9hWT6XRhZ44rcvcdX6fqq1BoZlQFhDNOuExTCuYeN6BuUFl4WayNjENNFUAl8o4RkN+jq76enuouGIuA7U63UAAtcgEROZmZgmmYxSWC5RLDssF0pUa2UOHzrE3Oxl9h8eY2qywvZdWxCJUlioc9udN3B+cArPnufJP7zMzTftxTFNJEXk/gce5ck/vkxbrUr3QC+2VeNTf/dlLk9N8dY33cDCUoWS6fLMMxf420++g56uZlTR5yePPUo2249luFzzyleiKTpKJMTff+SL+HovLd1RfM/jd08dw5MEXh68zJ7Xv4Z/+tyb+P4P9tHRluTBHz7Otx7+BYf2P8+xMydIpHJ84iPv4N5v/Dd7trcyVz6LpmicPX2ebDhLJJ5j/UCOPXtupr9vAzdefwPr+rfwrUcGGVuIENN1lv1uNMlHjDcTS6ZxRZlwOkcu1US5EaVq5PjPL7+D3x44y+jQLG7QyZ/2TxBrXk88GQMSXLg0zcVLYwhCjKPnyzhKHxMLNvPLRRr1JHMzdWYmhnnbez6CgkPV8nj6pcucu7REe08HhVKIYlXi5IUSiZBHNKxw/sIww6eGePn0Oa7auubPEJw0vX29OIHH+HKNpCIS1EqEo3HMxhR6IsFLL5xmx7o+elp08gvL/Obhf+HcWINQSMasV1lenuLgg48SzamcGqqjhFMEiOQXSxw9uczETJ3Dx0Z55e49rOnto783h1eTCemthKM5utpbmZouIQYiqiSSSbfQmslhmQ3GZ4qUS3mGh/8yFly6etuWe3xBRNMlpHAUAhHDhraWNN1d3ZSWTS5ePM9iJc/GdX0otkypVGbb1gEEIeDc2bOEIyqqpBNYDqm4zsXpaRaXllnd2Y3hBgxN1RlY1USlYqILAs8cPo8ceASai+366LKCYTpoiopleviBgGmYlESbiKCi6QqNhoUgiIiBQqA61Ot1tq3eSCShk0rEuDQ3g2EYxESFeCjE5Pwsni5iiS4hXUGJ6hRdC1n2aXgGy6UahXIRx/WpVkpkUnH6V/fS19LB0crK9LiMQyiw0QINRQwwvTpuA1JNPZw9fZyO9g6MoM7m7avobVmNJApYnkijviKlkCSJSEilt1njuf3HaG1to1ypEopm8XyP4UsXKZdKnDl1iWiklUxGoamliVSzhFF3mBldYHxqkqgWYnF8hs09WWxBxcYnMET625KM2yXW9PZy3w9+zwM//wHq0hSrt3WxtGhw/48PYpYvs//ZUyQiCer1Enfd9Rr++OQhlgyLx3/xOD++/2Hu+9Z9bO3qpqWjjab2DCfO5tm6bR3TswVuuuVaissL+H6ShlHm1pu389KxMWKRMHNLcySUCH944QAP7XuGXFOaqclp+prbeOnoLI7lMzIxz03XX4umRenubuFDn/4uzx6p8tSBS8RSaQZSFnfuXUNM91mVcRmerGM5ASoOGW2ZTc0qw9OXsf0QWzdGeOzJaQQnSsUMEBUV0yjjmC6e74IPQTjG3LKBrsWwbQPR83A98H0PTVPJdmzgxRdfZO+rdrKmJ81zzw0i6QnOD15GQiCSasFqVMmERSqlBbbtupKFRZuUXGTDjm1IkRCG4xBSRRxPYblc58GvfZOTp48TDtc5d3mQjX1pfnFgBKNi0dvezL987fM8+tgT/O9DT9DRnqO9Ncu5/Qe46c49fOXbB/AVmUCNIYkigu/gey6iGOD4KoMXpzl5ZpqBnhTDFwu0Njfz89++yIVL8xRrAiOjyxw5McmBo6McfHGYS1N1CiWT2UWLRnniLxeAWKrtHl/WWSoYuJ6H7+t4PhSrIqPzC0QVgYZpossqy1UTl5X1mCiLyIJL3rDwNZXAFcgkY8wu5GnK5QhLOpfyC4iygu8ZNKWiLC6WaO5tYXqpRjwtUTHKqKKIJEi4coAkyEjKCkVHUMDDQ7AFotEEouzhGhZaXEUIe8SSIRrLJRzbYbKeJxQKIbsKjikQD2ex6ha9zasI2TLpWI7L45dZ29aF6Eg0JZtQBIlUIkHDMoiFArrjGsV6hKaUwrnqMiFXoBoSCHkOESlMNB7FtwPCQpiakGRsIk8218SVr9zE9OQyE/lhVmWaMAOFuuEiiSJBEGAZFTb2Rjh2aoSNG9YyNb2EHIpjmjaGUaWrq4V0rpWDR05TLtdpa0lieku0hBOEtRqvfsVWBK9KvhFn11XbkTQVAo/jpwZZs66V/7nve5wZPMOZy1U2Zx26WmLYkoCPyu+fv8z123vYc8VGZMEgkDVmp/LccN02hk4fY/uuXTQ1J0lnm1EjAkl5ka4YDJ0/yrreKJJf4P7Pf4+H/+8+5qfPENYUHv/tYxw5fZihobPsuqaPQ4PnSDQlUcJh0gmVWr0IosTguUvYjocfJOhaNYDjBpQadYbH81QnpmjUi7iGwcL8KNlUkucPDXFh+AToXeiRCJbjszQzT1NGJT+fZ6C3g4E1KfYfOYdPBLtaIhaLrui/hBW7sazL1CpFJEEEBEyjjufaCIHaAJrpAAAgAElEQVSP51pkcxHml2ehVuTkSyfo7kmg2CXSOpT9DKhhyoU5LHMlN/D6G7Zw7uIk2ZYU6weauPe/n+R9f/NW8qUGKT3Ezx55kOrlSxw6NsLH372HuqWyoS/H2aE5rtm+iaeeP8cte1dx+KXnuDyeR471cfLoIa65cgNP/+H3VGsiQ3MVZF8kkDSCwCLkefiejeP6K3JaP0ASPQ6enmZirsLZ81NcvXMNviVRq1RQBRMXBUkUQAJJFhElEUFRqBcu/+UCsG39unty2TiSGKO9dw2z80UOHRvmyiuv4szpC6xeHcEM0mi+Ta20RDydACR6WtqYz5e5ams/85NFJqfySEKA57orAM9yGdN0CAkeq9ubODmyTE9PDxemJ0gqPqIm4YREFM9H0jWyiRzl5RKiIOD4Pr4fYPoW3c1d1OsGsqgRCUeRVB1DaFBzKgw0baHqlTixMEVbOMvJ6jSVeZH55QLzVYHpYoCtBTx3dBRVy3JqKI/rJzh6eYRYVKI1k6Hu1NBUlWw6x/x8lYJbx8SlPdWMbRXJaCHcQEaWRRyrTFhKcfHiJdZt3MpzB49x7uIEamAyMjLIHTfeTr7SoF63aWlrxfccBAw6MjGWSi4D63pZWq5TKDVomGVUVSWZiHLyyCnmSzU8T2Dz+j7qrkVvArbuuBZVlYnEspy4cJo1a1cRjSRAdrg4MsfpixWadRdTCpjM22y5eju/+tWTbN3cjaJFefrZs2zujSNbBTqbczSCAEXVwDW4cucmilWfyal5kokE+dFZNm+7mstzVQTfZ+jyDPmFZba3NDFrNXjz6++kYdmkM+1sWr+WnduvxLYsultbSCVaKC7N09HVi9eo4+Jwy95rqTeqDLR3sTg9yunBQc6dv4xZNtFEH0X0sepVCo0aF84vUW/ksYIQSrgVN7DxXJeQJjG3sMTtN1/HC2eGuP6aNZy/MEK5KiIhoocitOVaCAgIR1Z09rIgEPgBju2ABK7l40thNF0lHEqAG/Chd6YY6B1gTXcn+548TKCmWGhAWNcRa0VqroEiKkwsBsheg9npCo3SLIVKwMM/3o/UlOGlk5Ps//1xNvZ3UKnV+N6+y/zhpREOnDB413t3sVxcolVzkByVLZs3sHZtFoceticdujf1MTF+mVg6zchYjV2be5kqlBE9l6ZklECQcNwCX/70W3n6wDE2d0e5YuMqpFCC3TvWUy7WGBu7wIZVcfr7u6jWPEzHw/d9mpqaaE0K7NqylsHTf1kOKsxffC6oGCUSioojiejKyjquUZrnpYMnmJ5e5t+//RL/+9W3cPzceVRVZXJ6ltU9veghEVWw6O/rY2q+gCK4uO6KtGNudolcJk4orGAYddLxOKIUZaKwwGJhHisqMTO9RG8mCaJOeblBKpXAkRx0MYrnW1wuTpCTUgjeyt1/Jpmh5tapCktsG1jNxeEpwqEo5wrLDEQSjHtlBFugUlIpztRRFAXHdGhoVZJqK77dYNPONVy6mGfH+jBJSaMurKybVuXamC166OJKP3WpMENIl5BwMZ0AWRIINSTC4Qjjsw0uzS4Q0dPMLNqs6o4SxMt06y14oRxVcyUhGY/HEZwqq5oF4qkWTNviwJEhMtkuvMCnYVTo7MwyPzLN488do3f1OgyrxKnTF9BkjQ+/62o6Orr4j28/Rl/PKt7x1luYmCsTOAEn9u/jw5/9ew4fP0I22cdjT48zfuowkbDARz64h1VrNvLhTzxEzC9y3Y41/PbAGb7+9fdTrbtYVgNzbhxPiHLfD/cRiWrsvXoDu67Yxf898itaW9sQ0OjsTLAq0UJRNZmdLHBhZJJoCE6dGOQTn/wIxUKdsctjpHNhPNelWhH4f//6D9z9wX9gdHSU1tYYmpbiTa/by8xCDUfSuTA6yb/907tRJJFYqp/LQydYvW0bP/j2d7n7gx+gc+0biahRFEXHrjfw/TqCKpNtzvGFj9+KHoi88qa9CPLKmFsKPE6eOMZIvkYo0cK+3zwBPqzu38jH3/8aIoqG7VaRlRCe5xEEAR+4+5OIdoHb3nQLX//uScr1MoqiIOohJBQcy8Zj5ZQcx8B2PATXIhAjWGYN17BAkahV53nlpg4KjoxlayxWTEyrSjJU5H1v20VjxqBQaOCg88a3Xc0jDx2lJ+Fw1Z2vx3JUPveZe1k2JQRRRglFIPAIXBdNkjEbJp6o4PsNtm7qIxKJcPjoOURcVCWK6Zh0tjbRaDQolev4ooTnuASeRyoVo3+gjad+84DwlwqA/L/3P0A4pJFKJpgen0FLt/PL3wzyyU++naVimdWr+0m3vEQqK9HTnqPcsOltzWGYFqqSZG55mWzOwvddCqU6WiRONKHT3dPOyNgo8UyK1W0t1CoGvd0Rpis+p4p5ukNpWnM5qqZBWPYJhRTq9SpKSKZk5rGxV3bQgoTqi9iuz1JpntbWdiKSz2xlnq7uZvKTVXBt4skIUsNE8wU6+1dxqjRIMhOmUalz+xtv4Y+/e4b2lg7m8gt0DKiEIylUz6dUrZBQo+B49DfnOD48iqVLENHwPQct+P8Ye88wu8qyff9cdfe+p/dMJsmk907vTekoIgiC8qpYXl8UBREbKkUFRbCggChSgvRAQktI7z0zk5lML3tm9772av8P4//3VdfX59s6jvs67ud+rvs6BVRFpmgWcQhu+kaSTCRgzbpZHN7Zz7nrFnLgyAHmdVQTIMBYtozbHaaYy2IbJoauIylBxiZi1NRU4Xa7MYxpr4NtW4QDQewmna9+7lP8dcNHaNookurCQuGZlz4hnu0m4lrD4LCOZXmpr3EwMJWiesZ8nnvida69/bOMj46QTKWYSBe5etVyPF4njz31CkWjTCgU4v19J3j97d/Q23MKRREolBTcjY3UBSP8+jc/pvvkYebNn8ljj7zC8lVLSSeKvLLhDZrbmvA5wlQ1uTiwf5jZs2s459yzEGUX72/+hFQyxze+ejOHTnQxNJxgcGCIr33ru+w9MIDgqmFhxEE6Db2nB/BWNVLRRJauvXga7yVKZMspPAE3F64/jztvv5FyvsCFX/w2xVIeBDe2bUMlgVjKkRwe5Qf3/wpJm2T3Rfv/zV00sWxYvnw9E1uOUjRE5s1fhD/gYsf+Pt74eD9XnbkIG2kaoPHvzyWPM6vRjSoKpFIJjuz80/SBbTIQi3Py2HGuuPQCZFnFNjSMSpm5530LUulpJqYs4xEqrDrzPE72DRNwCCxauZJNH5zg0ssuYPeeXtpnLqRhlZ+SIaKZBtUNjay7JMKKGVlyuInHsgjhdtRiCcHQpinStogtqxiSiCo7ybqjOCsZTg2lEKUi7kADtl1CwMLtdpHRLHRbRvD7cNjSNELPtKjYJt2nc/+p9qcF4H++/SClwhj5goFQzvDlrz1AR3s1m97fxHXnzCY5leWcs85mcGSURUs6EfQSW7fuwy97qBgZnJ4oPacnmdVazVS6jBMdzRTRUnmaZ3SQGB1jKpbE4XCQy5YoFQ1KFoynynRUeyiUDdwSqC4nll1ClhzIihPRKCAoOkpFwuFwoekZTNEiXp4kXB+gYkB2Ko9PCSOH8lAUEMLgEyLs2HMYRa+lq7+PqDPC7jeH8PsaGR4ZYdaM5cSzAwSEBJgeREVEsZ14/T76YimaWhuwRJtCLoPD68TQSxiGjk91YRYtyprB4RMTrF1Vx9rVc+kZ7GLtmvl4qmSCtp+yLDA+mcOpTucR2mYWRQoS8gWmA0Jk5/QbfcX4f25Hl2ph5PLcfsMKKpVVPPTMa5imA1MK4XEuxReqMNR/CLf7s8Qms9TU+Rn+8wlez5Y455okpmljagarFs9hdr2DxqYZRP1DhKsk4rFRRMXFZZ99kF//8HpEERTVpmw6kXxBtr6/g5bGZjZt3MO1oRDPvrcDXdNpikQICgGsssnQsRhtkUaSQxn++tQH6IaJXhZonV3Pfff9FZfkRLCdGKpIYrRAU6QNdbSXW275Nj/78dMI5QKFQglblDm+/yPy668lnTX57d+eJl3QaFl2JTu7bXr+uonBE5PMXrCIdHl6maViqMjBOujrQxPCJMcPg2Bj/dvJKUkyhl3Brfezs8/Hg/93FfHJKXbsGeRTZyxAECUMXf9/HYPX5ebESZ2Pdwzz8BoZW8th2haiMA28fezXf+YbX7+JfDaHwzFNdzLx4FZclPwGVr6ANxBlZqSCS9HJlXXuuO5iHn3iKRxKlDANJIeOcGpfggdfP8n9d11OtmKx4YnfIziqGAxKrPr0p0lMTEJpktpwPdgRKraArUiYFpjlPPnUJD4jiyRLyJKPim2iOF3YpoRDkKhgIQoCsmLx/0PALC0Pgk1FqyA5xf9OAGxRA1uhpqUevVDkHxv+jl1J8otHn0QSRPpO9fDVL9zA1V+4i9898A0Uu8Sll59HPp9n75ExPLpGT/8UPUybGaYKFgtqA1heL9sPHqU60oDsdOILqKSzGUwMGmt9tIbb2de9n/kz6lALKidig0giNEeryOXLBFwuZNWJKepMpqdw1Hvx5VVESSGbKiJaBgGHg6JWQkGiaUYLA1NJfFVOZixyMdZ9mpWra1EtF6VigXCNgj9bjewbo81RR2kqjhxx4PS6kHMKQY+LlqYqEukYZUPALamYmobhBLfkRrKh4tBxOxQuueRcKkIFv6CzeNZyhuJTjOR6WN6wjHnzllAsH0PXdSRJJpPIY5bzVNfPYCpXmG5Dhem0IMuUkCQBQRBoaqpn78GjvPTOHvyySKIkkNdLiLZNU/Ms7r7zHmKZGLIsE/a5eWvyCMuKFZRMmoISxO2SiKdSnLnuLMYnprj6mrP46PsvYNk2DkHl53dfhyDZyKbAK6/vpiKEuP9rNWz41w5WLY+RyhdYKIV49c1fYzhctETbmUgMIIgiggl+h8jvf/4TzvvsbdSFgsiqzj+ff4XxliJlw+Dnjz7C1mO97Hr1SW664+ts/ck/6O0fw+ML4goGCdcHiSXK3PSZlXztG08xlRhixYo2brrpSyzo8OP3eCE0g+6H/gWihG2aqKqKK+Ank86TyCZxSgE+eu0x3vtwF2efsRyHw4FlWWALrFx7Hj974lY2VI8QjVRx0wVNiMJ00U8nIk1zEjJ5g6bWFhYt8yHYJk7b+LdZC0Dk9OnTGHj517sfcf2nL8GyLbSKRlW4hr7eIVwUEfIZ+vMGe44O0Dp/PX95+UMCtZ1omsYbW0/hr6mloXU+f3zlGo5t3Esxn6Vz9hxiiTKrVszH73AxORbDJWTp687gD4SwcWPqiWkXbX0LGAaF+DiyKCG7nOjlMiWm+QhpXcchK8gOFa2iUcoXwAJJAEsUEQEb7b8TAN0U8YTClCaHSeWm8EfaMS0Ttz9AMp6gqqqKQ9s/YDIp8PSbffzovjuJT45wxRee5YOXv4hiaWSySTL5Mi6fn4DHZnQiTqpYpKUqguJ2ksnmMS0/5WIFOQTGcIUPDu6mrb2alFSkmM9jOCTaWxtw6iZlLEynyHgxgWJI2LYDY3yCjBCg3qtiCTo+v5eAK0w6MYZlGZw6fYr+8RGEaARFCeBUVGTVQa6QI9JaTWbcxK1EkaUyJTNJJFqDJWoU9ByuopeuoRjp0hRVIQ9eSSVp5UGUyZTz2LqNXbGQRWipq6YnHuMPf9pLOBxlyfxmFJdOyQCjxuC88y5g34Hj+P1+LN2gpMp4fT4SiQS66AJbwDRtREVGMgwMY5q+/PG2g3hcXmQJgkE/eUPD4ZRIpSc5fuI0v5p8iq/c/ClUr4dELMXsFRdy2+fPQTcEHFYJw7RxSy5+8Nhb3Hv3NWT1CpYt4HB5mNPWwL5DpzlzfQeS6iSZyvDpaxZhWDqqmae5pobjPduwG8LYigdVcTGemUBU/BhGBVGVGLNErvrmffg8XgRDY7JSolg1l89feyOqy0tMM+icPYO2b/8UyeNHlAVEVSWXNXjpjS1cc8MNiILC0b5+NDVALltmKltk9Yo2ALr7umiQPRhFi2QliSTJ6KUSliRhmTqlXBpFNzG8bp588Pd41S9wxvrzMHQDZAfhQJBf/fC7DI0nGB7WmDvXxzT/WSKVK4Khc7R/mOd+8yA1IS+FVD/FYjPL181FtC0MUwdR4uc/vYtsLsa6Re0INkiixcRYL2++8FWK2RSqK4CqeJBVhU3vvc26dRcwDdQEl1li+5FDrF69nuXrPs9lwyoDfVnqZzQya+m5pF/5Cbv37aahrLFr5x4yeQVFsSmVSgR9On958nbmr7iImR3nMmP+Wgb6upEldZpeFYwiOVQqhQxmpYIlitN2c8ua7iQNCyQbybaxbZ1CufhfCYAoKwqGJRLLFInUdnB4+ztcd+3XaJ9ZTSgSwuXy0DVs0zF7NanRYc44ex1F28G9955DqqAgO3zcfMNlhOqrKJYLjE8lODU0wYzaKCXTIh5PUtEEysUSXp8bo6QR8KjU1oYpazn27I1hBm1qw0EKVh5kFaNcIlfJo7hFBJ9E99QAJb/MlJXkVHmEigSSalHK5HCIbqq9fqLeMM0zGvA7TCrFYRrbHaQLGtU1dZQrGhOZcSquLKmETs+BIrYk4xTdOF0+FL9KR2s99dEQtizj9XqxVBcO1YOiW/iCIdxuPw7JgyQJXHLOUs49fymJXIaPPtmHx+egOdyI0+/B7fYgiuK/A0EkWlpayBTzDA0OUChmMU0TwzCQZRnTtFH+Hcfldzqp6AVkNM47+xw0Q2dWZz0zZ86mrtair2cc1ekBy6J3cJQVC9twyRYVAwRRYXxilOFkFlVxsmPHAd56bS+KLFOu6Bw40o1mO8gXCnR3neLaaz5FerxIOOTjU5edy7FDJ8gUNARBAFXBsiUMQ0R2eXC5vLz09l6+95M/U3HWUXJUE6+YjO86yM0334zX5cfl85LVRe776WPIiot8ZhJLsxFwcPbqTs4/ay2y00WpmOM3v9rBxn/9gp07n2PN+jM4NTwGTh819a1MJPOM9fUwNT5BIZMhk0piajoep49yoYiiCNz3w63YpS4e/+mLBJ0WwZBCOKji9hjMbq/ivLOWctHFc1mwaBZurxvDtsjmy4xn0hS732N2XTV93aN0zpuBs6JxpLeP7/32Fb55/8NUyinWrFqHmc9Q19iGUZ7u2JoaZvLHtwdwKn4coklFL5PP5znj7AsRhOmriOJUqDgcXHLRFeRTk/zgmzcz1DdMNmdz9OhpiqNHKes2tW1zqGpoYMmqhbS3OrCwMa0Su7c/w5w5Z2LZMhuefZTHfnIVvQde5OSJjXi8TnyRZiSnTMDnIRoMIPw7zKZcLqMZOr7OubRdcBltF1zGnItvYOG5n/7vOoC+rpM0ts3kwKCLx370Cl17PyAiagjxk5yYKqO6wzzz4hv4GpbRd/oQd9xxF3YqRvJkPy9s2861V53JW70SPrWCISoEQ25UxcPBrkEK+TJnrJhDTUOIE0cmmCpqDOhl1nXM4oPDR5jKCyBKjI/lUNtMbNukbEyz9UQEigUDOeCkOVyNnqjgVQUkW2BKmsRVqCZYtLAMBUOrMJbLQLPC7sNHqW9soKAXMIQiBg4iVV5cSgMly+TEx31E6kKMD4wTnlk/DS61dLwuibyt45QUYuMxZFUklUvhcDkolyuolkw+n0N2iowNTfLaho9YsXI1tXUu4pMlnEIRt0dhaGiIlpaW6btjRWNmezsDx3fT3FhLQXAiiiKyLKOXp7kEfr8fsdJKyaziwP6tfPdbXyZbKnDpVasI+GWG39vNV76+mHdeL+BwS5Q1G5fLw6FjXciSi87OFp5+aQdet5tcLk9vLEvLuMI1V1/PRzt/hyhJ2IqT9iUBDLtCXX2EPz73LsNjGVS3B9MdRgnUkegeJKeVpj0fiowkytx130/45d1f452PDiPqFrfd/lOC3gB9A6f4x59/xDnn38Eff/sNWmWZkMvBz374XQxTJ+AJY5omqXwFQ7A5fmgXs10hagI+Vixvwa0aTBZ1Tg8M86XP1aHns+Syk1QKsHT+TLq2vcgrf3iR2+78OpWsxXg6zerrbmR814e4PC56R2dTKdusOudGPnr/ddJGHtPWcfqiiLaI1+XHMmyMio7TLuIMymx+ZivPPLOJC5d7uWB9E6+/s5VVSzqJuhTanQVu+fm9WJUKk7E48+ctxBZEilqZLz+4C4/Uy323f4kKBnf89hguu4xpZHnqO1diCAKSKGGaJgKQTI3j9Tg5nSyQzGbweEPU+ev401/eQ1E9OOoKnDvDQaloMqNjNlOGzpaX7+PZv/+VOEv45MApYskjbH7yhxS1HLJeZtOr9zMeS3LTl5+kgkkpl8HhcNDU4sbWJExbwOcrIeVOo+s6umHh8gb+OwG48Z63GD3wIRtf/DG/+Rx4br8Cv3dacd1uLzv3j3L/9+9gx9EpIqtquGx5lKlULxdfuIiX3iogK278zgRL584il54gUNvMQ0++TVtdDe1t1XjcQU4cHWIqkaW1qR6laPPEa9txBixCYS+dQSdGTkZIOXCG3GTKBRRBJJuvkC3pNFYi6HYR1fBg+yxSiSQtM2uRKwpewUs8UUAJG0gW2FRwhlSEioPYSIIly+ehWTp9PQOkYyUyUw4KpSK1aoCI5CefL2IKOqZucWpoglzMxFEfxLZtDIeIaQsIhkk8mabOH8XQwXJZPP38B3zv3m/QffQwo6NTnHXOUk6eOMGMxkb27dtL56zZ1NTX8ccnf8+F51/NwPHdqLKCxvRgRpIEDMPCtCogiew6dJSa2ga6Byc5eXI/pmEw2JtEsBSmxsq8+uwBdh9XuGBtAQPY+PbHrJtfw8qOKoYyaWoiIiP9JUytRNkymDf/PDKZUS6/ZjYv/3MHCxdVcd937+Oh+74HloCeH+bcT9/K5s3vk4wnWLusgYAnijPoI+QNo5sWkijjdankpCDLF9dy121XUs5nsC0Br0MlX86y+ZV7kYQKFgKiJIItoEoqK9edzy/nn8GvHv0rN1+6mDVrV1JQFbRyhsMfvMNk7JvU1tSTiicwLR1ZcZJN5li8cj3CO71cd9latFycF576CQXJx+uvv8k/N+4jMd6PrTXi9XkYTh7i+d/+ht59G5i97GIqho1uVJBkBaNSQZIkCrkslqsev5Dntjuu5Znn3yCh+eisipKY0nC7q7jh8nnsO96PJIiIkgKAIosgiVjeGp79wWVc/7nbqI9aqIpKpX8fhaKJp3kGRdOBQyzz7wECFhKyoFCwDd56+S2GhgdYvnw9n+zYi8vtA6vE9p0DLFocYeeO3aw/fzWjPcdImQbbety4wuM4RJN3nrx3WlAEEQTwB2s4fqKf39yzGnfVLFTVQqrkMAUvbx1L0jdi8K3PL6W9pgqvR+bYocM8/d7UfycAL97dhm59Aa80gB2I4Pd4+eijLSS0IEGlRNFTz7Mv7OE7d1yCYZWZMJzUVLsoZNJ89qq1uEMNRGvrCCgC6VwSj2rz0//9NLF4jmMHTjKWzjA8nqWmNkwmX6LTOZMzPtXOxh27mBVuJmVXmNIm0awSlUSJtnCUUkVHEg3SuSyaKrOkrQZHXiVTKlByekhnc8yobyA3lMPlBkFVcYgKoqYS9FVTKVSIRL1krSRWyiY9VWL23Hb2H9jDsnnL6e09RXMghI2C6pCIZ7MkcgKzl8xHz2TRvAI5qQSyhF4yMG0DbAVT15EFAaNc5qHfPM8Tv/wy8fEY247spr2+DdO02bt7Dx53N4ZtITucVEVDSJbI+PAI0VmzkBxuQKRYriBLEoKt4fYoPPn8a3xq/UxCkTB/fukAN1y9imef3044EMERkbnrC3OY0+Zj/+kUDY1NtDW38MKrG7niuk+zfVc3F188n9de38E1l8wnHPHjEGDDP/fy9buWE6gRMe1dFAsVaqqjfO1rtzE1adAl21imzuRUnLPXLSCQN3njnS00LVxNR3OEiy77LN+79wm+dedV7NjeQzavMTEVZ2xsjM99ag31zV58TomcZlDWdVRVRStr7P7kLTb9z8P89unH2fzHp/n4wAluvX0eyckYc2Y4kWQ3lUqFXBJEEURRRDANbExcikxDlZer7/gRfr+fQ3s+IljTwo7XH8E272TZmqtQ5SDvPv9T7vrmb6lpruG7D8zklpt+STiocNn6EL/fMMjCGTKXLO9kxaVXE5qzgFMD3ZR1iYHhPFes93P7bZew82iMV/ft5cff/h62aWAYJoZexu31IdoyDQGBQlFn46t/JpkrIpsyD/7vBaiSi1KpxPDpk8ya0YplWuhaCdsycLqciJpBMZfi0nNXYJpF1ncEUOoXcmznhyxeOROX6mPpombqPE6a57TQ23OKx++7HkFRmHvGD5BtCUEScDpcaJpGRRaYu2wOTrMTU4mgWxbxngGiTX72vf4BguXikWf38IfvX01Rs0ibXmL5kf9OAHK2iZ7OcLinG6/Hjya6GI8XMEUDImECAfjZDz9PlZoBwYtuQy4dw+V3c8Xnf8XD91/P0JhGbQCmyg427TboaA1yvKeLOS21NNZ4mdNWN52COzqJLYLbXYdtSmzpOsWSupmcU7+AHb1HEdwOSpaGpMjYwIxIkKFsip7xMk6nB9EWSRYKRJMeTufHcDstgr460noRxcijjZTwCwqpsobkcFAay6BbMg311QwcStDimMd4/wRVVdWMTk5gWyEs0cDncFDl9jFytJfqqAMLB+lcGkkw8Sou1JCfVCqBKMjoFbj86qt48c3XeOOdd3A6nQz1p1kw2006M0mxqKMqXkRFRBZgqH+ISqWCLhjE40XK5cr0j5dlRCxEUWSgv5+w28XoeJ58PksuW+Gf//gEw5TweFWmxoqcMga54MwLkMQMo7E8f9rwCYpLIpUss2hBC0eOJXjwF7ex6b032Lx5D1dcdgkOp5Of//h9quoi5GNT3Hp5EMMsk4yneOG1IbSii9q6mQyMTtLdd4wBwUldw1yK2zYjygpBr4df3H8bPo8XR5sPUZoO3Mjn81T0HFa9LdoAACAASURBVIgSeUNEU73YpknJsMDh4Iprv8T90Wq+euf3eX/jE9iYvP7qh7idHr7/s4enI6wQkURwOkQ0zUTXp/cnvD433oCGUJggU47hdom89+ytGEYF2R3kxVce4/+++RiP/3kDX/7KFUiqxQ+/8wA3XH8eDQ1hfKrFXeEOVs1dwOE9e/jtr59i7/EEy9dEueKG83j/X++SyBWpj0ZpqU4ylPbR0TGTj3fvw8RBejKNXlYYnTzBd77+RWRRQbdMjh4+QktTiHe3nMDvljEFmVNxmPjHMTRRxbQthEqRUi7DX39xE1s+fJqv3nkPimoTjDSwc/tbWGqIdzcfYN6CVk4Px9i2t5fll92CrhURRREMi6EDD/P6a29RU1PHrFkzsW0BjxrmrfdPsevIQSbTHhwuB/HBfQRrqtDHxnjql99nMpkglswQDXixign01PB/JwB7tx5lMlfGF/TSO5Qk6qsiqQu0ts5AsguQlWmd46Kn+xSFIoxN5hiemiIaquKeb3+eZFFAdjvoz5fQCmmK5RjZZAPVQSdeFUQLylqOxsYwpwe7WDx3PuFwLUtblmIJQQYGuqhb0Io8PIRH8VPKpKkIZRKlMhWtRGNNANnpZHAojjcUQXLKeBU/vVPDLG1vIlFMk8nkiNY20iZKGGWbGt90anDQ66NYLGJqAu3NkIknWdzRjiXZJEQ3pmnid7oIOgIUUxW+ePudvPfOy0ilIuFwEDOXh1IFSxco6To+VSGR8+CLmlxyxUrGRsaJ9aZYtGABU+kMweoI2CaXXX4Bb2/czOduuZHjBz4knYnT1FCL4PFg21ls20aSBcplHUGAaDRM4tAUia4Efr9NOOKjudEg4swTqAnQMWM9Tz21iclknHRBwx2KsH7tMkSKuN1Ozlw1n71dp9m5ZTczGhtoiIRJZ4ZBs6mqd/PTX17Ld75WQJAFJEsi4PewecO30MslLEXh9IljNNRXYdsCosuLzxvgg3ff5uIrzuKbP3mBGn+Ou+/6ApJkUMqVSKaShIJeXKrAZ+/6C5bqwLZEJNGBbkvUhJp4+GgXHk+IK6/+Kp+55gJkxUHFMvF5ogiAajnw+E0quoiMQOeiBRzv7mUyHuehdw/w9BPfx7Yq6Cg88svfcOW1l5FMlLj6ynN4+Zm7OXzwIDmtgihKXH7FhQwNTpHRxtjc08eCWUt57h//ZMnKJUwVClzzlZvY++EGTg0fQVJEhhMaR45/woyWduxiiX/87Xm27zrJ4Og4i+fWccfXb+TCc66chnRYFqIosGr1Okwtxm03X4loCmiahuJQpzdNlen8R8lmeqZUzHBo9w6WLl9HOTPOxi29pLQglXQMp8tLXU01XpdE55xabv/sRZRTE5TLeZDc6EmN888/H0ywRRsQMbQMLaE8HefMYubctSAYPP7ISb753Zv4w5PP87OHHuLeb99JwCNgmiaaaWKVB/8rAZBmzZnzgCj7GJmAGz57LVV1UbKVAk5fLYmChSPgZev+01TUOhasPYecrVLf1kGooY4yTsINrfii9VTVtVDXNpv5y1ZQ1zYbyeOjur2TTTsPUNUwm0Ndo4xOljk9kiRa5aWlLsSKpXNorfdwpHuQqnAb8f5JOtuaScUnsRxQsSXKGjTVVeGRBeR8kuaAl4rkYmYkwGjOms6Zt20wdRSHCwuIhKso2zaCKJHLFykUSni8fnzeIGPpSTAF5KCCphWZ1dbBxFSK+a3N/P2lrbirZcbTCUqShYKEW1Ep5G2CwSCCZfL0GwcZGp4gnaxw7GQMj7OE2xkiY5wi6gyTzAsMDQ0iiDIH9u+homVYsmAmtq6jCy6mkjoINro5bQTqaKshnoiTtgvYGMyeVcNgbxf5YppgIMklly7kuecP4MmLdKxZQipTIN57kCvPbOLkwUP46+vxeB2k8z1ohQH0UoqREY36mka6B7YyGVMZHh2i1D/GGeetBywcksjMma1Yqh/LlqlrbsMfrcMTqkVSvMiyRFvnUiqGyUXnzGLFyhXcd/e3+dRV12KUY5zq6aKjtZGRiTjXXb6S686fzzXnL+ays5u46rzZXH7xMu742vWMDR1l3bo1XH/t+Rw52ospq9TVOWmItDI2lee5p//CLZ+7DlOycdg2Lp+HbYdG+PQVSxmdrDCY1ECS6eyYz9pVc1m2eAE3fuEWzr/sOu78xjdYs2wpLq+PzZvfoybswAKGs2Us22LR8vl8+NFuNn2ym9WzOslmehkZOI1bdNJUE2AkbtHdP8zMGY2cvWo9+w8dQxEtlnfOo6a5DknUqYrWIUgSIIBtkSkaqKoL2QKcKoIggeRAtlUkFEzBxrRBMHQef+Ip/r5hN65sjO6xDE5fCL1SxqE4OfPcxfQc60G3BAoTA6xYvZ6q2nbueeRF3n1/O6sXt+N1yhi2jW0LgE1dVQ219RFkYwIMA9shcfcPn+O737+HM5Yt4BePPE5XTOPsVfMYGhrnC5+5mt//9on/vAw0b/78B1JagAMn+jjWPcmKM9aRSmpMJtI0NzZRVVtHVXUNxXKZUqHIk089zblnr8cyBEQE3C4XToeKqsh43CpOVUUUJGwBFNXBwoXLqNjgrm6kqqmFR//4MVdefzMnx5LEiibJoolhasxuDrNw4QwOH+gmHJ5JgyvERfPnE88lKRTLeFSJ9sY2BFGlZENFL9HmdyGVCpiGA5/LgarouIMOekb78LpcGJbOZGEKOSQSLyTIVXJURSNkijpRlxe3W+X0wACzZ7QzOjxBTjSpuGyK2NiihEOS8coeSuUyimnjViSOdJUwTIvOzsUcP3WSua2N5PMakixRGwygWW5E2U06kyIariLgsfDJAppWAoebWKKCaRoIgoJe0WmqdXKgez/5bAZLkFiwuBXZgokJNxOJIB9/MsKClU28+c6bHD9+EkSV4Ficqvowr+/IsWpFG1pZpLrGwtCLVDSZeXPmEPCHKdkCU/kJ6mtmMpwd5JIzz0KSQbJt2jvaEWTHdOvJtDehXNbYc7CL+tpailqFqXSSoL+KSqnEpdffwUNP/4333j3I1mNj3HLVmRi2SEWzyBVLyE4HlgWyrKCqTmzJxbe/+n8sWLmWwcE+JMmJZZo0NoR44IGHufyaa3h/0xtcee0liIJI2TLJlUS2Hj7Fhy/9gfMvvBC/PYU7UMfoZAqxNMbw+CAHj/TwyLPPYaQU3A6ZzbuOYbsqLF3UyRvv7adigSZl2b93EPQCN336Sj7Z9Qlf/dKtNNTXYuQk6uuriYRUxsditLX7eOhXz1HQncxub2DvkcOsWL8ef7CNcHUY2eHl3p89yoZ3NvPoY2/SM15mw84e3tt2ks1b9/HOlq0c6xpg6/4TfLj/CJu272f7/j5mz1vLpvfeoaEmSroik85nyesG/qCTLR/v5tLLLiVgjtI1kuHv//g7S+fWsnLRDM5dOQ/L1tm8e5iHnnwdWdAwCBL224i2xr2PP09A1BkaGGdmcw2nT52kf7CfVDrP3AWL6Wjy0tLSjsvl4NGHf/Wfl4GaZq60r73qRrbs+gS3pOIPuLj2qjMoFTXCkSDFYhGPx0UqlaG2tpZCoYDL5cC2bdacfTbbP96KVipw1jkX8KffPsiO3gOsm7ucRfOWo6pO/vc7d/P8sy8xMDVKqahTTmS56ppL6e4+STyVxTR1yuUyvT2n8AcDOOwiDqtAU30DR3YdwhX0EPGr5AqTVAXDuIQgGWOS1/fuIRzwEnG70DwKquIlFAlzaF83dgVaa6spaSamNv1eKltgyy5M08LQK9Q0RqnYOXwOD4JtUUymsAJVJMniMhRSokajJ4KWKxEv6Xgtg6jXyy+ePAQOJ7IiIMkCTfUOHLpNZ2cVizrbOTZo4vJMc9kUySbszVMddFIbclEwvHxyNA6WwP99/wf86AffxaqYFK1hBEGjoa6ak7sHkFWTihQlWajgdCnoRSeJ9DjfvPPzWJKDB372Bza9+RKZ3GlOHjtFsVjmb698wPKlXpylHHVt8/B6/Tz21Ea+9PWFDPcPMDcYQg524nIq5DNZPvPZa7GEaQEwLPPfU2cBo6BhoCOYGrLHj6Q4sE0dpyIiKTouRUZUnei6RCZbRkRANgzSeYVTE72UEnFWr16N26tRHZzPAz//HpFAiKlEkWIpy2duvBm9XGLWwiVcc/WV/PO5xwGolHVOjab558bTvPKXx1l6xkq6Dm3jd0/9gcmBQVZ2CpzsHeRXf91AvM9HTdDCdIXoGR6kba5JS1WErqN5Zs53UizojA6V6KgOcP66Zei6zppz1/PYw08ys2kGJdMA1UV6Ik1TewPbtxzk1GQZVXGjyDYThpN7b7+I625Yi19W+Mo37+e2r/yIz3/uTmQFimUDrWIgyDKSbaKVkyxaMINYLk8mkaZYKtNY1cjVFy6lpa6Gt9/bxqRu4nb5KFWmMHQJIRvn7u/dyprlC3n8ied5+/1t1NfOIjkxyaQpsHbVYv7wxP2M9o/z6FMvc9OV65jfHqKv4MFKD/PHp/6BQ/VSsC28kkqmlKJYVhiaqqC4wLTgyPsv/OdloDWr1iFIEBuNo5s2HbNaCYeD5OQShUKBztmzmJqaIhKKYhk6VdEApmnR1dXF7LGZVMpFgkE/T/7uV0zGMnz9hnt4bsPz7D3wMuGQgzvv+jaTsX6eevjPdA1rRJsb8NYvI5McRqWCz+dDwMH69evJ5PL09I7hkCIcHMwyWba4ae1iislxilaUd7bHcasaXtnJg//zDTbvfJ+9vYN4bQWvz2R4aABbKmHJAmO5FJViAZ/bR66gEQkGMO0ckujApaoAqLIL2RTR5AqesIuu2ARKNECxXEIKeBEtk4jPQ0FLEPA7caouLHJUdBlRN6ip8yE5ZcQqDc0W8Lh9iHKe2OQwTY3tTMYGaahrpLEuzHj/SQpqHSAiWDZmZRxZVCm73Jw8eIDO9kbefPkQc2bV43OK9E9Z1LY1EB8dJpNO4nVV4XI4iSUyfOaMlWz+22P8aVM33/3qlaiSiqEL7PxwgJ/edR4DJQfhSBWlwgjvbypwcJvGPbe3EYqqiIKMLxTBEiUs20YWRYyKNm2ptWzCtUF+cP/93P+9eyhpOun4FMVygVN9g4yPDBAJ13DWqrl4IlE8ziCaYSJRZuDjt+i86By8s9qYKEyRiad45dXfsHNHF7M6WhgZSyBLKtd9+VEEs8yBbX9jdscMBKuEiQMkkVgsBoBRLnP2qnlcdnYHTb4Cw8UkDXUr2b7nIKYuUh2AJcvm8N6u49gmDBx24F1QRPV5SKY1HC4bh9NNRjcYG+3H71T5y9/+Qn1jM7lSkkC0noiqcmDHNj7ad4z1Kzo4OpRi9ZpmNm3eQyjQwC1fvAaznCdbzjOVc3P33bdR2+BnYCCN06VgGQaRkMiszhA7t08X/srODiZDZaKRIp1z5rNzx37GhqL09O1nSvNw1plLcRSqKOkaRi7N2y++xPFDJzDkEG///RFe/MffGE0v4OV3drFn61FmtX+KuQtq+flPvofi8VKUgkyOHWf90jn84hf3MzYeR5IqGKYbRSljWQ5EJ1DWERWVJQtf+E/1j7R8zdkPBAJeDFugXMwwOpni05eswe1ysGXLh3j9XhRForf3ON1dXVRHgjjdLpwOD9+4+x4OHj6IKom8/Nrr+GpCfHLiTXyKlzVLllCUDbYc/JiPd+0g4JpD84xZpDWbY8cOURcN4VYtItFqsHRqa2tJp5JUVfmx0aiqbcAXquafb24h2r6AnVs+4ctf+gxHjpzipTfep1DQUa0yRdvCsEWcBZVyGVqbGlEw0PQsTe1tZIo5BNEmGI7gkD3IqkhFr5DNpSnkC+TMLH5/iBm1QU4NxDAcMnXeALFijrAIUX8Q2QmiVKGU1dh3bJx1Z65kcGCMcj7H9ZdfwFRpkPpoiNbaWkbjOv6AB5DwuFWKmRjhoJfMZBpvtJnRqTyyKHFg7zEkQeTAvqP0nZ6gul5j6dxVZHNThEIOhJCf+HA3e3Ye54zzFrPrw1NcfNkqyhWbWD7P0guuY+asDpxinkQiQyad4ku3rKASHyYnBBEdLibiIicPTBGMhNixt4eLL1uJyyHjkDW6e3poaAowmvPws9+9yXkrmhAx0MsmZ569DlFwUarkGO7ZhYpJpZIl6BRxqzp9p/tpaJ6L+e/3b92wqWpvQ5BUNu06yrMbDnHWmg7279tP08x5tLQ0c6pnCFV1cLBrjMnRMf73K5/jhz+6n0CwnVTa4nDXMH/718cEQlF6erqxDIND+w5z/tmLKJZFFnU2MzFR4rm/72RWSwOffLKPUE07yXgKRZWYMTtI73AOCTe+oI5t+zh8NE53X56FSxuorw9y4aVXsWzJQuxyhqJLJhqtweeNsnl7D4XCII0NrchqmaWL5/PKy89x4cUX43LIvPb6m9Q1hEkkC7Q2t+Jylbjowvl4PDYef5DR4QLXXLKUmpCX6toIw4MxikWBhvo6VI/Iz356Lz3DR6kUy9Q2ViMAifERYuOT5DQvR48Mk8iWOevCM9i3p4fqmhZGBofwuWSWtgusmeFFGzlCMnYaZ7COwfES7/7lT7zw7GuM9O8kOXSEI3tPMNK9k6yzlcF4mkwB/vXC8/95BpAvRx/Yf2CYFUs7ONV1imjAz6WXrOafr26kkJxg98m9bD2+nS1799MwtxarHv7w68fJuzJcevH5tM1sZe++vdTMjqDLeSzNieV2kJ/K4g44GUsNM7dtDhu3HmFsbIjWaj9rFjRxZN9BzjxnKc/89W80NTVSKBQQBIHFixZh2TbFQgFVlVi0aBmaZrB8/QUcOdmNxwmr5kfpnL+c2a3NjE5V+GDiOFP9I7RGmxkdGcYt+fAFI8SLcZLpJC0z6imbGRK5GA6Xm4g/SL5UIRj0ElTdaCUdVBmXw4Epyzgl0IQyTf4ImUyavJEHQ6e3q8zRfp1kop+z1q8nWygQjSrgKiPKTpSKQabiREDG7XZjmSZRr0xdNIyu62g4yKTLmLZFxTTBtrn1xtWkktuIJ6IUSiIdjfVgmejZEp0LzqCnN03I5aehcxYLZjeAINM6ZyEDRz/m2adfYc2aBRRsgSZ3nLNWBRgfGKfkqCXq9/LCxi7scoZ8vsxFF5zF4iUtaFoRSShz3VVXYAki9/z4VSTFw8IZfuo65uD1+fB43KheGbviZ2LiFHqhhCkoFCsVuo+fwDRFqutb8PmcCKKCbVeQVRevvLGJlo6V9MUmOX/9ara+/za5rIbDoRKPZ0ArsGf/aQRL4MBwmalYgvd39LJrz3FU0cAQvQiSwv/euhZfoINtW/ZwvHuczs56Guqr2fLxNg4eHMbrDzJz9kyOHDnO/IWLmIiN41A9TI5kyWQ0BvoThKMR0vEiroAD0WPQOzHAgpkL+eUjD9PXH2Owt4e6qjDbdg8jO50sWdKBYZeRJRGtlOTWm2/ivgcf5fwLL+Gff/4L5dIEqieCbSVIJLLU11ZhWA62f9zFOed0MDAYY82K+Rw5coj6pho2fnSMmc1NVLQMY0NjvPvJXhYvbiOTiZFIZ4knVG6/+VIOnhwlPpXHRsYvS3y0/RAnesaorQ3jdgmEA1W0N3s4dqyb+TPbmLd4EU4n9J84TE3bPGKZJKl0GgmFiiXzmRs+w8p5rTQ01/KrXz76nwWgsTbwwOw5rXyy/UPam2YQiAT5eNNbhAMSZQHC1RFEFDo75hEfnmKkt5/aqmbkgsFAfz/FeIVDhw/T2FiLOZTi0N69fOPWr2NpJl7bBabI2Ggfk8NpMiUBPTmM1yFg6iWOd+9iaCLG2WtWEIpWYdsWIyPDWJaJJMHjf/g7ixctw+mSKBbzCEhYioNkRWV4qJfYWAzJ1rljxVqq53UyVAA5YGKUDdLpEqIm4Hc5qPd78AVV0vkiyVSC2bM76enrJlAdoJIuMJxOkBwdxeH0IATcUC7h93vw2wqST0CRBBRR4bkXDiM6qjDNDG3NEVYsb+GZZ9+l3uch3OCm1u1nMiujyDK6oSFLMjPnNKLlEpjFIqInyGSijCiJiLJAqazRWi+wdqmT3z0zRDyd5VDvFO2dNew+PsmWj/djSxqXX7Car379LsaH+xEkm1de/YiFdRXmzVyK7XcgIHL8jX2ktxr0lE4Rrp2Fw+ei+0gfpfI0bn1odJy1K1v411vDONwh4qNHOXLgBO9sPEQpFef9N/5FxJ3h6P5tdB3Zx9ZNG9m57R2e2dDPS6/1cf65c9C0CppRIVpdi5SfZDI+RSIxQWqkm698+zmOHD/F2ATseGcjsZ5jIBR55a1+brz+XE71DhINBilKEm+99gSrO0Nc+5lLmVEjEQ3pzGyqwhJsDMuDaBd5c9MGnvvdd1l/9koyU1OEQ/DHp98kFi8zHpukbyiGaZmIskQyVSCVLmCbGksWz2JyskgxU6SY1/HWKPSd1KmtkVm+YDZ9fT14AhJIMma5yGisxMTEBGOxEqMjWeIxnZHRSfp6himn4pzu2Y/L6+c7//dNTvadorsnTanooVSySKXGOOP8dvpOTBH1GwRdNsgRiiWRU/1xTMti9cIWuk+fZt68ZcR7B+g5PUah0MhZ6+fT29/F0EiCckUmk9cZmkxjWQK5fB5JVRDkALd+fj355CS2IPPQI4+y++Ak4+ODfPjRVk6PxDh2/ATHurvpaG3E9nt45bl/8Mxf/04mZfDhh5v+swBcce0tD5w+PYWkpYmGIrgdOSL+BsI1HibjMQLuELKiMjUxRio+zry2TjweJ5OxKSJuP8GAQktLG2Gnl/YZNZy5diWHT3ZzemoMWRKIJWLU19VTTHuYN6MOt0tkamychZ2tiP4ItT4fveMDbNu/g2S6zLHDxzj77DMYHB3h2NGNpHIyL766hWVLqlBVD5Kisn3rNn7x6KMc7Oll1ryVJAydvqMniLiCtDpE/j/Gzvs9rrPM3/eZc6ZXTVXvkmVZcpN7j1vixOkVAmEpgS91l4WlZBcIsISSUJYSWkiAJARCupPYKa5yt+WiXqxeRhppNL2dmXPO9wfv79k/4v1c1/t5nue+Z/JpWitLESxmsmkFe95PHg2L3oasZYnrc0QzaXKGHEZBxVAssKtlI73BEKJOxSJKiCYdoqxjvjCD0ShSWVRDc1UNp65eI5PI8OCD9zEfmmH7pjVMjc1i0qzYbSJp2YaiKJhMZjQti9Ohx6iBXldAs7qJRHPk5BwIAiICS+qqOXRqlq6BCXJ5DVWRGegfxG0uIZlOs2lzA55SG1u33sDESC+youdoexcPfvQL/OLXT9LSsoThyRBHr57lXDyOoGm0LF+OQS+xdMP9vPvmK+j0ObIynDp+mXBKpr9vmtbWSowmO8dODLJqeQ0z8ykOHjzBlo1rmJ3PYrQWYbS4OXt5Er1eo62pir+/foHea/M0NpYQX4jQ29+LSTJjsVvpu5YmK2cZmZxgxfq1WK0B5kbO0X9tCKvViCjq8fuLaayvo7WpDIfDilHUsaShmnVtq2hb24JBy9AzlubssaMsbahi64blfOlr36ClZRVrVy3jt384QDqRQdQbkPMCxSV+lq8qY2x0GqWg4DSb2LAqQP9gmHQyx3e/9kliwRgTczF0zjae/+s7DF7LMjhRYHAsS+9ojrScRxIksHuQBIF0wYhZMvP9H3yBdw+/yXDQTW15ES6ng2ee6yAWy4EOZkPztCyt5Wz7NW674y4OHu9ix8YWDp8aZjwkIBkcxFN5iov1rFzewqHDZ/n2o19n/drlHGkfJi3rCMdEyspryBtsWO0eUqpCPJ4ir8m0ti5nYTHI/PQYd+xewzd+8gKP/uSX6CwO/vb8P7hz7wbGgjnyOQmTwY/ZYMHtcBONBhlM1RJJBBnp6/zgANi3e+ejRdYINdUlWPQKanyBqho3OVVldGQAk1GkrL6ORHKOEk8FAZ+LudlJ4tFF7E4nYxPTKGqB4ZExFNFALJohpShMDIyQSGZYt2U9C+lpUosKzTUVVJaXsnpVPbGMzInTfRhLBJw2FbPZg8GcRpP1dPeMMjUxwdBYiOKqCs6fHeCdY/2cvfQK5zuu8LFPfpy+3lEko4Sqgmiy4fKV4PH7adu4nq72PordLuKLKTK5LFa7xJAuhF7WMFktLGRSjEzNsLOpiiKnDymVIZvRMR1OUlfmx+K0oNeBTqdHdCq4TQ7G+6dBlgnGVT7xyQdpP3ae4GwInWpk2dIKuq/1s3pZPYmMCUWnIQo6jHo9VZU+1HyeyOIksmYhElPQ6SQQRPJylovdYxw80k8mnb9uNdZUmmqXcG10DIdPpbjYS31ZgC9/9btsXN9GQRFYXg6nDvyBf3toM5NZB6+9doFQIktNQytjoyE2bWrG5bTzt7+/xvjUFM0rDOy/fRU2YxkD18YoaBqLkTQrmsp5u72LoakrfPjTWxnsVtm4vpa0rGCzO+kZnqC3L04sleFq/xQIEuPTCTrOXeK+jz9I39VeFEEktBClp3uWtGZEQ2PyWh+XL/cSigr86U/fYmw0iF4y01xbDSYb5WUeFBU0FPjfOXculyGRjHGpN0LHhSPk0yIBv4+ZYIz77r4R5DTP/vM0uXQOvUGPgkoyFaOktIxkKoKm6lElEz29IRBEtm5awesHTjO9EMPhryabTFNIRVEFFaWgYRKtoGoUlAJyXsWhF3CaVBweP7IgcOj9LmRc1LoN7Ny6hveP9TA0OUNpwEIkFsfn8rK8oZJI2oiciVNdXUs8WWBkcpKkPIHFXOCOe1Zxob2bbbvXsm7VZsYn+zBZXLSf7CSbS6NoGk/88PMcePMoiqqQTibR5CBWp8rIcARRsvL8776KmoozMDxJ3bJWXnnrFL4iH8/+8xhoeuRUDoNFz8jwNTSdnrMdA6hKFiWjEAr+H6CgH3/orkcr/R6yaSPLmjyUeK1UlFdweXCANeu2opl1mBU9Sk4ilV1koL+LjCrh9ZYRS6dJZtKgCDhcNVybHAQEvAEPF072smnbCqYXZlEKeTLxvABrCQAAIABJREFUHNs2LcWiFwjPTVFREeBw+zhXry5S0+hEIwOahFqIE43mkBxGXGU+eq/MkUymiEWSeDwr+dBtq/nBEz/jjQNvcd89d6AWZDJpGZ+/BEGSGB2P4PQV4SkupqQogF3TaFu5hKHuIdJqirwEbqMOo0GPoojkZhcpsnnIuX1UlJbgMhqIxcJoooKa1TDqVIw5E2bVgVFfYGwhjMtThMMpsH7NWv70/N/ZvHE1/kAZFlEjIhtQFQWb1YbdZsFsUikPeFFycXIYiSZkcrkCdpuNdE7m728cxeXwI6fnWdVSy1woRiweQUUgl9FIp7JcPj+AragWm1HHXGiB8qpaMuYarP4GnvzLSyRjUGSzMHqtD5dDD5KeZU3lZPISs9EL3P/AZpLRMab7EkyHEhhNRhYjBZqq3Bi8EteGRpgY7CUSNbB101Kmp+Zxuhw47XrOXgwi53PkFAGdZCCVTLK2rZHf/+kIVwanKS5rxO204C/1Eyhu5PLFDjJpyGt5kukU5W4HiVQayewkEoviLS+mtqYcSQc6nYgkiehEDUnScez4+1zsifCVL3yI5jVtTI1O8JlP3sL7Z8LUNFdw9kQX41PjZPNZBFElm02zpLmY6Ykwer0FgRibNq9haiLM7FwYwSiRTGdwWSAWC2MzW8gh4faVIZrMqDoBSZRQgVwmSTqv0VjtYSYUQ1WvdzTNlQ6S4TnO9s8gqioWm4LLZSS7MEM4scjifBBFkXA6TfT3XcPtLLByXRH797eBuMDQxTlKi91cONdJUZGfYp/Ey6+3I+dCyGqCZmeG832jNLdYyCUL3L6pls6hHiqrHSRieY6feYc965YyGpKZCy2yYdNGist9WArj3P/hu3EHnKxc1ozXV4qAiCAZsDgVdm1ZypkzFz84AO6+bcejcxMTmIwKAa8bo9lKLDaP3m9ndnyKIoeVqalpLHYdU+Np5KzMzo3rUZQEydAMFruZmqqlzC8E2bF5MwszYXJKjt133kBJWRUL44sYJTO3bN1IbDFKVXkZkiQwOTVK18AcN+5ex+J0nIqGYvw2P8MTo2zf3MZoTw/+lmpyiSgTI3P4nB5SiTAlfjs+l5uHHtrNj3/9e8Iz49xwww1EolFi0QR6g4TFYScST2PxBsgbjITm4oiZ/HWO+2KUgNVMqc+LtchOmcvDRChMg6eYiiIzE9FZPFYbeQEEFAKBYrSsSDqZYeBaH3NhM2cu9nPq/Binzpzia195mHhogcXoHGtWtzI0GUNTFCS9jrycx+c18eLLb1ARCDAwG6MgC9gddmLROJIgMDARxWSwkUhFaKpyMRNKotdLrFhRhT8gkM9rZFMCp/6wkt+8OEJxRSUGvZ6rV4eQNZkr/TOUlxTjq2mBgkJezfOlT9+LnEny1K+eQi6EGR2eoee8gM2XJzSXRykogIySyiLZhtAyKVauFei5EGbnzjVIJjM2swGjaORwew+SQU8mI5ORM9jtNuZCGbKFPAaTnd6ROTatW0/H1THePnQMWdEQNBmTIFAgx8mOy7S1NPHqgVNYLB7uv2sbXqsOWRPQ6TQ0VaWg5NDUAhfOXSWPmwcf3Mvs+DD/eOkke3euoLNnlO99+wf0DQapqa9C1UR271mJRoSr5/vJ5gzsuqmVNatrOX2im3RqBhkdfqeOHatsuM0S/SPT5BWBsooqYskMgcpaPO5iJnvPsaVtGenILMXFHnr7e8jmdViMAqlUltGpGJ/98lc4euIcy5uraT/bxab1pdQvrWZuJk51mQcTOqRClJGIilXV4zVWUkiOYTcYKateyeLkKEuWlGGw6Hjv0Es4vX6CMzEqa3y8ffAUO3ZV4itLoUoTHD01hNtVTia/yOZNdhKLKnfeczvpUJa/vvEe8zNT2PUiH/rwPfR1DmI0GdEJeXbduJHQ7AD7923h5u2bcdgtvHbg/9ABbNu+/tHahmYSqRCJcJisojEwO0Kxr5SR6Tmi81FKi0uwWa2UV3hoXbaURHqR8dEQq9tWsRiPk4kqPPLFjxOajlFW4UfIqyxvXMpcQqHvSj+Xr17GJClUV1dhkAqcPXcWo6CxbuNW5oMDlBc7sZnM1FVWMjEzyYWrnWzbuIsiwQqJKSq8foxiEpuosmHDem64cQuiIFJfauZcXw/b127DH/BhNhlJZzMIgkA2J5NXBaZnZnH5y7CXlHHmyGmKbD5aSptoKvdj1TR6Joaoriimo2+YNRWVBMdmSSey6CUbPX0T1PpKsBsELEY9NruH4fFpvvboN4gvjrNxxwqe+dN7BLxWij0OqutqmZxOoih5JNN1Fl2J30J5WRkGvUA2aySbE4il4tjsDmQ5h8tmY+DaEEajjYHBfkSLnnS+G5PRSpHFTCDgwVNm4Nzlea70XuZC5yRGwcx7Z8/xzc/9K08/9zrBhQUSU33k8gkQZM6f6eCGbStZUqWnZ0jP7n0B2lY3UVsiMDKmJ5qKoZd03HKrhfmZFOu3V9H+ho4lNaUsWVaNz+1EUTUUFI6fakcyOsjEUugNOlLpNA9/6h4uXOxCp2nk8wWOHTvL5GyIgqKgU6C+YZSpxQKSIvOVrSp5fwudg9N09o1S31hFc3Mj+byMoGkUlCySJCGJEi0rm3j6Ty/grVlCIhXlz/98nYceuBmH28/a5UX09E+STalMjE4zPblAZFGgsrqYrTsaOHfhIBuaDGQKaT60exMWk8bCYpapmRQtzT76xkIIikQyvoimyBjNTvJ5mdYaF2ZtnoVkmht3bsfjFNDy4LLFScUldDqB82dPoQp6ZsevoVOCaJKeS5dG2LFhK0VOM2Ul5TiKrDTX1tM7l2JwtIsTHWHaSkuZmp4jVdCIBhc4f74Lg1Hl5pv2osoLyJoFe2kbC2qO+pIVuO15dm++l4amOg4e7CWZjWMQFBIxPRV1VeSmr7JuzUYmR4dZtqqR9sNnaGhcgssi8tKLL7GmqoxUdI4TJ3sIeJy8+d6xD94E/NF3/1WbnllgfnGe9W0rkURYCMc5ee48GzetZXRyClFTqSr3EM1olBX7sBWZ6b82TnIxy4WrQawGO74SHR6fHqOmI5eXSGdFrEYLlWUW6kqrUXUwNHYNJVvAKBoZjc2wtLySWDSM02ckoZgoyHniyQTZtMTVS6MsrWslPNPFZz9/D5ImMj55jeGeCdKiG09VEX29wwT8zdy+fz25TBadYESv15NOZ4nGUriKbCTiKdCL5FJJCoUCNquR5Mw0hUyCa/19FFdUE9FmCZpgZ1ET3fFFXOgJmMxUB0yMjM0xl0pjyCepraokq0o8d3gEQdLRcXEC5DSfeug2dMY0g2M5jhzu5a6P3Mxzf32dz3zqfpoqRHSSwNTYMIGaetpPdmMyWXA43SQTUeorXTzx2/coqHkQFPbdVoPZBAf+PkZeTvDAh2+j/dxR7rhxB5HgApOyhSsnD9G4spXmohLe6JWJzEyiz83jCFio8huZDib5yXe+yH/8199oXunALCcoq7Wg1/k58E4XqbyAIuf46APL8RtL+fHv3qJlSQmltWbu2LUFu9PJD3/0e2ZDGZas9nLh9AQf/cytPPPUOXSCgEmCdA4QVExGB6lM/PpJby6LwaXnu9/Zw2uvv8Dylo3ctHwzh86P8o/XL5PPi+y6/Tae/M6dFLKLZDPXoZaiqEOnlzh+9CyHjh3GaS8hHo0xPhVmyTI3H7n7NloaKrjxvq+Tz10nHecVA+l8mHRURjTKbNywmke+9O/X7dKSBpoeUa9DyWcBw/+GjICqQkFR0EsSmk5Ao4CkGfnQHXdTWukmGJrh+ReeQ9TAYClBMhjI5hIsW3UXn/joHTz73N+pqvIRmkux78YtGPRgMwukUxrdfTNMBSe5456b2LGhhkRcput8B7/4Swd5UeT7/7abgsnEO28d5vZb7+Dr3/szkqSntSnA5jWN5OQ8oqjjzfcusf4GB0WaFUlfwmI8jt1kwmjU07qsgr6eTjS9mdHxMfbs2E0gELiO6m+qZ25unh//pp1MOk3nyQ/GgouCt/Do3rv38NwzL7J6UxvhtEw8muSW225mdjZCeWUFHT2XUSQ/LkcNJ49fYHQ6zvhIngMHutizYxd9A8NMTKS43JPgwqVZNM1KIpNGZ5Z55/gQl/r7mQ7GWVJeibfEg6pTqCqpRkLB47LRP5DiQtdVatdWEJ/N0bSkCbNJT0fPNWTDIgYpx+x8HIerFlOpnVKXi0xKorTew4sHDvKXPx/hka99ETmr8dqBv1FfV4+Axn//4DF23LCdZDKD03G9nbdYnKQUFclRxKo1Tdx5815y4SyOnES5TaTCZsGQBbNeYTGcx2JW8ZZUUFpSjCQ4WFFfgpyTqKhw0dHdTcvyBhbmZnnp/W4mZ3LIqkZX9zCiwcqlzj6OnR/h3XPDXBmMcry9h4GhMP1Dc5y9eIXekXkuXZ3m4IEn+Mvzb3Dr/g28/M936OtJY7GKWO1OZibn+PQDtzIXDWGSrOzZ2srlq2MYCmlWrV7L++8dwVukw2wzsGGlnSKbkYc+uRc1K/Hii79jzfYyBvtm6OyNMtwXxuUwoyTzpNIyyxrqSCeTXB0IUd+gY24hyDvv/5PVq9bz6mtdzIbiPPTArbSuKMbmynK2PQg6AWcRKHkRWY5hMBpBFRBRuOOBVVztHOLikQW27ChnNjjJpz//Q9459C6XuydRNRgcGeWL961Gjk1iMsKj33yEu269BZPRiNtj4Tvf+jb/ePaPbN3Uyp23rAFdMc1LasgURH746M9x+vSkIzFySoZsKko6NUWRJ0AoGGLd2uXoRQVB0qMpOQr5LJlshGxWRtFyJDMZ8nmZRC5BXs6TyaSRczKJVIx1G5ez99abuXn/HSg5mVReJJVNkEjOMReM8O47x+m8ehWn1cHKFY2k07MsX9bK/Pwsr752BEFnI+C3oSoFzEY91fWl9F69hsFZzFsnO5HQGByZZlXrUmpra9DrJd56pwO5oBBeDLNv7wacTjtGo4F3jl6ltzvKzm2r0YlGXHYHmnAdILMQjnP05DT+Yj9ut5e50CIL0Tih+TCLCzHSyRSH27tRCjKLwd4P/gI0rt706LO/P86eXW2ISh61YGR8cobFSAxXkRukKAaxgr8+M8zp8z2EEjpmZgqEZmdZUucFMUtzS4CKMjf+gIV1LXUEp4Yxmz10X5pm3417CDiqudrXw4mOUTJahODiPNORSRbnZSpqKijyeqkoLcUu6bBpIolkBo00mYSOfKbA3EyKaHyRRGSWCx19uG1O6qtLOdH/HlqomKys8cxzB/jjX1/CVeSj+8IFHnzoQdasXUehIBPwuUimMlitVq5DVkQKKrSf6uftwxcprmshazRRXFpPOBQiUNHITGiOUr8Ls1nP+FSQwfkQnjIP59svcGl4jqrKAD1D/ZSUlnK6I4wm6JAkIwUlh6AT2bh+HdOTU2iiDofDRTwcBk2hoKgoqgJcv15DU3j2r++iI0UyEWfNqmYKuXn0epVMIYKmmPDZVJJ5ieh8iKmpGWaDMhaTjN1lZ+BaEEmc4sF7d2GRBCR9mIHBYarLl/Kdr/8/oqNzWPwC3ZfGELGxe+NyJhajLC4kaKwt5cCRqxhsduYXR3j4k9u5Yf29FBQjkWSKbEriSsdZ1rSV09kxz/hMmC98YStD3T2U+W185PY9XOm6TCqVw2U3Mx28wr9/6UYKQoLZGTOPfv3fyOdlxvuDnLzchaYaiUxPcN/tuxge72VyJs7Fyxf56re/x9NPvcSpK6OMByf4fx/aismoohnLaKwuxeV08967ryCnU3z54RuRhTweo8Kvfvo9HvrIfdx/150kZ7toWLEagyRx9lw7ejlDNhlBzaRw2ouw6yVmFzUgRkbnwyDmEXUCRlnm13/8M0ePXeSPz52k88pljh6/xFvvnmDb5mWo2JGMEmdOnKCqsg7VpOF12di+eQMmE9x99+2IohFVKbCwuEhleQVVVSUkI4vMJw3k1RQ9Xf2U+M20tLVR6rWTyWTQGU0cOdKO22HA65Eo8zhwFrlQlAJvH7+EXdJoPz1Aqd+K0WhAp6i4/SUkkvNcG4sSj82zpKEGo9GInCtgMF6HsZiMVrr651DRWJjp/uAAkITiRy3WMi53BHFYLEzOjNHY3IzeDOPDMYIzMs+9cAKDzY6g12F35ti0uxyT3suVwSnKqwKk8iKhuSjjkwvoVAmrzUpGkCnySEyPTDCfnsTvL+HaQJjgbIHp2TyXL87gcPo4cb6HeC7DbHSCufgsJpsJVZAZHszTtGwJ29cUU9dYxsRUEK/HgSBJjEUXyEoJovkkN6+7kdGRGfbv2s7MbIR8Ic5de1dzubuLQHExhbyMqujQ1AKKqvKVbzzJvXfdiNVioLjYx5KmevKFHOfPnsfi8qDY/AwF50koRoaCMlNRhUB5HXUVpYwMTfHsW5186P6bKS73k8VEaHaR6TkZvUFHVpYxCnoUVcPn8TAXCiGJIGcyOB0WNKWAquow6PXo9RL5QoF8MoVJFLBaNQQFgjNxFOKsX7ec7q4ZDAY9RpOAQS9itpgoK/PR29tPaYmHY+1diLoc+/e0UO7N0NM/xsbNraxa+lFUIYPZZGBVCfzXT05w0y27KIg9GPIy6/cXMzHTi0SGNUta6Q+GUNN2bmzbimjSUVDgL8+/BjojSj7Pqfev0rqqiPIqA6oM1waHaWurIZxJUlxuY2wkSXhhll8/+Q06rvZjERspr1PRSeU8+fjTtPfMk1rMkZHHqarN8daRk7z8cg8vvXGKxiYPZRUOvCVOlpe7sUsJXjx0gif+5zA/ePwvnDt7iqpSiWxsDpMuh7/UzP13fYwbbtiJzmjg/Xfe4oeP/YOhqSQPPnA3SiHHnOLj8V+/RsdwgZcPd/Lqu71843u/5/nX3ufElWlePnCcjt4Yz758gn27lvHakSnEompMNguX2y9RuWozV85e4N47NiIZBQRRzwt/P4DFYCIUiXHowEGqa8oJTqfZun0DP/vx7xgZG6ekOEAikWT1yhbMNjupRBSL2cSJrmnCUzGu9Ixw866VgI5cJoUvUILTraeoyEPAb8VmtWE1SXReGEU05nEZjazZuBQNHSaPly3ZSSp23o4mmNi8fjmhUBANCZ0o0dhQTkOtB3+RwitHJ0mlYiTmBz+4A6hr3q3FU2misTS37SsjHgnhsPuYm89w51338qtfv4jR6WZwcAIBPWVVRqqa7Jw+GEbTNJrqiyjkIzgcNrxFXqan56irLuHMhQtUlldgc9goqAJXOy/hLSvHZZDIK2CxmygoGprOxuTQNAXlOsLZ7DCRiEQx2vRkEiFu2tXA3bfdRGhmGkFvYGJ8mkIGisqKOXf5FNvXrSI4aeDw8YtsaKuhpdnB5FSW0koPcUecrkMD7N73EeoqPagqlK7fz4fbbuLx336ZcDiC3Xr9stFgsZJNZ9AK1/VRHm8RHRcuUlZWRjqdJp2SmZjq4/lXBtEJEoKQ59Xnvk5LYwUjI2Nk0xqipCAZ9DgdVsKR6zIUSYJ4MoXZbEZAD6hIihFFUrh48SKlZbX8x7d+SevSZs5dPEd9Ywl1S5p5+82jZLJx7tqzldbaYsamJ9mxezeLCyniOT2SmuXdS4dpXVpM9+V5tm1dycsvn+DxX/yEgwevYpLS+D0GPLkxvvqbTgwiBEri7N+yg6dffYGtu9bT/l4n65c1U78rwN9+M0RlMdx6215QLSyOD/HYH95HEkWcRTZ+//Ub+e+n3yMrO2mu0dE9coZ79t/Ke2eHMFqczMyNMDkg8sj3lnHsSIzhoT7GpyLsX+7lxvs+S0lxFY/+7C+sqDfw/z5+N5GoTCwR5VLHGTa3bSIYjiHkwzz3VheKJpJeSOBwe4hGIvzX1+/HUWQGVUVTJVrWLEWn6RAlCwfffp9lW+/lhd/+jM998QsU8lHePT9OW4WO/3zsSR7/1ucorlzHbR/7Ms2NDdx313J+9j8v8f2v3MGL/zzKbMSGLJqIhRfJKQV++7PPoGhmjFaNfD6GUdFjdAT4xeN/RFNUaqvKGB4dZ262l1i+nP03LuH0exeZnM9SUeZhy7ZVJNMKsWwamyRiMBm50NFJZ08/E9MhvvvNLzA8MsOadWv5xDd/j1ObZe+Nt7BnfS3JdAKP28FjP3+XXCaKq7iCPZtLcNkdGMwu3nzjfQQxxmPff4RTJ4+gFqwsX1bPxatd9I+FefDeLdx++z00r7iJt19/mpJA6Qd3AFkl8KjN7iSfy3PDlnI6u6fw+evJ5yRyWYWFxQTR5DTplAGrxcJCKE1pwMPkeBLU65irvbuWo8h5oskwdrNAKLSA02fH5XEwNzHOtYFxLA4TpW4XLocbIR+lqa4eg5AiFpnD4zHi8tkp94ssa6jE49RRVeKhqWElsmLmLy+eYiETYXxknMZGN16nmzcPHKS1uZlCIYUgqGRjc/jcDiq8Fjo6O3G6ahnonqWiupnvPvY1SmuKeP+dDlrK7fzoa1/E6PMjZ6Kcv9BLwG/j3gce5iMf/hdUIUMyW0DNZPCVuLFZHNgcVixmA8tal3LgxDiCaERDT/vpUQIlfgwWC5reSB6Rgs5EPF1AEy0g2UlmQW90owoWNJ0RBTMFnR5ZkfAGylAkC8dPDLBx0zIGerv45EMfp9jvZu+uLey5YQc1tW509lJKalvIayKiwUyRVUK0mljb1kaxs5pEIcnMbISTF2Reev0q/X1j3HTLSsILCQy2Eg6+30XdUjvFAT/pRIrKmkpKKw1MjI6wv20N33niORqa9Syp2Ysii3g8FpwlxWDM47TnkIw5zAmZ4hVl2GxZ6uqL2V3XRKWvhLfOnEeWCyiKhei8Rs+ZawSwYjXY+dSOnTz45a9w6Hg/NUuqmJrtYevOj9I9oJIXHfzHI9/l+LlZapas5ZnXOglGdDywpYbn3x3H7CmipHwVkdlFxsbTdHadZ9fuWzl46G36+mOcPt3P6Mgk08E4bz//EjaHndUbV6Dmcxx7/z327b+Jj9++jy/8+xNcOnOGxbk+1lbYWbt5DfpknIuXu/ncFz+JU5pi5Op5fvHjT3HPLes4+e5Jlq9qoJBOEI1mkPR69GYb//3fz1NRakPOJpkYn6CspByDycVvfv0bKstqiSWzuJxWYvEUa9bvoq2+kvloBLvNzs+e/DMFMUh+ep7tu3aRzsiYTBKnT/djNek4c+4qN+5cTWh+Ab+/jo7LF6msdBKLR9i4uhmdTsdPf/Zz3nn3TVqXuDn01tsEnCnSBScLkSjx+Dwu9zKay218+/uP8Osnn+dTn7ifnz7x8w/+AugtZY9mcgVMVjPx6AI2r53wYoTJuTCpZJzKGjs9VyOoiGSTUSwWA7Oz42iaBEjoJAHEBUKhMLIqI6BjOjyPXhXJyQW8DgeB0iJ27d1AoZAmnZqlqMSDKFkwm3WIOoWsKrKmuYZYJIbP7WMhtUAoMsfnP30vfZeP8rEP30TH5Xkud04jKXrm0uNs27oZp8nDxa5+Nq1roq25juqaEvp7R6loWEokFmJJfR3JeIjdm9uYjSSJi1G6Oi/yxHN/QlJkHBYLuVyMImcp33jk8+y592uUe6r5/a+f5VOfe4QPPfBZHnzoPvSSjKqpKJLAq291QT6HqNNIZ7OMjs7TvKSUXE4hndMIzobJFWR6B/tRJRifmSGfSRNamKWgqMTicTQU9AY9FrONh7/9T0pKa4gks9RXN7B6VQ06wGCU0IsiBpMDTVMxmSxYTGZyORm720syJZPMyBx88xiH3g+SkosIRbPccfsNXOnq58KFcW7avQGn18XfXz/D2FiCeNJF30gEp2scSeel/dQsNa1beOCu3RikNrp7x/F5XYiCSkdHN3OhRZY2LSGbidFQVUKlx409IEEojMMRIDaWYGpxDG9lJU4b2K16li9fweR8hBKrmVAqxkQ8Q8BXztpVq+k4dIx0OsXtd+5lMTTD/n27cNstoCoUF7toXd7CT3/1d5xFbuTUdWFGTlVZiEe45ca9zASjWB1uNEHFajURiWVIpXOEZuLMTE5yyx37yMtp2s/28N6b57n9nr2YTAYe/uR93H/f/bRt2MhjP3yOf/nCv/P22+d4682z7NqxkVvv2MMf//gSR4718sV/+xqP/eQpLl04zfr1KzBbLBQUkZef/xtut53wYhKTFZY2VXDfPdvYsudBrlw6iV6QaGiqI18oMDA8gCboyRdSFFSVC53DPHznLv7x2hGGhvrRNB1mo4VoZpa6Sh+JrMym1TWIkpl8QUAx+Tn2zmEaYjAnRvF5vWzfton/+uXfef53TxGaT1HWUEdBNaIXBWKxMMmkTOVSP8XuAPPxKDu3buDxx/8PAWBx1D0qiQLZXJrgXJh1q1aQTUVZta6aAhIH3+hBJxoQNB1mm4Vd2xqYCyXJZK/zzywmHW3ri6gIVLGquYlz547QXNNIRXkpy5fVE0/FaFjSzInT7ZikEorLWwlOxzjZcYVUJkYmZ2QqLDEwHMJp12HQ5wmGotQ2NlJd3shDH7qbx//nzxTUOAGfHb2+jKNHhsiqaRBSrF+xilQ6id/nIpPOo9Pb6B8eZy4SIZXNYDVbCSaiBLx2qr0WLBYvDeV15NIZeiZ6Gertw1XuxygL3LxzBZU1AfTRRUpXBjh27jy3bdvPb//0H+hcKsfef5/B3gSKkkJRNbK5DMVuN8HxEToudjA3E6LrwhU0VOKLCSRVochkIxScQS9IRBdixBaD5LNpgjNhLnf08PbBc4wMDeDzuhmfTHHr7vU89cef09raymxojlw2QyKRIptJMjsbRFMLRCMJDEYjboeDFWtX8MrByyxEkshKAclsJxWdw+F0sXJZJW8eOsbsfBZFzTETHOfBO/axce12VNVFOmNhfn6Rhpoy/vnqQWw2N/F0mBUtNbzX3k9B0VNTGWDHxo0YivyoJi8WsQRraQMxjDjrqmlr20RrQz3jEwrh2CL2oqVEMlFWb9mAYC/BZjKwGEskLrUgAAAgAElEQVQwPj7Mv3z2Y4yMjtPX20U8miadu76VKOklTAYdhWyKNeuaWd1WS29fH+FoBlGnQwOmpgdpaCxFUVTknIzBoEdVr0tRXn6rnUq/nTvuvR1FybJ9yzp2bWqgkE+hS82jahIY9fzLxx7m6d88glgIU1elZ+vaCgw2K+VlpdgtPm7ZtwqLmGTv1uWsXrOanKChE0TMVjeXrw5SXVmO2ezCU1TMGwdOcqL9MpPD41RUlTITnMdk0tOwpJ6uS11Mjk9QV1dJcGGePzzzFPp8ihWb9rH/pp1ksnkcXj9jY+fZtGE9dRVefN5SJEnizTePc6x9ACUv8+yFw+hSC6TSGYrcDgavTVDhtFJRWkpzYzmZnEa5v4h4MsWrb7Xz/oUIz/ztJCsazNx66z1897vf/eAAKAjeR3WigKIIOOxutMI8paV2xodC+IvK6R2ax+txUVduwmSyMjo8gZLVs3FtNWMTs9iLLEj5BcoCJoocZhoa65hamKSsuoZ4Ls+Zrk5GZsYwmOx4i8xkUhFmE3M0Ntai5U1EY1lS8RTb1y8nnkqQjxWQJJVkPMLSah+nTxyjuqKRTDaH1+1mYn4Sj9dCIqpnZDbJ5FQ/K1bWkk1qnD/XSzojXPcFGk34i7zMzYdZSC6S1xUQxWICAS/ZRJZgchKL4EEn6pmcGueVK28yHuzlrYPvULt6GVVl5RQ7DLjsOlavXovfXonb7ufE+SG2r2siFp2mubGEKxcu0bZCx+bVS/CUephdLJDO6EimckzNhHBZswz19hBZmOTc5YssJi2Exmd5+LNforapgRPvvU0uK5OOhrAb4dKFy/znv97FwtQkHreFxZiBSDhGfGYeRTJRKEhEojF+9/SrvH/0OL39Y0xMTqIpOhxmE4nIPDt230T/0Agfu30pZ891MBfKo5CiusxLUh6lwWek1Gejr2+MO/dvxu004Pf56Ll0kRVLi/GU+jlzfoKx6Xn27bwByZxHp11f2y1y23nksb9y2571KAWQCwViGZU337lKKJrn2tggRinA1NQEN+1uw+t2UFkZwGQU+OZ//pktO5ZiMZmwOSRy2Tw2qwlNK1BWVYrFLGIyGFFkhS3bd3Pm5EX0EqgIiIKO1SvqQQeSKCFJInqDgfn5EKmIQonbwd7bdpLLZsml59GLTqKpCKcu9FDbuJTxsQmWrWgjrRg40X6MaDrPmath/vrnv/Hnfx7hxMmjHDtxmuWr15BRRWZiEbJyBqvJTSQRITnej2Swk4xF8AY8FJQkmzdtQRDyJJMCc3PzVFfa8XrLCBSXIOjAajPjsjv5wwvH8Agz/ObZF7jW30dkMY7f5+XlV85y+MR5OnumWbeqDkHQESgp4eSFbix6maee/ivbNyxF0OlA09HQuBSb3Uk0miSuZHFZHZQUu8grMgNd3ShGDxYdbNhQR/f5E7x58PAHBoBksZpYsqSS6Zk5CrpF6lvrSZFgW90OfvqjX4FUz/rmClKFCaLjSYo8bnxuM1d6Bqgsd6I3qOzbfRPBhRnMHh8Bh4Ot23ZSUAW8RX7uuXkfsVgMm81CJBLEbrcyNTlPXU0977x7klh0ka1r13D1cifvXRunuMjPmnX1SJkMrW3LkVF54flDmGx2jPowqxrquXT+Ir6yAKvX3sCFc91c7k0yO/kurc1NrGxu5PUDZ7E5LUyOh1m7dilDE51U+SuJxaKMDobRayIL4znEknkkUxSzbEdTRarKWymzGAlOjHDojTj2IhM/evYRAq5KrFY7Abud+nIH1dUGzp4KUeyu5uabNuGrdSAXDFgNdgwGE0aDDlUzYTM7WAyF2HvbbUwODSHanIyMZinNGfi3rz7K5NgAeSWHTltkw6o2iv01HDh0hFdePUbrino6Oif40e9e4YZNu1hX78dttaGTJPKqFZ8zw56te5mZmudSYYBMLkYuFcNqM/Pac09jsRVx8fwo2bSebGaYm/bUEI/mWYgmiQRjpCLzlDqS9Jw/SlKEfCbNHTevx+OxcfjlF8inrXhMCj9+7Ju8/Mf/xBBOYLTYMJklKl0+Zoc6Ka5bj6LEMUkCbc0+whEPWzc08dQ/TpFNC9QVm8jKeaxWAdVlJBJP8MKL72HUu3j4o5uxGUUkScJcvRR9bh7NovKlf/8NP/z+R4EoD92zjTdfP0rB7KXImcFpt5HKZFB013Hq+byC2WQgmkzw0CceQlZBEHXoDE7mw+MY9Hr23bIXkySgpSeoqyjHFfDhce/BZzOy8/ZPcOTgc0TmgphNEjqjE1lVSGdzVBaXogqwmMpSEajCJsuULPVhNmZxezRa7tpNMBgk6bRwsaOTVN6GJpbT232ZSDTL9hvWEYunSGfT1NeUUFCj3HLbv/K5j27CYpXI5QoIYpaachdyLo/FYiGTK+Dz2rEaZAyCRl1VOaomIEkS2WyOJ372B0rtekSLiSVSAL/LSyKewuv1spjTc+n1X1IoqNxx7+fR0pEPevsA6KrKikgtTPKJ/S0sKTeRTooM9YcYnBlANJZisoicONtOY4Of1StKuXV3CataA6SjUfzFVppbali7bjM3772djWs2sKS6AZfDSYnXTSIaJhWbQZfPotfSdJ7p4umnXqfY4yMYnOLZfxzk7puasDj0bN21nvtv3sngyAjvvdPB+f4JfvE/z9F+dgCdy0wikSBQWcn8fIiS8iqskoHp4WsEPCbeffMEp07LBMMJTncfZ+WqGkwarFjZiNVajClfytz8AoHSIvp7J9EEEy3LV6DkTdTWbmY8kmB9cStiQkWTY1hsbrKZAhNTk1TbV5GMC4yOLDI+IbJ/9zoG+sf50N2bqa22sGlNKbl5GUU0kMmDxWxEzqkoikAmk0GyWEkvLNBYW8e2HTfiDriZ8VtIpVJUNdZz7y3V7N7bioDE3HyIhWSEhWwYVclTXrcKj6uO5MIYv3j1H0iiiNVqxWTQcdO++3EHiujq6cZqyuBwZWhs9pKWc8iKjCrJXOu9yJrVjaxsqcRmcNHQWMRNe1p54qUunvjbICtWbuLVA0cYuZagyreMxUSM5198htq6pZTYkuxYW8X3vvoxqmt9mDV46KtPkZoZR47PsLPUxVtvHGZoaBRN1bN1y2rqq4q4cOoohcQC6UiIzMIgn/7Kn+g5f4p0yozRJJHIOrGbJMr9dppLodQYpEiI4TFHcer1JOUoFYYM+tgIkfFeKou93LrCg6AWyGRS6PV6RFF3nfMoCYiGPFnZwJ9efxGlIKJpGjp02L1ejPYAmZxCMqNS37IBu7eRTDKCpHcylxK44YatTI9PES3omF2IEU9rZHMKCEbSqQSKkgchR6Ygo4smCS7OYzLbmZ4M09U5SCKRwu/Ws3XLCuYXpvj7K+/i8NZS39BEJi3jMNs5drqTJ//wHIdPXkYtRMjnC+hFB9/64dOMTukYGprHbJGIRMOIAvzgJ3/AKmaoqSvFYRGRZRlN07A7i5gYP040mWBmIY4kmpEMIrlcgbKyCshlkAsJ8oUEL/7lZ/zl5Wf+bwHwiQe3cOfNLfgCLtoaapkdD5JPaMyNKZSXBmhuLeW+e/fgMlcwNhbmQl8QWfBzy607udY5RVNZLSfffoHhjnbCw92oCxMkJq7yzrvPklrsYLL/JIl0NxND47S1LOMjt+4gFg7T1lTB0uZtGGwu8tkIC5EgLY0V/OaJr+NzWxm9FmFgdJzRgX4CJjvrVzcgqglSuSyqQWPp0qUcOdpOqS+Ax2Mk4NTR3amj42KW/slRljSV4bRbGBjsZoEpVqxej8VcRn93hOOXennlwHsoaoYzp84Q8FVdb/5FE/OzMYbHhsg7VCZG45wZvEBL7TIqKirICVFeP/4WkxOzqLJEZlGgvMTE5c4BlIJAXlZIJpNYrVYkSUJWdGQLGtPjI6QzMZY2NyNo/O94UOLOO++kylpOiTdNMjmLx2PmSw9/gvb2afS2chw2lW9v38hKazm//PqHESSRbDaLJAk89ss3GZ2I8pnPf5rdO7fypc/czOTIIBvXlrJvTxVFfo2+hSBWq8b9dy5DJyaYm3Pz059cwWm2ImoaP/7VIepWbGVgUuZs1wCJSJbOXgtPvdRPbWM1LkeGlGpg2/1PkU5lKa4oJSUr+LwekAxEp+e5fU0VkdgiJrNIZakKugyff/hWSgKQK4hYzXme+fPf+I9v/RZBbyTgKjA7O8vPn3yHeDxJNpUjtziEnFik2GPjSPthzBYbxT4/A73XcGiQ0zQ2rFyLXpTQlOsCEb1eIpfL8Z1vP42g17h4fgRR0lBVlbwqUlAN6CQdOtEEkh5ZyzM/M4hcyJMu5EFQefDBe0Fn5Ykf/BaD0YKCgKJJ1yGpOol8Po9BFREElc6RCTLpAtFEAk3TyOVyPPmHQzz+5NtMzOXJF3RUlvvo6u6ju7uXqakpvvTVx/jzi89gtrh5/fQQRpsBUacnI2eQC3nqSvT/n7H3fLPrrK/+P7ueffqZOdN70RT13qzqItuSC2BsbAzBBGJK8lB/tDgUEwKEwBPiQMCODaYYjIvAvUhW773PaKQZaXo5M3N62X0/L/R7D//Dfa9rXeu7CgsXtPH8i9sJBSN4nkcyY5MrlnH2/BTnUzEkSUZAxnVEyqqWs3rJYm5f3obgGHhG6cZykGny4P0PUCrqnBiaRI3KRCLq3wQAcnomyeRYgkIhR2dbLZ4U5eUDR1k0r4XF922mpqmOQj5DNFpNIFrP7371M+oibSzvqCbktFJVPovcWMnOvUeoKVRQK5Zj1kWxYzF+9sZ72HaWqpEGupvLWF9xC7PTs4h+hWRykj/86gFOHT+BLbhMD15lYEhi2eou7r37fdTVV6K6Br966RVyZhY3ATPZDNgmhq5z+uJR1t60mnf3HODmTRt49e03KcfEysHO18Yoq2hF0E+zfvV8rg2X09N3keHrw2xYu5D2xjpC0RC9fZcxSkXiIYV4pJqR8VmqWirxC378boANm5Zx6ILO4YFTKDqkpmw6Wuow3BKxaAUrF9cylclQWRFhenIKORRF8wfxBBfT1PH7/WiCTVNbO+Pj46xR/YBE99w53HHHHbQ0V7HzUIbDh2dYv2YLfk1kaKiH9vYuRH+IXHaWSD7H1pYGQlUK/WkZ27bRSyX+/MYzfPCuh/jyo/dw911b+cG/f49HPn4HEhOUVUSI9UVYvXgB2bxENjlG0Bdl9xu7+PPvv83i5SvITY9SXt2IpAT4z8c+h+lI/PLV03hyBM0v8drOXkQpgOMmUBWXh392AASLj/z7XiIhH//21BtkrRsNtSdOT7Jobi0Bn5+GpiAuBbZsWYMcqiXkE/jX7/+Ef/n3HRRdhZmSwmRaIW3m0EOtFLw0fhHSRpGKQD2a5mPIUQj6BFrrYtS0NHGh/xLNih/Hq0BVVXTLBE8g6Pez5e67mdtSTs/IWUqqxoNffBoXkbBfQxZFLM/CMmVCAT/lqkaqUMJ0PRwpC8U8NeUBYrFavv/UTnRHQHcsmutrcGWbjvp6TFlk/aoAX/zh57jn75/FMad48IENCJKMposUBZnR8REqy8uoKIuRTw6x+qZltM2p5fs/+Dy3rn6YvGfRUulj/Eo/lrsFf0Alqnmk9RKF4Qzrl97BF776YQKqxqc++RBPPvMXNFlh9Pwp/A8uZmg0QUhLsGLJXC5fOo3si3DvPetA9mHbFrZtU8wWweejRr3BjkT+qgXgBgNQxCTFnE1m2mBswuVXfzzDUz94jA3rl5A3ixSSs+RmBzm079eExVG+/c2vooWmmb90Hk6ZTTrv8fqJU8hlQWaNEhl0ZsYGUAp5bloyh9VL57NhcRc18Xq+99+voKkGmihRSOf55hf+L27RoDbeyG9f6WF3T5KILJEYvUhAylBRLvP1z/8d69dvpCcxxeY71zB/6VJ8msb1vlHSmWnmLe4glUmyZd16ojGNimqV6kqdU4eu8eLLl3jx7f0US1eYGLpO1s3y8Ic2cP89axjsP4/q97F/3xFCcYnTfUeRZRNVhopAGf2j/Rw6d4ZwqIyV8+fhqwiQyiVoqVOYP7+M8ZlBnv7TbqaTIvGaMprbGxken0BVVVxRIBAOoaoamiji+DS0gJ+rV/opi8W5dLGPt3e8S1VVFWW1nWxYtYh58xdjuTpv7z7AwOBViplZymI1lGwdgHQuiK7fmJCqrKimMLSXd/bvp6a+jv6BYRZ0LUdwU9Q11HO938D1EqTTIrIo0TsU4tU3Bnl59y7+8+V+3MIM8fpuLE9kJp/hFy/18PuXj/HKyz/k3Kn/4fiBJ7hy5AlOHnqSM0d+weEDT+G5Bno+h6aAX1NZ2FJPMZfA76ti3txqPvtPX+HacJqZdJBcro+GChtUlX/52j/gDwb41S++RMmymRhLo0oiD993K7qRQxIDnO4dxPZUDh49xIk9rzE8NMVE0mXF1o2E4n5swjR11pKcSWEYFo7p4LouppVh67aN3LpxPvVx2PO7n/Ev93Xx1bvqyZ75M1bfW3x6c5SHV+n8w22VBLJ7eWS1zraWa2z/4loeWudnVa2FL3eOxWWz+Kfe4QPdAW5rT9FpXWNBPMibv/8TX/nMtzh25D2KxSSCL8rTzx6mKhTiwX/YzM+f/SldS1bj2CKj41PIqsP9D32YdNpAEkQe+ug6qh2TQj6L4ah4joFhGHR2VFNX48M087S1+QkGQ2SyJt1zIojGFTZtmMNTP/kihmPT3FSH6Gl84wuPsnTpavx+P8VSCQ8Zw9KRZZFc8ioxf5C2tjkokooo/U3/H2np0qWPN9ZqrFjRxUtvHCdlRlg+txq/lKWzQmZytI9hYxhZriBRKJFKpRFFF0fIIQZ9FE2DjJchHtDwaz7KlAoy6QLRUJxkKk/Mr2F6HlPpJHet7CAeDWMJCunkNLdtXcW+w72MDQ7ykfvXoLYt5eF1YSbSFpqg4wowcq2fjvY2Nq9eysnjl7l0ZQA9l6W6KkZZVRXJqWnGJ2aYKWSQXJGzFyeoqK1F8dn4lSAnz84iB2xicZfNi2/m9UP7mJpNUVFVSbyinsqaEG313SSzKXyCSiltYKsiK+Z0UJANbE1m8PAUC+fP4YG7Pkok6DExfpVofYSauTVYWY9A1CYaiHPn1vu40n8d19FxXQVPcAipFouXrCY1kyRfsrk+PI1uGLiewIb1K7h4dDcv7d/P8NAsBd3A1gL4vDKijR1suqmN6zvOUltfzayWg2CMXK5IIKDgejDef5DGugaSs1M0Nbdy/OAgA70mijrCupULEaU6wON/f3eAsbERXnhpF9UrbuPZ9wb58N1dmIZDQAvxu9/vwVNiPPrJ+wmFfehugA/9+ATP7+pBEQQW10f42Kfu59HP/h2PfPx9PPiRuzix5yiJrMn4ZI6meS38/o87GRkd42LvVSYmCizunEOqpGC5FpmChU8LcOFSgsT0LLbtMjKRY8XCBgzTIhyJoqo33o8oQSAYxPZcPEfirQM9rN+4iCefO8GhYwPcfPNyPNtC1WS+8+O32bqxk2I+Q3tnF6LkQzd1JmczxCrmMDyR4PpQmrVrlnC+5zRLFi1kaGyUV94doufyNZqryzh46CBTE0Xmze9m+eKFPPGzp9l3qJ/PPnwPj//oGWqrm5gcm2HJvBC7j04yljdxpBDXhxLMTE8xp8LlJz/8L7beuoxrQ+OEwwLDwxkiER96qUREkukbvUB3Wy0P3f8B4vEIHiJ+RaHv+hVqqlpo6+qiNl6O4zl4HiSmkuRz0+x87x2657SimzaaJHL6tZ1MlPJUV8fpuzpId/ccNNUlnyny6jv7+LtPfgzbtBEEkaxh88RPfvzXz4Cf/+wjj8+Zt4KArNDdEUcIeGxZW8/l6UGe3fUuLe31XB6aZrY0zZQ+xaaV69l3chfBcoVxw0JPZdAFmdpgnKnZFJIjomNRUVZGybAIKn6SVpaq+gBCIYomCki+IBIOVnGMDz34MLfdupnm1mbWtJXx/BvHGepPkM8maZrTTTTs4/Pfeon77l7LvAXNrF2ygounhrh0dRhFFchls4Qrywj4NMYmZ7FcmeSUTamQR/CyNNdEGR31UdI9BhN7+cpnv8wf//IKWjDK+Hg/q1asISD5sHWRoamrBGJxwnUhDr+3n4HsGJGQyJLmhUxPZDl2Yh+x8nq0gB9BqMPI2nhBP4VUCj1dYv3m23lnxy4cy0Dx+VBVlYBUYvfBQ0T8Kr1XrvPoP36OI4ePUVFZRSSsMnDhECPZAtmkhCtbJLMZOqoCzO1qZujSYfwNRUKLyvE8lbTuQxQlRNEDJPSSh2EZ6EUH0zRoaaknEtHo7FhNNutHlCTeffdPmEIbM1MJlmy+DUuW0Tx44fAIe3Yf5NYV3bQtmYvsc9mwbjnXsnG+9sTr2EYGyzDoG5jkDydneGTbWj765R9z+MI4v31xBwf3HUBCo6XOT6SuFgGRVM4mFovwyN/fhRCowbN1otFyEokkoiRw7PgZppI5DCuLJBks6uwkEFZAULFNA9tykCUF0wFR8uG6Pp5/7yqHj1/Ctn0ofoWXtr/DsfPTnL/Ui2kqHD5+mYc/+nEe+/ZvOHEmwdqV7VRFVfYfuULJlEhMp7l6NcPKZY3cc899tM69jZ37jnHu0nV6rzps3rCArbet5+DRY6Qmx/jCN77Iwu46Olfdwva3zpOcniaRzjC/yWM4GUUTXDR3Ft2VmUnlmd9cwcMP3cObb75LULGJhvysWH0TyUyJ2XSaiZkUt928CQGoqihnZjpDIBRgenKGs31ZZmfymLpDdXUcSQJFFXE8i+aWFuKVDaSSRWzboaI2zk33fZg3tr/Chd5RZk0/m9fOxTJKbNy0humZLJtv3oIgigwNj1AqZHn6ySf/OgB8+KMffXzm0hGiZSqxoEq0zM/p0Ssk00kiVRFmxrOk3BxSQGW6UMKc0ZkNF+npGUSVBaqj1RhWgbDkw7Rc/H6VomkQigVIpZJEQiEEUaJgZ2iribN9+0EWLJhLamaKW+/YiiBKGIaHa9uIbo5FXWXcub4LUwmy48AA339qL64r8PzrR9k4v5L6plqWrpxDYnSCof4kj3z0XvonJ0jPZlCFOEXDpmC6xCN+li9oJ1YWJRSJMjWsc/KCQXm5zuoliyjlijghh+N7T6AGNARUsl6GYFSjMhrigTsfZFXXAq5euYY/qDGTzFHTGqfvTD9HT00ydH2Q/qEEIRkCks4dt67na4/9mO55CwgEJPyBKJlMhu7Wcq4PT1IVkRlJJjlzvJfNt27mwsVeAj4wiyUuDI8zNApGYRJJjHDh8jSZ6VkeeOh+Dh0/geyJ9A/PEiivIqD58Ps1dNPA7w/g2i4gIgggSRLRWJSSYWNYJggCMQEunOnhhxuWc1tIorkwws0hnZWJUZYH/Nz8vSc5emacUT3C9l1XKXv3FRYWxpmfmuB2zWJLVZh52UmO7DrJlq3LmNNYTlOdyvljlwjVVLN+7WIEX4DG5koOHb5MsSDQ1tKA6zikM3lOnumjtaWBQqHE3M5mRgbHUaw8niSzcG4Duu2BGMU2S2QLOrOpHLYt8d9PvsG87lYOHL+MZ4tIskspp7Ni3d0kpgYpGQKWYYGs8ubbe/FkCdsocfz0KDuPXEFyA2TTaaKRCIZl0ns5xy+feYntr71Hrmjieip52+DswCzd3S2owQBpN0pHcxt7DlzlG99+Bt1y0HUdx5XZd9lAzxaxXY9CyUHxabQtWM2y+WWc6xmkpryaaEAhk83z7X/9Zw4e2svZKwkSE9PMndtKKiMh+QMENAnLsvj9C++gmx6yqpBKFtBCAVoaqinZAn98+SBVFQ0MXR+mpq6KOe3NBH0+PMdkemIKL6QxPtnP5jVLEFyP6toY0YoIFVU1aJpGtKKMWCzOj3/4g78KAGJ26BK9hVmefv0VXjh8gkuXzzCWniJdSjORSRKLlaMpKhFZoVAoUDIL6GmL2vo6LMshYMp4hsTwZAIBkUjg/1czJ/PoeQej6GClLAQjxMTMJA9+8HYEJMKxStLZEqoYwPMMFEVBVHxokh8CFbz8+hFeeOUQimPhOTai6yBFqpkdGyYajfKlr3ya73zrI2TTDsvmtxLSQpS8PIZjIskidhDKasqQRJWYL0uk3GR+Szl/eq6PvmvDrFrZQXJwhoqmGGVlZaRyI1Qq5YRUH7mpBIcP7+D4oYO4lk1RypFKjTE9PUV39zw0TWU4macyEqK2opaRxCxXrowSrSjHEwW+9Z1vUiqVUFSYncly99Y7cUUBt6iAJLB3/2FsR6f/2rUbw6bFAoVMiltuuYn3393NnTcvZ15nDTOpBHOa29hxbJzKcJyIpjE1NYFpuLQ0NSOIHpIsI8oG0bIIsiLi4uF6NoqiIDgeNZURpkYn0YsGuivwyv6z+E0PUblR4LEyXkY820vh9Lt876PLiBVnifsD4LgEozW4+SKqqVOuT7Ji/VLWrVvK3beu466ta+isVyirvJFwNA2XkM9lSVcFzz33Br/43X7KyiqYztmYrsD3/ut1zh49SXudRXdLmPeta8U1U+RTeb73k18xPZNE101s26VUKpDOO1TW19LVHEHPjlNTYdDUaHDu5F8QLRt/tJJY2EJwByhlJ3Gyk2CnUUUDTbBIJoYpzszgTk9RnJogmc0QCEVxXBUrMUXQSdNZJtNa30ihR+fNHUc4feoS//E/v6ejTuWRT7yPZMYkWbB47JOLePzB5Xzro8v5n8+v43+/+X6y0xYnjxwDRCrKIpw9ewFd13GdAj/61mPMX7SAUrrAvOWbyaVL/GX7TsJlGlXlESRRQQk3UBUKIDg6+VwGRYnyf3/2Z8qiDdiWwLvvHeLCQJpP/OPXOHmmn+3PvUD/6b9w+twhmtsrqC6L4YkSnieQzhV59eW9RCIRDNdGcARE728QAAD5updnPDVFpDZGTplBIYJnuFQGy+jp76Us5cNfo2FZFnVV1YiAT1NQEW+MdNoCnmMSCIRwvRLZZAFJFvArMmO6wexMnv+8eIsAACAASURBVGuDOmf7MgS1JP/6qWa0iEU+nSJe1whmDhwX29Qx9BKCJHLl7AH27Xmbl156GUQVNRSkPF6NX4Rz7zxN34lB6rvXUDRdVq3q5MDJc8ymJxid8KitizM1rpNOzHCpdwhXLyIJInfduYkLFwdJJNL0XLR5892f0lzRwtblSxkZGmYqAYaR4f/ctZ7hqzfEps55ES7seoklVUvwdUTJ2TmuTQ3hCTqdrR1cu97H3O5GyuNBEokElVVNTE9O8alPfJLaprn4ECkU8uzf8x4r57XRoxQQRQXREZiZSlJbEUDTNFo6G7h4dYzZdIor06O0ipVcujbNnM569u8fYP7canJWkcNv/YW77rsLVZHIF1IE/SKlgovmD2KWdFwHgmERwfNjmg6CkQVZIuxXCQQCGIbBB2/ZgCwqCIJHorGCP/zgn9CTaUSfSzAU5y/7W9FHc8iKj8nxQZrr6zFNE9fn4pgOmiZx/PR5pqenyRYtLvWOs2ptFcmSR1tTBSdOHqQiXodUXseuw/0kkyaXB6aw8wap2Um6Fi0ik5xAwGD9/Gqmsw6tTR2sWb2Ow8cOo0gShuWi2y4//tF/Eq8Ks3ZVOydPnqZkZnjsK1/h5z97DWekn2CdzbY7tvF3H3sIn89HOByhmM/QVlPL89/8IcGiQdQnI4UVXt67jwcf/BD//YvfcP/W1dTVlyMJkBB8ZIxpnv3ydwiHKrjv77+FW1FDZ0Uln7yjhfamGnyCD39QpFhI3WgWwuC5b92EKwrMBiE7lGHjhiUI6Uke+MSjXDl0nGvnzvD+za088/tf8sD9W4mqRf7xo/fx5C9/jV4yETwd2e9RHVKxnCIhZRrVX+TqQA+xUBDbdVi5cgM1ZQJHjx6ntixCKqNRV9eFa0xxz30LGBg5RWN5K4oa4KOfuJdkfgbF9pE3J5GUv00FlEXHJB6KkKaIXRSxVZvRxCShGonmuhoq5TImSjnKZB+uJhEUNHyWiCi6hF0JT7TwRAFHcPD7QlhFl3g8iOm4WKaJGlQ43XMBS4rg2dVM5kO0RMARITmboDKk4NdUHM8lHgly5OAhsjOjZLMFBMFD1RSK1o0G2MbGOFPJLM1zlzEyPMi8+Yu5euUyC7ua2fO2n7aaIIYr4tomeimApNjksnk6W1oYGcmRTIyTmJxEEUUKyWrGVJOJqSxT01lOnRthTnsrX/7qL9iwdDF3bFvH4YtH2dS1ASNVJFLjp0LwYSSLBAIxzp7pZeWiBrrmNqAKDRSSGYQCWJZBdW0jguvh0zTmt5Sz98AkBcPEdV2mZ2aIlUWIRqNIkkSukCdTEPH5fNRHauioiLPntb20dLVimSI+TcZ1JPKGRqoiw6WhXqZ7xrCyJosXBBGiC4nlszQsW8nvX3gWf20EWdAwczPUR+dQH3FQ1cCN85muI4WCFE0Ln1/j2398hsjShSzoiBEUNdIz17ntCx/n6GPPImsOnlmkWCzi9/uZMtMosopVzDJTkBlLlKiqrkB2S4xN5QlEK7kyMklLcwene67xqYe/y0PvX8DihZsZHE3hD8gsWr8Jv1egY85K/v2HP+K/njvFlz73AGND19m5exee5+BTFGxPIpEYpVZrIp3UCZQpfOyRB7m9YCPMpHn6wXVIio0oBfBVlVMWiZEvFfE8genpaWoiYSo0jUJWZ08qz6ZgFe9bdxPhaIQPbtyAoZbz5Se38+PPvJ+gazMwlUILlqMEI9S3djB6fYSJ8QLVtY2AQ6FQIBDUCAQCiIDlOPgDGpZhUkgWURSFYCiE4xeoiUc47RmcP3sN0U7z/W98Ar0wyuKvPMCnP/wxVq5fQHm8njvXN3Hi1GlUv0xXZ5SuhibOC4f49XPP0FxTzbZbNnL65DG++dh17r9nAyVDolBIMDhRYuWaOko5h9aGpQi4GDpYtsvg2RPIQT8iLob5tzEAaV57/ePZvEVDeQ2yT0SQXXxSgDnVrYwnk8ypaSRZ0rGMEtlCEbEk4AgekmAjy36qwhVkzTyqrFC0TTRbQParFEolTNNBdQTO92YIhsqQvRIHTvRyz80LyJSydM6ZQ2L8GoZZxLEtnvzl8/z2xT1M6VVcH7nMBx98kEAoguOKBIMRQoLAiUPvsKS7ExsBzzQIhMOURWKsWNrOq9t3UNR9fOmftjDa30N5rZ/O7m7Onz9Hz/k+JEkiGNDIpRP80+ce4VpPP9mCxeDwFdrbFrB5423s2XecW25bgqTCbCbNzPgsTQ1tXBg9z7WBq/T2zjA6MsKy7goeum8b5y5f4PSJc6xduZzr4yV8qg9Nk9B1G8cqEVYN/MEglZVRxicLROP1pNOzOJ5IU0M5udQsL+56F9cIc+DUeWo7XAKBCpZ0VrLn8Anu2LaFK/0zzGSmWFo/F8EOEoiU01ZZx7GzKcZHxwjJFpeG+pE0H7IXZvfhE4TKJQYn0lSWhTl7bpqbWxuxbRtbUYhrKj7Vxx3NLXTdvZaw5DGbnKGivJw3vvI0TimF6diEAwFEUcA0TSxJ4ioqp3rG+Nl/PkupVGJ0ZIo7t6wCNYSiBJDUSt565wCJZIn9e48TFBRmdYHkTJYv/dPt+DSPYDhCKmOydt0mblrZjYyAKQgsnNtOOBzFp6gYlsXWbe+jb+Q8z/78y3z20b9n9Zpbuf7eDsxsiZ8c6CMzm2Veax1uSCPS2YmLgCiKlMViVETDnHjvMF4pS3NEQhUlfvKb3/LhBz/E9376FPPb5/D+dfOxXYeB5Awt85eRE2X++8kX+YcHNlMqmUxNW0QVF0lyCQeDeK6MZ+gEggqIgO1i2zYDE0nmLlyAKKtc6BlH8YkMjaXxq2UkdYmqcpVgNEIoVkEy57Dx1pu4eHGI8bHrnLl0hfraGuIxP4XpFLesW86Dd65n3Zp5JIfH6exoImR7mNkEHQsbOX/sGlrQJjHjceVKisUL59zwQwT95PIW//yT99h1qIc33zvBjt1nmR7764Ug0i0bVzw+mk5il1zkkEAwEkRPuyi2zGgqSVUgQqaYxKcFKJQKBFw/hmsR9oWwDAs9Z2F5JpqmULRLhPGTyKdwdI9sKUe5Fqa6soKJhI5p5Yn4y1m9qhndhMVL5hMQFSLhGDgm7U31PHzfRuLaCK/susAHHvowshog4AsRiISR7CLHX/sNkYomFFVidHiKiOpDL6UpOWVsvWMpG5d2ceFyH81NzSRnh0nmh5jftZKx6QRzu5rRSy5zOjsYGholm8qDoDExbWE4Hm+/sxtZ9CEYA1y6eBXLNdmw8Sb+9OrLVATr6GxbxO79Z6mK17Bu1VLmdi3ipe3v0NSgsGjJaq5cnUSQJTy3hKoGETyTutoguWyGsnCAwUQBGxUEGUmSaKiPkhgdIm0ppGY8IuEwC5c0MZ1NUF1ez5nhEYrJIgsXLGQ2laFQGkNSuvjUxx/miSeewTQtlnbXUR0LMpRKoGplJJIzLFpZT1lVhImeFHPbW+k9P8Idc7tIpVI4skI84MPzHDzHovGOtfzbd37G4KjNzVs2MfnuEUwHHM+hzKfdYHeOQ7ypnj/t/j1LOwNs/8shPvOxBwgEA2ghAZ8WxueX2b/rCI0tjYxPFYgGJZLDY/ReH8MVPKoal/P8H7aze+8A6YLNazuOIooSf3hlB7gO5y9cZfHCObieA66EJEqEKyqpCbsYmQl2vHeQ2Gwaz/VYWRNhYVcDCAK+sgjBtjm4nockSWiqil/0cf3NdxEEj0BAQxDhlu6FdK9bQWgmjeaX8asSMiIVgRAHLh+lNzHG9MhFmivLseQgnhjEnunBE2UCPh+zmRw/e2kfH9x2F46RQjcMbEXie7/cixyIMDMxy47D/chKFC0YpW80RT6Xx5MlRDHOVMrgrT0nkSWJ/QcucvPm1Wy4aTndXZ3oOYdQLIquhhkYSRON11F0oaK+kbO9QyzfsJb+K5NEG1voGcxjGDKdbTW0NFajaRqVNQFqqhRefe0wpZJJZUUHifFxssm/PgwiFmyHoBJFEn1kJgukRrOYJYvpXIGIT2Vieop8vohr2jeacCSQZRnb8QhpYTTZh+u6JBIzqJqPgn4jwmmLLkHNjyQLjIzNYNkGHZ3NFPKzfPenu/jTi/tYsvohDpy8hGfkcHWTUEhECpVx/do1PFdC1sowLYNkNkEul+OZ/32ahFPPzOhlLN1AT0/hhkSy+Qxf/+bX+eUv3mRs8jotVWHmt8V59GP3Egu0kE5rREIBKisDLOju5GrfZWxDxx+QGbx2gaULuhkfnaa1oQbZdVm2dhlNLRXUlolc6z/DgrZW2utbOXf8Cs01VcQ0hd27j/Llf/4xRc/Hsu5VSKJK0dApj8YpGTqCIGDZOqInk0/lkGUVwxYRcXFtG8FzUBUNVVaQhSKiBILsMng9Tcl2ycyIPPapf0bPO7z6yg6q4hWEY0H6rl3i6f/9OZoGSsDHwOgYwUiY8lAdppFhdtygvzdHdspm0cK17N/3JlYxeyOXoErEfRKCIKCqGqWixbcefwHcAL0Dl/jIR76LI4hYlkFZKIIW9pPP51FVlVTepK2hgeErQ6xf3smV/kvkUyOMj6ZwHIftrx2no70OsTTMlo0LmM2mOd57mXDExTYN3nj1N+hTk5TXNnDi9DFSpSIVIT9f/8YXkU9dYTgdxzAsbBtkn4ulZ3jrtTNUV1YyMWsiFQsYuoUkg+mZ6MUS2BaKJ2GaOqIoAmBaBj4ZBl0XUZDI5XJYlsW4KqHFq0goHrgO8fIYggR9ukFj+1IaairJTmdYv7QdSfCYSadY2ljPH371Io4I9TU1/H8fvoV1y1qRBBFFFGn0R1i8Vmbg/Bus27SMaJmCT8qyaMUCprOXiVXGuHD9PMf69vH8K9tJTM/Sd+EoZRVx5sydT2NTPfFYFfPmzePPbx/idy+8xVs73+Kl5//Isy+9ze7954nXNTM2lqJgy/T1DpOaGAVRIKKBIt9w/dXEw7y78wibWzI0VuSYFxjh4TV/oxMwNZ2hpBfJFbJURWqhKBP0B3AtG9ETUaQQoaAPSYXG2hp8PhVBEnFd0L0Seb2AI0jE68tRPI/yuiie4CLIApqm4fNLBPwRouEQg30JVJ+M5XnctGYNVVVV/Palk/zy179iYGSIxx7/CTt27ibnxrE9CVdWbuzW4yEJAuvWryXqc7gylCMxPEZ9extT/dfIJ9N8+dN3UxSiDI7MsGL5Gs6dOcChQwPUNMQ5eOAd1qxchGk6HDiyi3XrV5NLZ2huamLBgnaqKjRikSDJ1Ay2CO0dbYTDUQwzhuaLks+bDFwforo2xgfv3kJAE6mqrmXZ4mbWL25BUfzkciXiFTHS6SSq7KNYLKKbDq5ZwvJ0RBF8ikRBL+F5DrZ3I9HmChK+cDWO4yAicXjfMK5p0T94inNXDlBVX81tW9ZRW1dNIefh+FtZuf5mVE1CUSS23ryKv7zxNtFYAFXRWL6qnba2GAGfwf59R3EEC58awnI9YrFySvkCgugwm8tgWRbf/8Z9fPYzd/Hoh27mz396HN0sYFkW6XSaXC5HeXk5oijieRbnz4/iuAbRoENAhcu9AwRDPiTBZmCgn0IuSdGS2fnuYSzd4TM/+A8+9w8fQfAAL8LHVq1m47p1NPplvvbpD3H45Fme+fmTzFTLBMQURctB8zn863ef4sk/7COXTJHLFiirqiBpCwiCgKHbNz676yFqKp6g4LkuguvdSAiaNkauQKVg4jgOhmEBUIXIWG8vVaqKT1VRFQ2ATp/KyT3vcvbIad637XZue/gxguFyNFUCWaLkRXA9Ac/x8DyHUr6A6HqogkTRNklPwkBSpqpGoyYgUh7VefX5P7JxzToWdjahyhGmZnWiVWV0d7Uh+StITV/h+//2XXp7h+jo6iQ7OUhdTCUWUvF5US5dL7Jp2XxOnTrFu2+8xLPPvsQrL29nanIU0S4yt9KkuTFKrpDFE1z8/iCmK3JuOA9FgSlBoKDW/U0AINuugM+noCkq6dkk8ao4I1NTuI5ArDaAa9iYAui6TkSWEWwH3dRRJQ1JEXClIkpQxXEtbN3C81wc2cEzQBAkZFHFF0hijJnU1YbJJDO4epILF3rYt2snz/7PT/j7ezrIWR4f+8A25i5awC/PHkJWNQRu9PMJggC4PP3sb1jY0oYiFChO7kcK3kYsGiFZcNFnIqzsyFFe082J8xNcH5lBmfbhb4Mf/uAfGR4cw7VrWb5coJhPEY5V09bWxMh4PwIKQVlGKS9nZDLLL579E+/bsg7X9OPXwhj6OK5nMTMziWdbdHXWoyphPFEgqBToPX+RZRVVNx6mKlFRXoHfH+fatYvk8zma6huJRkK4todlWfhV3w2lW9cxikXyGZFQKITrmoRC4Hguy5evZHR6hDl1c9m5800Wze1i4dxGtrUvprK2EcsGq1jCLKls3bqV0YKBKIpc75+luiVCtBZcscCKxcv5/r5j7Bq8hiv5UUSHxLnz3HvHzdy8bgvZRA6ZMI2VPk7uOcrcjUtZsuFmpMZysDwSA30c2X2A00dO0j88SUNZjtbaZs5cGSAYDXD1yhBV9Q20ty3h1i1z+OLXf4+v3MPMyvz2P/4Dn2pSX9eAqMjEb1/MMz97GZ0AIb/MZz75IMWiDriMJy7y1K+PUBFN87WvPsLzO0bRpKuEIwHyps3g4CAdroAoCOC4KIoCkowrcOPkKQi4rsvFS+cIt3dzenKWtZXViKKILEm83HuaztQEe49c4mMbbyKbzSIIAoP5PItWLOM3uwb4+sN1fMka5dTpg8Qq5qOLfiJlHp5lIihBLLtI38WLRFQ/KSePbTkEQyJGogolUEZYgQ2rV2J7V2lsriQ1Ns7GTWt4b89+OmqqyWazLJ63GNPWCPhcQsEI+/YepO/KVVYsn8uFi5PcfPdqnn9lO4cPnWDbXeuZHB5m2co5FPMO773zJq11tThuCUwBVRSQRBianEK2S7TOixONyWzbOJ8dR8b/JgCQli9f+LiNQ8DvJxKJULTS5AslVM2HGlDwHAEpIKIbBoLlEIqFKRolPM/FL0qE5SCu5OEZDgF/CNVQsQSbkmUhuC6KYdHeWsutt2zm5OlBNm1cyvLF7ZSKJr988jfcuWUNjU0R/MEwra1NGJbAsgWdLFq7AV+kGk/0wPMIhaN8/fPf5sTlFPfevIrZ2TFw8khiBRYakhQilfeIaAanLw8hWSL33X8HF06P45VLmCkYuN5Dz6UefFoQ5AB6MUU2rWM7RSIRic99+v1svWUVqeQsoZhMjRbhfF8/0ViMxvYW/GqA5Uu6yGayXB8YJuQTyCd11m9YyUy+xNRUBkFRuGfb7Zw4fY7M7Ch1ZRGiMY1INMSFvhSyL4Dneli2TWU8QFBTcZQCvZfyWFYRRy3Q0VlFZ2ULB3ZdYc+u3bz/vg3Eq+MMDYv87sV97N93mEpNo7GpiqaGSlJGCVnVCEaiXB/IUd8Voqf/Io2hCGHV4vZVH6BDL7G0sYZGRWR9dxcRyyE3Nkn9/DJCiktIhlf+8hoLVrVS9Kf57//8Li3tlTg+m5qWEAs2zCFas4ANt61lcWszOjL+QCWb1i8GSWL76wdYtmgxY1NjeAIkpoqsWtjGXffcwZX+ESZGp1k0v5JTJ/vR1DCdrdX4vCJvvfon6qojJNJFrl2bRRTDLK5z2X9kDx3V/SSSGvF4jOOnelno0zBtG8v1UFXxBhWPxVAaaxElEdWnUVddTWZiHK/vGqIHjmMSDPhZXFNL45oVNNngeR7BYAAEgYgs8r/v7SPtlqPEq/jJFx/m+qTN+FSap57fRWtnE81VMSTRxafKtFRUYBkG046fr/70RZ544l94bcclPnT3KqKxcn7w1CFOnDpJy5xaZkoZdMtkOj1LKpuhtS5KeXmY8YlR3tp5llXLFyKKEs+9cZj3f2Ab8eYu5tR1cfD4FSqb22luq+Xwm+fpWLqUH/7Xyzz6yCPEYxLlEY14hUy8qhFBUli2sJ3Dh/eTnL5Ac1Uzt99xFwuWLeSpX/7ur4uAS5bMezxbKqBqMp4HatBPNpdF0RREBXySyLXpUXw+H45tEvCpGLaH6ELYF8YxwcYFx8U0TUTLxXJdioaBT5ZpLKuh5GRor6/kWv81hq5fprOji+s9vZTXNlMVLrGoqwHBs1EVFVcwkVUf0Yo6MpbI5LVeKiMCihpk3fJOHrxnCRYGOV1DKu/im0/sYteJSXYfvEpP3ykqKoKkp/PcvGU58ViItWuW8+Jzb1NUdPLJDHPaO9AUH9GoR1VNLTO5HJd6LvHgx+/jvddeJ6i5aD6D9967wuWefuoa5qDniuzccZzG+jgTyUGqy+qQRQtXzxMri1Lf2sBEsoBlCXiOzUMP3c+bb+1A9HSWdTUQCoXI5QoMjBeQFZV8sYQoinTPqUGUVA6dPEE2axEIafzg3z9HT+959r6xn3izn/lzF9LWUc4rz75AphREUmSu9pxjXlc3WDqulcUtFog11DM+luT8pRM0NPiYESyuDWbYtLaDxIhKkwgCArquEwhomGYJ2acgLY1xcTxB/+Qkni9EWpDR8xad87uZSWWprGvEFYNcOD/ET594moPvHuepN/u5855tpCZHiUTAHy5nfGyY5oZmUhPX+fQXH2LXjpPki2lKZpLLVydJlcapqrS4NpQjJOT4ly/eS6I4zdpNa1i2ZgPe5RT3L2pn68pOjo1f4DOPfpgVy1eyePESrlw+z94DA2ysiqAqMqosEwgFcBwbWZQQ6uMIsoogCliWzuzkBG/u3UdzIEzA78PnU1GWLeH07t3MBMKU2Q6SckMLSWoqfr/GkbEMBw4c5Zv/54PsONGD6wW4f9M8WqsC+GQRQVYwjBKWZIEg4Jp5bl81D6UqyHPPv0Bv7xlQgwyMpDENj9NnrnH+/DgXLySoqfej6zrXR00EeZpFzeV87JFHKRR1JEliw9pFzCZzYJSYzEywcG4XgaCIZUmsvHkFeLBuxRKeefUo/sIsjTX1SL5GwhVRQGRyaoLNmzeyafNdLFm2GlEIs/voZd55/fW/DgArVi163PU8sskspmlgSQZ+JYQSVCkaJoJhkbdtDMMiEtKQEJlJp/Fs8DwHUZIRJYFA0E+uVETBR8ks3Zjl9vuJayGCUR+aL0R3VzeCK3P3nYsRRIf3du9mZCrD2fOjiIrOmQt9ZLMFfv3cqzh2gD/+6i9s/8Mfiaohju3ZSUNDhOTYOAHP5EfPHmHPsUlcFyxDJ+iXKWQMaltMxkYm2HtkirfffId7t21m5fL5JMaHGbg+gaKpZFJ5qqurOHnuPIFAlPqacsKKTn1tjNHhCZavXMfVvlEWr1hDW3c7f/zTa5SXBViyfCn7j5zDs0U2LOgko5cIl3nUVjfRd20Y3fAI+BXef+8WXnjhVSIRgTJNIJXM4C+r5upIEsu2UXwqjuPSVB9hZmSai9evUSgFsB2LoaGDaK7GQ/fcgb9GxC7JZJI5nt/+Bi/vPMV0Ik3Mb/CJD9/N8PAo3Z2dFC2bkYkpro9OYtkekZYIpYEI164ksSrSRJPlNKg3LKg/PX6VDXPihAMhREmheUMXvVfHEGWZcFk5gm0RCEkkprMYlkE6W6C+qYarA8NE/UHaW8tZ+6EHSFzuY3JymI7OauLxGiQhC1aBjWsbSSRK+CM1pAsZqhtdOhdWc/ddbTz3zF4+9dlbGBztZcv6TbS3NRHUAuDY+M9egkKCcgVW3ruNsvIKqmqakW2DH/z8GIbtsrquCgkLy7EJh4NkbBc1azHqKaTSBUSrgGUU6Nl7kHDRwg7IbH7wToYnpklc6OWzX/gCp994CyOsEauNky4UqFRUXj9xnLLqWkRF4fY13fSPFBkcmaU5DJoiIssymk/FJ0LIf2NmTBQFFFVEqa3gd88f40c/+Cz/+sPXUENxUlPjSLKCKMp4nkNtU4SrfXk8BETZ4dnnDxMtr6O8PIxpmZy5cAWfL0plVQi/4seyLXwBH+fP99HcXEMoEMATPIauTTOTK7Jjz1na5zURCvnQi0Xmdjex8887uN4/zNF9J+k5d4F9B3roH7j01wGga3794x4SoiDgV/wE4gqzMzmKVgnX1vELPkqCg66b+FCorIij+v0IsgSmieBJ5I0iRVPHtVxkn4BpmMiqBrZNVSyKhU5loIJEMks0IhEJeIyPjVIRraa1qZz16xYRi1bTUt/JwFAWR3IRPJP62hjr13QxlTA5feY8hq1w+uJlpmctvvqdf+Mjj9zN3z2yjbvvu4tXXt3L2289wbK5awiLNrU1Lt//t+/Rc+4oqiLT2bmQQi7P+GyKuW3zuHjpDLogcPLAJVatW0wpY3G+7wrrN6zlnbePU1O7mFNnzrJnzzlWLl1EW3sbqewMTkni/OlemruaGR+dQg7k6JjTzL33fYKT5y5yrb+P+tY2UrMZ1t+0CCuXxHNdXMVHuiiRzRZRFB+O49DYEKWQ1xmbmmVkbJpCwWDZwiZGLkyy5Y7lnOy5SGIqTVUoyuzkMIeOXqahsYPVXWFS07MUMmnGZ2eoKvMxktLJ54psuq2bbKGEIU0j2jKlVJFty29BzdwQ/W7pmEtUkwnHYkiShNoZYTpbQpD8mJaLqkh4cogvPr6dD9yzDVmwuXx5EE0LY+h5fJ5IU3WEs+euYrsWmuwHyeHspQTHDr7B8dPXKTcLCDUagahOV10LHZ3/r7HzipLjLtP3U7mrc8/09OQgjUZplGzJSsg54yjbYHbNesHYZJaFBZb/LmCS2TXGYBsHbNY5gOUAtpGTJCsnK6dRGk3OPT2dQ+X/xXB2L+Guzqm7OvW9v/B97/M2gK2ze2cXc1oVFi7rIOiTCfjDxGJVtFVHGdx5BAQXTfcz65KVOIpEojZKvpzhG//ydb589z8w/N47SKIIgoCiSHiGycGxFPet28qmrfvYtuMEgpOmbypDLhjjzzuP8pfth3hj+w6CC+aw48wgvcYUiXkdXHD5MsKtLazvTeL4I2zdM0KuAZlU3QAAIABJREFUJFARRMoFizNDE8xrjmKaFQRPoFQq4gkGsmAj2QK2aVF2DAL1tfT15lmxYhZvrT+MoPlpbZlFKp1C9Fz0SIyBnnFEV8Z1XGR/hMuWzeLSS67g8ceeYunSBTz13G7+3/e/jKxXMzLQgyiIPLFuP3d//k4effhFlixsR5ZEPnj/fa67Yjnz57fgeSFkxcAfCDBrdiP53h4EM4c/6GfBzAQHjwxwtv/032YCeqKAUTII6n6qfDEML4uEgCArhIIqUl5A8iAY0BAVFdOyKBcrVEwDr2QRCYkYlkksFCVcE8S1bECkUDIIBUMIikzZtkB06ZxdjW06VIdjzGppIxRMEgkEUXA5sG8vjhDlwMkzCBWH85ctxCpNUtVSjVnJUN/YRHo8SSI6g4nBI4RjATJGHkcI4GHxp7ceBKdCTUMNN33hLl5/7AHefuNFJjMl/GdyXH/zKm665mLGkjbrD24k3thIJjvF7Z+5gprqNob6z9DQNpvd+3s4eXqERNomGg1hWRKHDx/kk9ddSyKqMdk7yrJFCcqGTVVDG22tLors56mnnkIUFe6//34OHD2IbdusWLGCd04dIJctI3ka+XyJYDCI5TiYpoksqeRyGY4e7uEr372Dc90j7Np1mIsuaEaRZLr7hlg8p44f/fxJnn/oPzBKRWa2xUmIFkfODRL2RVA1F0mSOHL0AE899RSPPv4INbMUxsaSXH/jRWzYsJXTvb0scBxs22ZgapCwrwbTNJnKZWn0aQiCRKlcRpJVvvejZ8FXiyq5fP17j+C5Bvf/4LOUKhX0mlpKWoTh8TzZooDnBRG0EIISRfM3M2kvRKnkOZsEy55ky4YeAmoa23ZxxBINTZ3sP6AwPvwRNzxzJfl8Fp/iYzCVxvO8/8Vf9Q4OMFUuce6cQ308hGGkMU0BMV6HkxxFD/jxPIHeZIaX9nRBqI6K45DOWQyMZFGCtbR3zCG19Rg333wr9YkaTp7Yx+DICLFYB70jOda9uwcEnVTBQpQCKIqC6Zr4AwkUvcgF8+cxPnaEhsa5eJ6NIwdpmdNJMD2MYpcZqmTIOCY//NenKE6O4pYuoaq+AUHSSWWHCYfDiKqGK+nE9RpwcoQTTciyTIk8//3QH/nKPXcwMZkhEpapTGZ57ReP03bVYqJRjU/dfCnPPPtLwtWNJKfS1NbEUKRqplJZbNekvi5Mc/MMHMehqiqB7neR5AC1jTWse30n5y1fzrtb3/pb9Y+oBhREQaJcrpAvFrFMD130ozgemWQR0TdNofELKpIkMJUsMTk5gaoIhGNRZBVERUZQYbKQJj2ZIpPO4jgOyDamYFJwDYZHejmyfwdaSKJ/YBRJkbErHkauwvjQKIVylK37+tm46wz+qmZOnOwhV6zQ3lGH6gvTd24IVQvQ1BLg05+5Cc9zcGxwHQtVVZFFkWPbthEMSNhOhVvuuIei7aOpro2Vq2cxNjKKLIsgB/niNbeycPlS6qI1DOSTFIpZtGoFSYRScQrPbxGvDTE0NIxtpmhpaWNwdJRUKkXZLNEyYy7dZ/t496OP2bm9B7tS5sy5bhyrzNZtm1i/fj333vtdrFKF2po4jU1NyKqOLPuQZZlwOEIwGESTBUZGRmhoquOBnz3N0oWtNDekaW2I4wkOCxe2EwnOYN+BbYilFORO0H/oTXyxOt7aPMQr7x7m8JGT6JrCrx/6JS+8+DR+PcZbr26lZAn85sFtRAI6guWgqj5Me7olJooiOC5+QSafz2OaFqIgE9BD9JwrUCzamMb0nY5ty3zvJ68hOgV0z2Fioo/DR3s41T3KwcPHGRtNse7NnXy45TDRaILG5gZ2HU9zZNcoMX8Vrm2gqRaKJJHK5qipSbBs5TWkp6YI+Cwka4R8cRRBEBCQAdD9Co2NjXR0dIAskU8O8Ill12CnxhBFkXKhiOd51PtUCi6UkgPoYoZYRCAaCbFp0xEe/e0r5KcsfvvEa/zgF0/x6vqjFMoumqZx7NhZ+gYm6esfIShL+Pz6/xbEH1/9gGK5wHhynAs7ZlMdDCJhE/AUTu7fSHFiDMED0XZpCwfY9eGvePO1R/jqD16iNNlFQ7OPbevvp7VVZ8VVl5Men2B44CT1EY2I6pBLDnL8yBnWXt1JpWwjyzJ/fuPnnOnZySPv/nF6VZZVdr6/gRrF49H//hzV1dV4nsfL7zxF85xZSEKIq65aQ093L7qu87vfPMRgcoKaWUuJtl7IR+cMnn75zb9Z/ACigkq5UJ4e97RcJBtUn4ppuyQiMfJOiVAogCTLuEULD5Om+iawRRRENL+OJ7iMjCbJ5gqEdB+haABkj5JtTve6HQsz4KDocYa7y7iITBTB0T3yhsHEWJYX3j/E3iPnCIXb0FWBQNBHU0sNY0Oj2EaGjuYoMV1h8sxxlMooriiAUyGfzyMIAqLgMLchRM/6twhkxtC8LPFqga9845MElSyxUBDPE/jtYy+y62yOF373DmnZZEHbLArZPKWCyaz5bejhONXVEU6dPUVQF1myeCF+v4/J8Sym67FyxWqm0nl6epKcOzdMY0MMBIt4TQOpdJpkchzDMPjwwx28v3EThlVhPJnBdm08z6NsGGQyaQzDQNM0ahoSLFvZxsLFs7jvp+/QfSzO9s3dDA0NseX9Q8iCSkOiAT0Y5c5P38ANV63h5w88zXDvC+zc9gcWdM4hoPrYtPl1LM8gVhXgE2uWUVM1k1htnoGhAkHFh+NY6IpKJBJBUadpvAWjTCQYwq8H0XwKJaOCXhslXhMG00YSfIiyhoWLqqtEYj5WntdJMj3FN7//byyc24rnCSxbeh5OOUtIGmLxrCrqWkzeefprLF57K88+/30OHHiVw/vXccHSBvZ+fJDbbryYyaxFT1+BY939nDo9iCRNm1csw2QqV2R8fJzU+DiCIPHZLz2AKtVQDoYQBAGfrqAoEoMVh+aGGKtXr8QwDHRdo1RxmMrkCQaTVCpdtM9K45SKCI5N55wO9u3bjT+oE6+J0tzciKZplPNpbMdEQkDWJXJ5B0lRKdkmueQQgqIyVhihpraKSkhjwqwQjEZRRYE7v/gSv35yPZIrcXT/u7z8+L8TUnz8/Eff4TufXsP7659gx+aX6WiWKI8eJGSl0dQAA3llWuxUnTu+8FNEsYrFay7FcwVKpRKRiMR1193KQw8/RSlfwLAc1t70Rf78l/3sP97F8a6TCIIHroeTy5LKF3nl9be59rM/ZHS8woKrP/t3CYBcqVhEoiFShRyeND2plisU8SQJx3EolQxK9nQQQ0wJogUkypUKFcvGtYq4xTSi5yDJAprskq4UUTQZwzTR/RqKJGKUbbywjeST8YV0XK+Mz+ej96zDyTPDzJzRyLaNj2K7HrquI4sCTzzwIKokc66/j+pEAsGxCQRdamfOZ8/BU9x0qUumv4dZC8/HFBUqlsPZ/n6uXbwEpzbO7d/8OvFYiP/8zk+5YOlyjMoQ7fM6+PmP7+Cfv/YwVYnZ2BMuH/WdonNmM5lRh4+Sh+jvGufmW29g5+6PaKxNsG//Lvx6hMaWdvL5Mu/tfZeEVIMQjlMdLbFo4TLGRoaRRJ1I2I8gSKhyhN27d3No+3quvGgRDfVNpEwJyysjAhVDwK9rCIKH5gvy0pPv8YUv3cLy1RYTw0nI5ZE0nbroXCzDz4O//iFXze+kaBb53LcfI+BT6TmX4rU3NrJ8ySK88iRbtx1kQedi8hmRyUySwaEUY/0hLrmkCUUAHBckqOTyWGEVRdZQFAVXmE4hMgouF6xYTav+DG2eydWfvII5s2fy+LMvUfAHOHSql8Wzm/EFAqQG+jm951065zRiWQabt21HD8ZYtaiRDzf/iRuvv43vrxslm0zxu/dknrv6eiqpQS64/Ksc3PkfvLdhM3s/7uHR+27hjQ/H2L9zhHtXtVE2DcKAXw8SiVeRGp8iFoly9Ngp5rclCBeKoEgomoLnebTGwtwSn8drx86SqI2RyY0Ti87lp7/4LpIwQDg+H8e1qInGmTuvkz/8/kGuuuoS8rkKsiryu2fWgygws07BMOxpMSi6zGqvZnjS4T+efAXTNfi3z9/KudMDzG1ejGVZWLLExGSGe5/bh8/vMZWVEKUMjp3jyw/sQTVthOI4Um0LVaEQ5tgW1r2xj5tuvpCju/dx+RWXk5g1G7c8TMF0aV90K29v3IHsVHDF6cCdxUuXMXPxcn7/4p+pa0rTGm7mZz+9j1BlH+VCnrxZoaW1Cdt1uHDtWlob23Adh/O2dPH7Fz/g5I6Nf5cASPPmtf/Yc6BsGyRiEeSQSz7jYlCBiocW8GE41jRwwpaQ9eniLhkGguNORxNZJepqE8iuh4mF4CpkikUUGcL+AIVyhUggjONUCPnj2LaPD7ec4NjhblxJZzyrcvN1K7A9F9eyqVQMnn/iRcZTRc5f2IRpBFm0qJPJYpGRkQzZTIaZLY04J45x7OBRmpYsQvcruLkkJ/fvxamKcezAEBEtQk3QT6iqBsc0KZYqyKJAvCpAV1cfq5YvZuOmg3zu7nsYGBiko60dK5ElJAWxLYNQSKOpsYX5CxaA4LBg/kJyOY/+4SFa6xMsmBfjL+v3ccXV5zM4XEaWRcJhnXyxREAP09Icpr0lRqVSAV+MscnprevZ/j4iAY0ZTTEmRlM0tFdRn4gg+ZLkyoOIepj5zY3sP9uPg0OxWKYtHqSmKky0McELLz7D2MQoV195MV17tzCenEKqi2JmJbLZAlUNAuHqeiRPRlZV5oXq8FXKOK6HrrjE49WYtolhmNSt6mAkmaVYLFMsm6ycKLCgOkIpX6DaybGypYHOkM7atdewp3uUSEjj3Q+OoPp0GhvrOXv6LE1tiznd08fuo70MjWqcPDvFPRG4ZUYty6wU3//DPm6+spPn3jvK4JGDnDg1jCeq9Az2c/hwirEi3DgzhiJJ+H0+nty4ifaOeSSncshChUXxBnL5KRIBHV0ATfMhSh45QSA5McHpfI65M2ehijYNTbW4epj61nYUTSYU0lE0hVRmjKnBHiQRgiE/yYkxErU5Ll1VgyIZdA9M4Qk2l65soaamClHW6TszRkDXWNxeT0dbEzdefTl9A33YnkBRreNI7xDP/P5HVIdOs2rJfBatWM2ly88j5Jzhrjs+werFrVyyrIUP/rSOl1+4n/4zfcztmEEsGqDDGGfEBtdxiYVzTE2c5itfuoNCvkI0GmVq0mLbjg/JlCUuW30eB7tO8+pzDxCPiVRFaon4ZCRVxpUVdFGjaBR5Z+NBImEfu7YdB6dMLtP/t70Aiq5guNPnaM8E0QxgGGVEycXvD1IypqGUoigiShAITg8HGYZB2K9BQEKUJVKpFI4IkaoIFi7hcJjGUAJV9yGrCpVsmXh1HbIQxLBEfIEqEok42akSUMFUJXK5HFPpFNVhP5+6cQEL58JVV6xmsO8MJ04cojg6hlMY5rOfuRq5pZPYjZ9h7rVXTm8dLYNTx09SW1vDojmtTEkp5rbX4noimUyGickkPV19lEsl5s+eg+xl2blrH/XVNXzru//CmeQgu0/vQC3G0Ks85s1fTCUQIJma4OzAYXKFIoMj/UxOnGV4KEko7GPn9nO0NtdPhzqUy3+dSJNQRInkVC+KT2NibBxVkcnmJ6ZBlrZFW1sbjiegBiJMlSw++uAk+/ecZvPGA5xLVrCDIvFEHeef18HqlavY8fEeqG5i34FuLr/5Cxzc+Aoff/AOiuzw+1e2seFwCk8KMXNWLan0EJJg0n10AE32c2TfCQKaD6NQIhaJ4LkisjyNjJZlefquxhMJ+v2EfSb+UJCpqSla62t45u2t0xx+D6pqqjh29BS6LKFIFSqVEgcPdTGrYwYrlzajlEssWTKbqlgQ0ywR0QMMpjNkKmW+97WluGYWX7GPeFxh0SwPQdE4ck5gsgK2a6FJ4rSt1u/jD+ue5+rL13DRyiVYdoXP3bOWe791NwMTvay541au+fZdtF9/OUJUIh6P8947b9PapLNy+RIEVGbOakdRFGRJQpKkvz6rHDt2DNOGUtmirW0m8XCQ8ck8akDHdUt88uJm6ms9AkEZ17W54apGbr9+OSYSmVyWHXv2U/FcLNPDkOGpB79JUPdx/fVf5vq1t+FXbQZP7WP1RRdTXV3Nw795BN0VqYtXoygCM9vqqUskOH7sAKYDoVAIEYfXXn6bGQ31/ORHv0VVVXK5HB9t+oBvff5TeGaBUqnEiTPjLLzgGoyKSbaQxqd7WOK0A7JjTiPPvrCB/V0TPPnM68yrl/lEZ8vftQMQk+lJkKVpEINhUCqVsGQDVVUI6xKeboAk4gllfD51uuVXKuFXfdTVNaAHfaiihO2YFIwS5VyZXLFAqVJGkiTGR0YJByP4tCiTYxPknDITqQLbt3xA33AKS4D+nl5efeFduo7389jDT1Oc7EXz69TE2shOpdiy7TADw5MEmlv55299je50iYppgWsjK9OMfVlQSSQSVEWrKRdNXn/4Ce7++j+RShcpFAo0t7Ww9MK5RKvqePvtt1kwezYLOudRFdNJ+JtomxFFtQJYlk7X/h7OnTuDZ5lMVNKkMybvbzrK5m3HWDCvjn+752Yke4KWJh/RqEehZODz65RL0yZsza8RDlURCkWoisVIJkepVFxc10HwJCTHQlJkdNEll89juxLjKWifMZtIUMHI5tADfsopjy0fbmPlqgsZGT5LTXOEqWPvgWsRrPPYvO5Jbrt5NZ++sYV07zjDQxMsXHA+A4NZ1IZRuk4e5fDRzUguIIkY5QqOUcZybMpGBcMw8CQVTdMJhEJYpohjeMiSxFTO4B9WLSKbzSIIAuWpUYxyBhSVpvo2qiJ+plJjzJw5E8MYh0CZfR8fomAME437GE2OE3AlDE/AFOLsP9pN8dxeFi9aysJ5c7DNCuVCFtuVUBWB/962E1GRMW2L7rOn6Oo6zYmubnRflDc/2sBHJw5y679/iV4rzRubNvPsmy+xcu1FlJv8vPHyr+nsaKWhMUA8AXWxMD5NQ/CmcwK8vzoFZ82aiSh4GI6DbbmUDZNotIp81ubLd19EOllhaPAgixd3cNmVy0kEQwiWhf5XA5wiSsieAIJNwprg0Pp1/OMdt4MxwMOP3U+5YDFv3jwGxrOs+9N+bvv0Xci6zKLFncycPY9YxEdNTYDrr7gSLVZFuVzGH4xQKRXw+WNcd9vtGIZBrljiJw//ign8nD3djSuIzGvv4ETXABt2DPPkK7t466M8nieBbZFPZ9i94yTnjh2nmJmirTnB0gWz/z4BiIZD+GSFcDiIKZhMlXOUTWOaP+8YzGirxVUNqutiNDc34ZMkFEFEcF2GR8YYG58kaxhoWhhVVqgUTVRRpWKY9GeGsSUBigL5fJZc0cEpmtRXS3TOncVlF67ErznEYz7e+/N6Xnz6VXZufpudWz5EVVUUTWRoaIg7/+laVq2Yy23XLieqalyz5gI8QcZBwZE0uru7kUSXmuYGdp8+iyqJ+GSDkKXiqTa1VVX4/X5UByYnh6iqTrBy9XnI2AT8IWzT4OgH+0nMbsL0Z5GrIkx5GSaFKZSAjilVEY3FGRrJIioSR/dtprO9iYvWdNJYLVM07Gl7rSggSRKSpKBKfupr4zTWxomGY0SjfiQRLHcaae16IpZdorbah+0KDIxMcOBYmfr6CI//+r8YS2UxpUmaOxPMmtdMJCYxke2jVBplfDRJjRdCEn0snh8n6g9Qv8Bj+ZpVGOIwruenKbgKNSLz6P/8hpt/eDmfefJrXPfY3ci3LOGSB+5mzU/u4or/ugvXE0hlcwioHPj4NKIookoqEhLZShYA27aJhUNsenc9ZavA4PAk2dwECxfMZsfuXQiWxG2fupELVnZQVZMgmSnihQIsWtSJT9UIhkL8+sVt/Nd932MwO8lo2sayTHRFQigXsS2RSlZAVhRUxcc/fe477Nq3l+7+s0ymc+TyNpJSzdCkzlf/8xV2do1xZkzhF7/dQCgSRNNUPNEgEAjhlqf/XRFh+tK1WEHwPDzPY0ZjiHAQamM+Wtvq8USF/r4h2mbWUk6mWXS+R/uMRk4c7uUvr29F8ALofg1cmwd/9zzuX1dcTVMQPBdVlmif0cEjz25kfFygYomEgjJdx49zrGeCd7ds4U9vv4ogymzYsAHBybHzo+1sOdrLNx5+gaJhcezkGTYf3EfZsnjzzT8iiiLhgJ/NG97mq3d/m+uuugTXdRHcImvObyVaFWflgiawzqE6FXbs2INUSOGPBTmvI8Lnr1vDgQODyPj/PgHIF00KRpFiroxreLiiRTQ4nWzjWtPQg+paPw4W+WIS1ZFwEZEFEcEn4LrgU1Qcw0R2HERZRvIgGglT5Qth5U0KZgEtJqGJGuFoNeVykYVzW8nmR3GdNLNnNaPrIaCA4AXpG8rQda6PkmnQ1NTCeGqSQtbmpZff49En3sRxJBxJAFFAklWefvp/MIwKDTMXctE111Is5PjZw4/wi8eeYuWypVRFRYxigUAshq4GwHUJ6CJzZgRoSEiIisjCzoVs+NM2nP4SvWeHOH/hPApDWXxKhFNHTpLJ54jHE/j0IDfffi0lI0fXiUP4KKCoOpY1TUYyTRNJmo6oMiwXTw4giiICMqInIuHh8/mQBRG/qjI+lgNxGug5MpBi+GyRO//1y+iKTsTfxtuvvk26t8DklEF1XTMlwUSK+hlIj5I0xtl/9GNODJwl3Zvmg0Nv8Np7OxkaNti7Y4D5i0Isn9PJs7//H17+4/M89/yLvPzKdl55+i/c89V/ZWJqnL0HzqJpGqVyAX91GMeo4Pf7sa0siVgNgiQRDofZc7KPi6+9jp/95DEMp0wmJ7L/yCDpnEDFKLLpw3eJ10QRsbnzlpVEcLHU6WIJ6X5uWdXMpg27cZxxJs08//6jVdi2gydUSMSylKtlYqEQpmPzuyfvx+dBRFPJTaXRdZ2yZZN1K9jZMheu7qTrnIEih7nv4b388OHDVMoeiuxD0v4Pf6aIMpqmASAJAuXi9OitKsvk8mk+c8ttxOJzOH10gNGUxrHjJXrHgwQjIaaSU0wVJihbKj5FwjJFXn53P0XDJJPPUXYcBC3AqZOjxKsbWXh+C//4uR9Tyk9y+w0rufWKOXzjM1dz/XXX0tK2kEXzlhBqmsH2IyOUtTjXXrscx7KZ2drGz++9j/2bDzJDVnFsDxyYP38+Nc2t7DvwMTg282c3EonEMPIZVp8/hwuXzUHza8yZMwe9bgYXzAhw7OgozbMb6cvm+d07H/19AiAIArligWKliCyL0+0U2Q+GhyjIpLM5SoUipVIJySdRKNlURUOoMR3Ts1B92nTUlc9D1/zggG07uLaL54gIsoSkOtjlNLW1Nfj9/ulAjLDO5OQkuXSO5uYWggGFoVGTppmL8NQESqCewTGbw0d7KBGmLDnc/KmbufqShYTjCfyVFKpjEhDL3P/dL+G3SiRqwjiCw+PPPc9Ab4b33vqIfXsP4A8oxKI++oZ6+faPXuTKq9eQHz/M1r3HCSoOd915E8nhfr5z9z3cdMMVzKpuZLS7wuyqTkYGbfyaj5mzm6mui5PNy3T3ldi0c4A5c+bQPnsxY+PjuI6F6zioqjptW7VMykaJnqEMoVDofz+46wkIgkSxVCIQCGDZhf9757rsPzTB3AVzQXc5c/IgN1x9KT6/jaCqDE1l2Lr7HMnyMIGqEFPZHJFojJJRorW1GV3X0X2tWHYZ06zw3X/4Is1ahSsvupJLVy/jWNcRjp0Z4L2du2hqX85UoUAsHqNUKrFw4Xyqa+LImoplWfg1FdOdXjlt26SutRXDsrj3R1+jvSFKIlGDZE2xZG4jtU0JbrvhVvbvOcLMBp11f9xMxfLoPXEcWVXIix6fvfMf2XTWYt7sWiLBcf7yp5184rIGqqIGTfVh5iyZ8de8P5njRz7mzLkhduw9RsmYHhD61X1PkBme4KGLF/Hac4/z4IJ6Xn36af7w6g945Je3k82VmMzkCWk6nifgeC6WOz385Pf7iEaj6AEfojB9vndsk/HJMhet6GDtLTdy4w2Xct11t7LvsM34+DilSpoVc2biqX48RSYWE1mzsp1wdQAvGEasq+PBF7ez9vbb2LfrFI8+8Gf0qmo8x8G1NUYyAs+/uYdwtBVH01lzyVq8/DAZK8+ejR8ykncplIqMJ1P84N4fkKHMzjO7MQyDfLHIL+79f3Qf2kxTQxQ8D8Ets3HTB/zz2jW8ufkI/eM2B/Z1UZuoJxTWGDZVZHk3CxYtmPY/+MS/SwCkBSvn/jjqC6BrPor5EpLPh1BxcQSPQEBCjEk4noTnOFT5IlQqJfI5m7ydo62lkTN9PYRUhaLtoAU0NKYvWQwqVEWiiLKH4zpEfTGGRkdob5+HaZv4NR2jlMe0XfoHB6mrj1Eq2oT9EnHNRBMlHCGP7YQ4dm6AntQAWzbvpyc5ws7tB7j26jVIlTGKk0OEfRIBn8TnP/9Nli+bR8+5XsIhH3knTWtTO4cPddE7liRXMJnRXM/J40fwlBCVXIGlS5eg+crU1jWxafN2xqfyLD5vEa+/v42xosnoVIaCUaFieAREH6JcpG94AlUKY5o5rlg+m/5Jh1TWQpUkIhE/yVQWRRJZNLeN9OQUIZ+Ao0UZHctjOlApFZCA8xYkOHT0NOMZk/p4AAFoaq7D1cfpTMwmNV5hJDmJpscJaRKWnaW2ZjZybQDT8XDECgWjTCJRy3B/mUqxyNYd3dRGE5RNnapggAMHu1i6dBY7t+8komr0jRbp7jlNNjfF+k1/4ZKLLkYSJTRV4wvfuI8rahvQVA2nbOIPBJBkEVEQ+fKvHmJgdJi111/G/r1H6WgL4FpFGmo1Av4g694+QnpimEoe4lR4aNsLtF9zIbWf6GRqdAxZEHhr00EObjnN2iWLGSkqKKqFpjnYnsI8WWRF+xwsy6QwcwmyKDJ/TiOpqSKSJHLdJy9k/+AG9ozBpYxDAAAA9klEQVT3UaoReHjbfpavWMzoRDcbt73H4s65SJJONKzji7VhmBV8Pg1JnrYQS5LIWPdJBFnDshxM08E0LIpll0oRcuUMA6f7mEiVueyiTta9fpgLl9VyqHuYttooh491sWrVCqolCcFzeHfLHixDxDUKpKbSVEcDvPTCT5BksEyLzdv3EIo3UlftMZk2yKSGSE6MkRwtc9c9t/PaH9Zx6WVXUC6W+ddvf4s18xbxrf/8JcuXL0BXFbp6J/nxF69H0lSqEwkUSWLrrqOMjA1RWxXmE2sWE6nyo+l+jh3YSV19Aa/SweaPNlFVpSIrE/T3j/7NLsD/B1YEIxeeNWaGAAAAAElFTkSuQmCC",
              "ok": true,
              "headers": [
                [
                  "content-length",
                  "98751"
                ],
                [
                  "content-type",
                  "image/PNG"
                ]
              ],
              "status": 200,
              "status_text": ""
            },
            "http://localhost:37493/api/tiles/15/5299/12577.png?&filename=%2Fcontent%2Fdrive%2FMyDrive%2FEarthEngine%2FEarthEngineDownload%2FGoogle_Map_Image.tif": {
              "data": "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",
              "ok": true,
              "headers": [
                [
                  "content-length",
                  "35734"
                ],
                [
                  "content-type",
                  "image/PNG"
                ]
              ],
              "status": 200,
              "status_text": ""
            },
            "http://localhost:37493/api/tiles/15/5300/12578.png?&filename=%2Fcontent%2Fdrive%2FMyDrive%2FEarthEngine%2FEarthEngineDownload%2FGoogle_Map_Image.tif": {
              "data": "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",
              "ok": true,
              "headers": [
                [
                  "content-length",
                  "72618"
                ],
                [
                  "content-type",
                  "image/PNG"
                ]
              ],
              "status": 200,
              "status_text": ""
            },
            "http://localhost:37493/api/tiles/15/5299/12578.png?&filename=%2Fcontent%2Fdrive%2FMyDrive%2FEarthEngine%2FEarthEngineDownload%2FGoogle_Map_Image.tif": {
              "data": "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",
              "ok": true,
              "headers": [
                [
                  "content-length",
                  "25481"
                ],
                [
                  "content-type",
                  "image/PNG"
                ]
              ],
              "status": 200,
              "status_text": ""
            }
          },
          "base_uri": "https://localhost:8080/",
          "height": 821,
          "referenced_widgets": [
            "a70b9ea19d774593980a51f0dab20837",
            "7f36e124c8f649bb827e0f26af930cc3",
            "e798088fc254421ca549e9da2e9d8893",
            "e1d143fcbad14cfd93633afb8ec95aa4",
            "381d4782cf144832b8a3f874b62e1967",
            "1f7571153f48478a9f017b6f8a722edc",
            "9309b64c6bb24f29aca0924f0fba771f",
            "5192aa383f4e4135a64cea279d325edf",
            "9f5cd4280e464537bcf0c0989292d524",
            "f3449dab4caf415aaad24c28cf8938f5",
            "47bd6a9a7884423f8c689030b056fc55",
            "2664f7d16cee4d779e2300bc081d77c4",
            "9f031f2270a449fbbb508a27b5faa004",
            "66c494be4d3f4de2a8eb6691366be34b",
            "5b88100dcae54960a164d35ef2a44cdc",
            "e50674dc26b24d60ac211a0991dcd7be",
            "69eb1b78e9554c3ebc01a7b3b7a57588",
            "ba1d93b98e4c4847b9810e4d229b80cf",
            "4c8b1391756f483b80dcb711d5621f28",
            "2a8a080fec15449e8f7c61d57c0c3f1e",
            "8b8f57846079434aa9a8b900b5d86d1d",
            "17bf51d714824aaba9c74216bea379e8",
            "a72cf093252441e199bfaae48e02252b",
            "56c643edb22243468d4308e3b8cadb4a",
            "f3a54db55ebf47dc8b8d7dc62d5e663d",
            "4c2c6b7629eb451faebd0a01abf1012f",
            "11f6c9efa57241c198876114b9fb0524",
            "9c01c01d379c444096dc89f71e36062f"
          ]
        },
        "id": "TDKqVlE88YOS",
        "outputId": "1a6cc370-fe25-42e7-b8c2-98635a7a152a"
      },
      "execution_count": 4,
      "outputs": [
        {
          "output_type": "display_data",
          "data": {
            "text/plain": [
              "<IPython.core.display.HTML object>"
            ],
            "text/html": [
              "\n",
              "            <style>\n",
              "                .geemap-dark {\n",
              "                    --jp-widgets-color: white;\n",
              "                    --jp-widgets-label-color: white;\n",
              "                    --jp-ui-font-color1: white;\n",
              "                    --jp-layout-color2: #454545;\n",
              "                    background-color: #383838;\n",
              "                }\n",
              "\n",
              "                .geemap-dark .jupyter-button {\n",
              "                    --jp-layout-color3: #383838;\n",
              "                }\n",
              "\n",
              "                .geemap-colab {\n",
              "                    background-color: var(--colab-primary-surface-color, white);\n",
              "                }\n",
              "\n",
              "                .geemap-colab .jupyter-button {\n",
              "                    --jp-layout-color3: var(--colab-primary-surface-color, white);\n",
              "                }\n",
              "            </style>\n",
              "            "
            ]
          },
          "metadata": {}
        },
        {
          "output_type": "display_data",
          "data": {
            "text/plain": [
              "Map(bottom=402844.0, center=[38.531549999999996, -121.76910000000001], controls=(ZoomControl(options=['positio…"
            ],
            "application/vnd.jupyter.widget-view+json": {
              "version_major": 2,
              "version_minor": 0,
              "model_id": "9f031f2270a449fbbb508a27b5faa004"
            }
          },
          "metadata": {
            "application/vnd.jupyter.widget-view+json": {
              "colab": {
                "custom_widget_manager": {
                  "url": "https://ssl.gstatic.com/colaboratory-static/widgets/colab-cdn-widget-manager/2b70e893a8ba7c0f/manager.min.js"
                }
              }
            }
          }
        }
      ]
    }
  ]
}